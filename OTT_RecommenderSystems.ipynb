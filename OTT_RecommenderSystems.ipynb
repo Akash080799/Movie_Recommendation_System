{
 "cells": [
  {
   "cell_type": "markdown",
   "id": "397e1e5c",
   "metadata": {},
   "source": [
    "### OTT- Movie Recommendation System"
   ]
  },
  {
   "cell_type": "markdown",
   "id": "5ce4551d",
   "metadata": {},
   "source": [
    "Create a Recommender System to show personalized movie recommendations based on ratings given by a user and other users similar to them in order to improve user experience."
   ]
  },
  {
   "cell_type": "markdown",
   "id": "517306b6",
   "metadata": {},
   "source": [
    "**Dataset**: https://drive.google.com/drive/folders/1RY4RG7rVfY8-0uGeOPWqWzNIuf-iosuv"
   ]
  },
  {
   "cell_type": "markdown",
   "id": "618add09",
   "metadata": {},
   "source": [
    "**Data Dictionary**:"
   ]
  },
  {
   "cell_type": "markdown",
   "id": "e6fb7c85",
   "metadata": {},
   "source": [
    "#### 1. Ratings File Description"
   ]
  },
  {
   "cell_type": "markdown",
   "id": "65a6f74b",
   "metadata": {},
   "source": [
    "All ratings are contained in the file \"ratings.dat\" and are in the following format:\n",
    "\n",
    "UserID::MovieID::Rating::Timestamp\n",
    "\n",
    "UserIDs range between 1 and 6040\n",
    "\n",
    "MovieIDs range between 1 and 3952\n",
    "\n",
    "Ratings are made on a 5-star scale (whole-star ratings only)\n",
    "\n",
    "Timestamp is represented in seconds\n",
    "\n",
    "Each user has at least 20 ratings"
   ]
  },
  {
   "cell_type": "markdown",
   "id": "524d1221",
   "metadata": {},
   "source": [
    "#### 2. User File Description"
   ]
  },
  {
   "cell_type": "markdown",
   "id": "1eeadd27",
   "metadata": {},
   "source": [
    "User information is in the file \"users.dat\" and is in the following format:\n",
    "\n",
    "UserID::Gender::Age::Occupation::Zip-code\n",
    "\n",
    "All demographic information is provided voluntarily by the users and is not checked for accuracy.\n",
    "Only users who have provided some demographic information are included in this data set.\n",
    "\n",
    "Gender is denoted by a \"M\" for male and \"F\" for female\n",
    "\n",
    "Age is chosen from the following ranges:\n",
    "\n",
    "1: \"Under 18\"\n",
    "\n",
    "18: \"18-24\"\n",
    "\n",
    "25: \"25-34\"\n",
    "\n",
    "35: \"35-44\"\n",
    "\n",
    "45: \"45-49\"\n",
    "\n",
    "50: \"50-55\"\n",
    "\n",
    "56: \"56+\"\n",
    "\n",
    "Occupation is chosen from the following choices:\n",
    "\n",
    "0: \"other\" or not specified\n",
    "\n",
    "1: \"academic/educator\"\n",
    "\n",
    "2: \"artist\"\n",
    "\n",
    "3: \"clerical/admin\"\n",
    "\n",
    "4: \"college/grad student\"\n",
    "\n",
    "5: \"customer service\"\n",
    "\n",
    "6: \"doctor/health care\"\n",
    "\n",
    "7: \"executive/managerial\"\n",
    "\n",
    "8: \"farmer\"\n",
    "\n",
    "9: \"homemaker\"\n",
    "\n",
    "10: \"K-12 student\"\n",
    "\n",
    "11: \"lawyer\"\n",
    "\n",
    "12: \"programmer\"\n",
    "\n",
    "13: \"retired\"\n",
    "\n",
    "14: \"sales/marketing\"\n",
    "\n",
    "15: \"scientist\"\n",
    "\n",
    "16: \"self-employed\"\n",
    "\n",
    "17: \"technician/engineer\"\n",
    "\n",
    "18: \"tradesman/craftsman\"\n",
    "\n",
    "19: \"unemployed\"\n",
    "\n",
    "20: \"writer\""
   ]
  },
  {
   "cell_type": "markdown",
   "id": "96284559",
   "metadata": {},
   "source": [
    "#### 3. Movie File Description"
   ]
  },
  {
   "cell_type": "markdown",
   "id": "6a11d71e",
   "metadata": {},
   "source": [
    "Movie information is in the file \"movies.dat\" and is in the following format:\n",
    "\n",
    "MovieID::Title::Genres\n",
    "\n",
    "Titles are identical to titles provided by the IMDB (including year of release)\n",
    "\n",
    "Genres are pipe-separated and are selected from the following genres:\n",
    "\n",
    "Action\n",
    "\n",
    "Adventure\n",
    "\n",
    "Animation\n",
    "\n",
    "Children's\n",
    "\n",
    "Comedy\n",
    "\n",
    "Crime\n",
    "\n",
    "Documentary\n",
    "\n",
    "Drama\n",
    "\n",
    "Fantasy\n",
    "\n",
    "Film-Noir\n",
    "\n",
    "Horror\n",
    "\n",
    "Musical\n",
    "\n",
    "Mystery\n",
    "\n",
    "Romance\n",
    "\n",
    "Sci-Fi\n",
    "\n",
    "Thriller\n",
    "\n",
    "War\n",
    "\n",
    "Western"
   ]
  },
  {
   "cell_type": "markdown",
   "id": "aa094d2b",
   "metadata": {},
   "source": [
    "###### Importing the necessary libraries"
   ]
  },
  {
   "cell_type": "code",
   "execution_count": 1,
   "id": "84e65fe9",
   "metadata": {},
   "outputs": [],
   "source": [
    "import numpy as np\n",
    "import matplotlib.pyplot as plt\n",
    "import seaborn as sns\n",
    "import pandas as pd\n",
    "import warnings \n",
    "warnings.filterwarnings(\"ignore\")"
   ]
  },
  {
   "cell_type": "markdown",
   "id": "5f4d0267",
   "metadata": {},
   "source": [
    "###### Importing the dataset's."
   ]
  },
  {
   "cell_type": "code",
   "execution_count": 2,
   "id": "33aafd81",
   "metadata": {},
   "outputs": [
    {
     "name": "stderr",
     "output_type": "stream",
     "text": [
      "Downloading...\n",
      "From: https://drive.google.com/uc?id=15QeQgmjoeBxRDEOFPSrMr8eIvwk6QgUQ\n",
      "To: D:\\ScalerFinalBCKUP\\Recommendation_systems\\zee-movies.dat\n",
      "\n",
      "  0%|          | 0.00/171k [00:00<?, ?B/s]\n",
      "100%|##########| 171k/171k [00:00<?, ?B/s]\n"
     ]
    }
   ],
   "source": [
    "!gdown 15QeQgmjoeBxRDEOFPSrMr8eIvwk6QgUQ"
   ]
  },
  {
   "cell_type": "code",
   "execution_count": 3,
   "id": "c5bdd971",
   "metadata": {},
   "outputs": [
    {
     "name": "stderr",
     "output_type": "stream",
     "text": [
      "Downloading...\n",
      "From: https://drive.google.com/uc?id=1XJpSzv-UMeSmCCOdyZviRF4XCxiKJUrk\n",
      "To: D:\\ScalerFinalBCKUP\\Recommendation_systems\\zee-ratings.dat\n",
      "\n",
      "  0%|          | 0.00/24.6M [00:00<?, ?B/s]\n",
      "  2%|2         | 524k/24.6M [00:00<00:05, 4.10MB/s]\n",
      "  9%|8         | 2.10M/24.6M [00:00<00:02, 9.53MB/s]\n",
      " 13%|#2        | 3.15M/24.6M [00:00<00:02, 8.10MB/s]\n",
      " 21%|##1       | 5.24M/24.6M [00:00<00:01, 11.1MB/s]\n",
      " 28%|##7       | 6.82M/24.6M [00:00<00:01, 12.4MB/s]\n",
      " 34%|###4      | 8.39M/24.6M [00:00<00:01, 13.2MB/s]\n",
      " 41%|####      | 9.96M/24.6M [00:00<00:01, 13.7MB/s]\n",
      " 47%|####6     | 11.5M/24.6M [00:00<00:00, 14.2MB/s]\n",
      " 53%|#####3    | 13.1M/24.6M [00:01<00:00, 14.4MB/s]\n",
      " 60%|#####9    | 14.7M/24.6M [00:01<00:00, 14.8MB/s]\n",
      " 66%|######6   | 16.3M/24.6M [00:01<00:00, 14.8MB/s]\n",
      " 72%|#######2  | 17.8M/24.6M [00:01<00:00, 14.9MB/s]\n",
      " 79%|#######8  | 19.4M/24.6M [00:01<00:00, 15.0MB/s]\n",
      " 85%|########5 | 21.0M/24.6M [00:01<00:00, 15.0MB/s]\n",
      " 94%|#########3| 23.1M/24.6M [00:01<00:00, 15.4MB/s]\n",
      "100%|##########| 24.6M/24.6M [00:01<00:00, 13.7MB/s]\n"
     ]
    }
   ],
   "source": [
    "!gdown 1XJpSzv-UMeSmCCOdyZviRF4XCxiKJUrk"
   ]
  },
  {
   "cell_type": "code",
   "execution_count": 4,
   "id": "f9b03a74",
   "metadata": {},
   "outputs": [
    {
     "name": "stderr",
     "output_type": "stream",
     "text": [
      "Downloading...\n",
      "From: https://drive.google.com/uc?id=1-xsSNizet0ruiMgKLWRcmme8L_iDejhc\n",
      "To: D:\\ScalerFinalBCKUP\\Recommendation_systems\\zee-users.dat\n",
      "\n",
      "  0%|          | 0.00/134k [00:00<?, ?B/s]\n",
      "100%|##########| 134k/134k [00:00<00:00, 3.57MB/s]\n"
     ]
    }
   ],
   "source": [
    "!gdown 1-xsSNizet0ruiMgKLWRcmme8L_iDejhc"
   ]
  },
  {
   "cell_type": "markdown",
   "id": "4c1766d2",
   "metadata": {},
   "source": [
    "##### Reading the dataset"
   ]
  },
  {
   "cell_type": "code",
   "execution_count": 5,
   "id": "ecde0e8e",
   "metadata": {},
   "outputs": [],
   "source": [
    "movies=pd.read_fwf('zee-movies.dat', encoding='ISO-8859-1')\n",
    "users=pd.read_fwf('zee-users.dat', encoding='ISO-8859-1')\n",
    "ratings=pd.read_fwf('zee-ratings.dat', encoding='ISO-8859-1')"
   ]
  },
  {
   "cell_type": "code",
   "execution_count": 6,
   "id": "56f63399",
   "metadata": {},
   "outputs": [
    {
     "data": {
      "text/html": [
       "<div>\n",
       "<style scoped>\n",
       "    .dataframe tbody tr th:only-of-type {\n",
       "        vertical-align: middle;\n",
       "    }\n",
       "\n",
       "    .dataframe tbody tr th {\n",
       "        vertical-align: top;\n",
       "    }\n",
       "\n",
       "    .dataframe thead th {\n",
       "        text-align: right;\n",
       "    }\n",
       "</style>\n",
       "<table border=\"1\" class=\"dataframe\">\n",
       "  <thead>\n",
       "    <tr style=\"text-align: right;\">\n",
       "      <th></th>\n",
       "      <th>Movie ID::Title::Genres</th>\n",
       "      <th>Unnamed: 1</th>\n",
       "      <th>Unnamed: 2</th>\n",
       "    </tr>\n",
       "  </thead>\n",
       "  <tbody>\n",
       "    <tr>\n",
       "      <th>0</th>\n",
       "      <td>1::Toy Story (1995)::Animation|Children's|Comedy</td>\n",
       "      <td>NaN</td>\n",
       "      <td>NaN</td>\n",
       "    </tr>\n",
       "    <tr>\n",
       "      <th>1</th>\n",
       "      <td>2::Jumanji (1995)::Adventure|Children's|Fantasy</td>\n",
       "      <td>NaN</td>\n",
       "      <td>NaN</td>\n",
       "    </tr>\n",
       "    <tr>\n",
       "      <th>2</th>\n",
       "      <td>3::Grumpier Old Men (1995)::Comedy|Romance</td>\n",
       "      <td>NaN</td>\n",
       "      <td>NaN</td>\n",
       "    </tr>\n",
       "    <tr>\n",
       "      <th>3</th>\n",
       "      <td>4::Waiting to Exhale (1995)::Comedy|Drama</td>\n",
       "      <td>NaN</td>\n",
       "      <td>NaN</td>\n",
       "    </tr>\n",
       "    <tr>\n",
       "      <th>4</th>\n",
       "      <td>5::Father of the Bride Part II (1995)::Comedy</td>\n",
       "      <td>NaN</td>\n",
       "      <td>NaN</td>\n",
       "    </tr>\n",
       "  </tbody>\n",
       "</table>\n",
       "</div>"
      ],
      "text/plain": [
       "                            Movie ID::Title::Genres Unnamed: 1 Unnamed: 2\n",
       "0  1::Toy Story (1995)::Animation|Children's|Comedy        NaN        NaN\n",
       "1   2::Jumanji (1995)::Adventure|Children's|Fantasy        NaN        NaN\n",
       "2        3::Grumpier Old Men (1995)::Comedy|Romance        NaN        NaN\n",
       "3         4::Waiting to Exhale (1995)::Comedy|Drama        NaN        NaN\n",
       "4     5::Father of the Bride Part II (1995)::Comedy        NaN        NaN"
      ]
     },
     "execution_count": 6,
     "metadata": {},
     "output_type": "execute_result"
    }
   ],
   "source": [
    "movies.head()"
   ]
  },
  {
   "cell_type": "markdown",
   "id": "c28b54c4",
   "metadata": {},
   "source": [
    "Movies dataframe have the details like Movie ID, Title and Genre to which the movies belong."
   ]
  },
  {
   "cell_type": "code",
   "execution_count": 7,
   "id": "f18fc58a",
   "metadata": {},
   "outputs": [
    {
     "data": {
      "text/html": [
       "<div>\n",
       "<style scoped>\n",
       "    .dataframe tbody tr th:only-of-type {\n",
       "        vertical-align: middle;\n",
       "    }\n",
       "\n",
       "    .dataframe tbody tr th {\n",
       "        vertical-align: top;\n",
       "    }\n",
       "\n",
       "    .dataframe thead th {\n",
       "        text-align: right;\n",
       "    }\n",
       "</style>\n",
       "<table border=\"1\" class=\"dataframe\">\n",
       "  <thead>\n",
       "    <tr style=\"text-align: right;\">\n",
       "      <th></th>\n",
       "      <th>UserID::Gender::Age::Occupation::Zip-code</th>\n",
       "    </tr>\n",
       "  </thead>\n",
       "  <tbody>\n",
       "    <tr>\n",
       "      <th>0</th>\n",
       "      <td>1::F::1::10::48067</td>\n",
       "    </tr>\n",
       "    <tr>\n",
       "      <th>1</th>\n",
       "      <td>2::M::56::16::70072</td>\n",
       "    </tr>\n",
       "    <tr>\n",
       "      <th>2</th>\n",
       "      <td>3::M::25::15::55117</td>\n",
       "    </tr>\n",
       "    <tr>\n",
       "      <th>3</th>\n",
       "      <td>4::M::45::7::02460</td>\n",
       "    </tr>\n",
       "    <tr>\n",
       "      <th>4</th>\n",
       "      <td>5::M::25::20::55455</td>\n",
       "    </tr>\n",
       "  </tbody>\n",
       "</table>\n",
       "</div>"
      ],
      "text/plain": [
       "  UserID::Gender::Age::Occupation::Zip-code\n",
       "0                        1::F::1::10::48067\n",
       "1                       2::M::56::16::70072\n",
       "2                       3::M::25::15::55117\n",
       "3                        4::M::45::7::02460\n",
       "4                       5::M::25::20::55455"
      ]
     },
     "execution_count": 7,
     "metadata": {},
     "output_type": "execute_result"
    }
   ],
   "source": [
    "users.head()"
   ]
  },
  {
   "cell_type": "markdown",
   "id": "f61484b8",
   "metadata": {},
   "source": [
    "Users dataframe have the demographic details of the user and their occupation."
   ]
  },
  {
   "cell_type": "code",
   "execution_count": 8,
   "id": "3f6c620e",
   "metadata": {},
   "outputs": [
    {
     "data": {
      "text/html": [
       "<div>\n",
       "<style scoped>\n",
       "    .dataframe tbody tr th:only-of-type {\n",
       "        vertical-align: middle;\n",
       "    }\n",
       "\n",
       "    .dataframe tbody tr th {\n",
       "        vertical-align: top;\n",
       "    }\n",
       "\n",
       "    .dataframe thead th {\n",
       "        text-align: right;\n",
       "    }\n",
       "</style>\n",
       "<table border=\"1\" class=\"dataframe\">\n",
       "  <thead>\n",
       "    <tr style=\"text-align: right;\">\n",
       "      <th></th>\n",
       "      <th>UserID::MovieID::Rating::Timestamp</th>\n",
       "    </tr>\n",
       "  </thead>\n",
       "  <tbody>\n",
       "    <tr>\n",
       "      <th>0</th>\n",
       "      <td>1::1193::5::978300760</td>\n",
       "    </tr>\n",
       "    <tr>\n",
       "      <th>1</th>\n",
       "      <td>1::661::3::978302109</td>\n",
       "    </tr>\n",
       "    <tr>\n",
       "      <th>2</th>\n",
       "      <td>1::914::3::978301968</td>\n",
       "    </tr>\n",
       "    <tr>\n",
       "      <th>3</th>\n",
       "      <td>1::3408::4::978300275</td>\n",
       "    </tr>\n",
       "    <tr>\n",
       "      <th>4</th>\n",
       "      <td>1::2355::5::978824291</td>\n",
       "    </tr>\n",
       "  </tbody>\n",
       "</table>\n",
       "</div>"
      ],
      "text/plain": [
       "  UserID::MovieID::Rating::Timestamp\n",
       "0              1::1193::5::978300760\n",
       "1               1::661::3::978302109\n",
       "2               1::914::3::978301968\n",
       "3              1::3408::4::978300275\n",
       "4              1::2355::5::978824291"
      ]
     },
     "execution_count": 8,
     "metadata": {},
     "output_type": "execute_result"
    }
   ],
   "source": [
    "ratings.head()"
   ]
  },
  {
   "cell_type": "markdown",
   "id": "46900659",
   "metadata": {},
   "source": [
    "The Ratings dataset has the details of the user, the movies that they have watched and the ratings that the user has given to the movie."
   ]
  },
  {
   "cell_type": "markdown",
   "id": "8fbc8730",
   "metadata": {},
   "source": [
    "##### Initial preprocessing of the dataset."
   ]
  },
  {
   "cell_type": "markdown",
   "id": "ad906f4a",
   "metadata": {},
   "source": [
    "We see that the data is not formatted properly to be used to build the recommendation systems. So lets proceed further with data cleansing and formatting."
   ]
  },
  {
   "cell_type": "code",
   "execution_count": 9,
   "id": "06f08842",
   "metadata": {},
   "outputs": [
    {
     "data": {
      "text/html": [
       "<div>\n",
       "<style scoped>\n",
       "    .dataframe tbody tr th:only-of-type {\n",
       "        vertical-align: middle;\n",
       "    }\n",
       "\n",
       "    .dataframe tbody tr th {\n",
       "        vertical-align: top;\n",
       "    }\n",
       "\n",
       "    .dataframe thead th {\n",
       "        text-align: right;\n",
       "    }\n",
       "</style>\n",
       "<table border=\"1\" class=\"dataframe\">\n",
       "  <thead>\n",
       "    <tr style=\"text-align: right;\">\n",
       "      <th></th>\n",
       "      <th>Movie ID::Title::Genres</th>\n",
       "    </tr>\n",
       "  </thead>\n",
       "  <tbody>\n",
       "    <tr>\n",
       "      <th>0</th>\n",
       "      <td>1::Toy Story (1995)::Animation|Children's|Comedy</td>\n",
       "    </tr>\n",
       "    <tr>\n",
       "      <th>1</th>\n",
       "      <td>2::Jumanji (1995)::Adventure|Children's|Fantasy</td>\n",
       "    </tr>\n",
       "    <tr>\n",
       "      <th>2</th>\n",
       "      <td>3::Grumpier Old Men (1995)::Comedy|Romance</td>\n",
       "    </tr>\n",
       "    <tr>\n",
       "      <th>3</th>\n",
       "      <td>4::Waiting to Exhale (1995)::Comedy|Drama</td>\n",
       "    </tr>\n",
       "    <tr>\n",
       "      <th>4</th>\n",
       "      <td>5::Father of the Bride Part II (1995)::Comedy</td>\n",
       "    </tr>\n",
       "  </tbody>\n",
       "</table>\n",
       "</div>"
      ],
      "text/plain": [
       "                            Movie ID::Title::Genres\n",
       "0  1::Toy Story (1995)::Animation|Children's|Comedy\n",
       "1   2::Jumanji (1995)::Adventure|Children's|Fantasy\n",
       "2        3::Grumpier Old Men (1995)::Comedy|Romance\n",
       "3         4::Waiting to Exhale (1995)::Comedy|Drama\n",
       "4     5::Father of the Bride Part II (1995)::Comedy"
      ]
     },
     "execution_count": 9,
     "metadata": {},
     "output_type": "execute_result"
    }
   ],
   "source": [
    "movies.drop(['Unnamed: 1','Unnamed: 2'],axis=1,inplace=True)\n",
    "movies.head()"
   ]
  },
  {
   "cell_type": "code",
   "execution_count": 10,
   "id": "53ba51ac",
   "metadata": {},
   "outputs": [
    {
     "data": {
      "text/html": [
       "<div>\n",
       "<style scoped>\n",
       "    .dataframe tbody tr th:only-of-type {\n",
       "        vertical-align: middle;\n",
       "    }\n",
       "\n",
       "    .dataframe tbody tr th {\n",
       "        vertical-align: top;\n",
       "    }\n",
       "\n",
       "    .dataframe thead th {\n",
       "        text-align: right;\n",
       "    }\n",
       "</style>\n",
       "<table border=\"1\" class=\"dataframe\">\n",
       "  <thead>\n",
       "    <tr style=\"text-align: right;\">\n",
       "      <th></th>\n",
       "      <th>Movie ID</th>\n",
       "      <th>Title</th>\n",
       "      <th>Genres</th>\n",
       "    </tr>\n",
       "  </thead>\n",
       "  <tbody>\n",
       "    <tr>\n",
       "      <th>0</th>\n",
       "      <td>1</td>\n",
       "      <td>Toy Story (1995)</td>\n",
       "      <td>Animation|Children's|Comedy</td>\n",
       "    </tr>\n",
       "    <tr>\n",
       "      <th>1</th>\n",
       "      <td>2</td>\n",
       "      <td>Jumanji (1995)</td>\n",
       "      <td>Adventure|Children's|Fantasy</td>\n",
       "    </tr>\n",
       "    <tr>\n",
       "      <th>2</th>\n",
       "      <td>3</td>\n",
       "      <td>Grumpier Old Men (1995)</td>\n",
       "      <td>Comedy|Romance</td>\n",
       "    </tr>\n",
       "    <tr>\n",
       "      <th>3</th>\n",
       "      <td>4</td>\n",
       "      <td>Waiting to Exhale (1995)</td>\n",
       "      <td>Comedy|Drama</td>\n",
       "    </tr>\n",
       "    <tr>\n",
       "      <th>4</th>\n",
       "      <td>5</td>\n",
       "      <td>Father of the Bride Part II (1995)</td>\n",
       "      <td>Comedy</td>\n",
       "    </tr>\n",
       "  </tbody>\n",
       "</table>\n",
       "</div>"
      ],
      "text/plain": [
       "  Movie ID                               Title                        Genres\n",
       "0        1                    Toy Story (1995)   Animation|Children's|Comedy\n",
       "1        2                      Jumanji (1995)  Adventure|Children's|Fantasy\n",
       "2        3             Grumpier Old Men (1995)                Comedy|Romance\n",
       "3        4            Waiting to Exhale (1995)                  Comedy|Drama\n",
       "4        5  Father of the Bride Part II (1995)                        Comedy"
      ]
     },
     "execution_count": 10,
     "metadata": {},
     "output_type": "execute_result"
    }
   ],
   "source": [
    "cols=movies.columns.values[-1].split('::')\n",
    "movies=movies.iloc[:,0].str.split('::',expand=True)\n",
    "movies.columns=cols\n",
    "movies.head()"
   ]
  },
  {
   "cell_type": "code",
   "execution_count": 11,
   "id": "3357009d",
   "metadata": {},
   "outputs": [
    {
     "data": {
      "text/html": [
       "<div>\n",
       "<style scoped>\n",
       "    .dataframe tbody tr th:only-of-type {\n",
       "        vertical-align: middle;\n",
       "    }\n",
       "\n",
       "    .dataframe tbody tr th {\n",
       "        vertical-align: top;\n",
       "    }\n",
       "\n",
       "    .dataframe thead th {\n",
       "        text-align: right;\n",
       "    }\n",
       "</style>\n",
       "<table border=\"1\" class=\"dataframe\">\n",
       "  <thead>\n",
       "    <tr style=\"text-align: right;\">\n",
       "      <th></th>\n",
       "      <th>UserID</th>\n",
       "      <th>Gender</th>\n",
       "      <th>Age</th>\n",
       "      <th>Occupation</th>\n",
       "      <th>Zip-code</th>\n",
       "    </tr>\n",
       "  </thead>\n",
       "  <tbody>\n",
       "    <tr>\n",
       "      <th>0</th>\n",
       "      <td>1</td>\n",
       "      <td>F</td>\n",
       "      <td>1</td>\n",
       "      <td>10</td>\n",
       "      <td>48067</td>\n",
       "    </tr>\n",
       "    <tr>\n",
       "      <th>1</th>\n",
       "      <td>2</td>\n",
       "      <td>M</td>\n",
       "      <td>56</td>\n",
       "      <td>16</td>\n",
       "      <td>70072</td>\n",
       "    </tr>\n",
       "    <tr>\n",
       "      <th>2</th>\n",
       "      <td>3</td>\n",
       "      <td>M</td>\n",
       "      <td>25</td>\n",
       "      <td>15</td>\n",
       "      <td>55117</td>\n",
       "    </tr>\n",
       "    <tr>\n",
       "      <th>3</th>\n",
       "      <td>4</td>\n",
       "      <td>M</td>\n",
       "      <td>45</td>\n",
       "      <td>7</td>\n",
       "      <td>02460</td>\n",
       "    </tr>\n",
       "    <tr>\n",
       "      <th>4</th>\n",
       "      <td>5</td>\n",
       "      <td>M</td>\n",
       "      <td>25</td>\n",
       "      <td>20</td>\n",
       "      <td>55455</td>\n",
       "    </tr>\n",
       "  </tbody>\n",
       "</table>\n",
       "</div>"
      ],
      "text/plain": [
       "  UserID Gender Age Occupation Zip-code\n",
       "0      1      F   1         10    48067\n",
       "1      2      M  56         16    70072\n",
       "2      3      M  25         15    55117\n",
       "3      4      M  45          7    02460\n",
       "4      5      M  25         20    55455"
      ]
     },
     "execution_count": 11,
     "metadata": {},
     "output_type": "execute_result"
    }
   ],
   "source": [
    "user_cols=users.columns.values[-1].split('::')\n",
    "users=users.iloc[:,0].str.split('::',expand=True)\n",
    "users.columns=user_cols\n",
    "users.head()"
   ]
  },
  {
   "cell_type": "code",
   "execution_count": 12,
   "id": "70c526ae",
   "metadata": {},
   "outputs": [
    {
     "data": {
      "text/html": [
       "<div>\n",
       "<style scoped>\n",
       "    .dataframe tbody tr th:only-of-type {\n",
       "        vertical-align: middle;\n",
       "    }\n",
       "\n",
       "    .dataframe tbody tr th {\n",
       "        vertical-align: top;\n",
       "    }\n",
       "\n",
       "    .dataframe thead th {\n",
       "        text-align: right;\n",
       "    }\n",
       "</style>\n",
       "<table border=\"1\" class=\"dataframe\">\n",
       "  <thead>\n",
       "    <tr style=\"text-align: right;\">\n",
       "      <th></th>\n",
       "      <th>UserID</th>\n",
       "      <th>MovieID</th>\n",
       "      <th>Rating</th>\n",
       "      <th>Timestamp</th>\n",
       "    </tr>\n",
       "  </thead>\n",
       "  <tbody>\n",
       "    <tr>\n",
       "      <th>0</th>\n",
       "      <td>1</td>\n",
       "      <td>1193</td>\n",
       "      <td>5</td>\n",
       "      <td>978300760</td>\n",
       "    </tr>\n",
       "    <tr>\n",
       "      <th>1</th>\n",
       "      <td>1</td>\n",
       "      <td>661</td>\n",
       "      <td>3</td>\n",
       "      <td>978302109</td>\n",
       "    </tr>\n",
       "    <tr>\n",
       "      <th>2</th>\n",
       "      <td>1</td>\n",
       "      <td>914</td>\n",
       "      <td>3</td>\n",
       "      <td>978301968</td>\n",
       "    </tr>\n",
       "    <tr>\n",
       "      <th>3</th>\n",
       "      <td>1</td>\n",
       "      <td>3408</td>\n",
       "      <td>4</td>\n",
       "      <td>978300275</td>\n",
       "    </tr>\n",
       "    <tr>\n",
       "      <th>4</th>\n",
       "      <td>1</td>\n",
       "      <td>2355</td>\n",
       "      <td>5</td>\n",
       "      <td>978824291</td>\n",
       "    </tr>\n",
       "  </tbody>\n",
       "</table>\n",
       "</div>"
      ],
      "text/plain": [
       "  UserID MovieID Rating  Timestamp\n",
       "0      1    1193      5  978300760\n",
       "1      1     661      3  978302109\n",
       "2      1     914      3  978301968\n",
       "3      1    3408      4  978300275\n",
       "4      1    2355      5  978824291"
      ]
     },
     "execution_count": 12,
     "metadata": {},
     "output_type": "execute_result"
    }
   ],
   "source": [
    "rating_cols=ratings.columns.values[-1].split('::')\n",
    "ratings=ratings.iloc[:,0].str.split('::',expand=True)\n",
    "ratings.columns=rating_cols\n",
    "ratings.head()"
   ]
  },
  {
   "cell_type": "markdown",
   "id": "b3dca527",
   "metadata": {},
   "source": [
    "Data is somewhat formatted now, we have to do more processing on it so that we can build recommendation systems out of it."
   ]
  },
  {
   "cell_type": "markdown",
   "id": "b34dc8e1",
   "metadata": {},
   "source": [
    "###### Movies"
   ]
  },
  {
   "cell_type": "markdown",
   "id": "367718b6",
   "metadata": {},
   "source": [
    "We can see that a single movie have several genres tagged to it. So we have to split and explode the column"
   ]
  },
  {
   "cell_type": "code",
   "execution_count": 13,
   "id": "ea12c669",
   "metadata": {},
   "outputs": [
    {
     "data": {
      "text/html": [
       "<div>\n",
       "<style scoped>\n",
       "    .dataframe tbody tr th:only-of-type {\n",
       "        vertical-align: middle;\n",
       "    }\n",
       "\n",
       "    .dataframe tbody tr th {\n",
       "        vertical-align: top;\n",
       "    }\n",
       "\n",
       "    .dataframe thead th {\n",
       "        text-align: right;\n",
       "    }\n",
       "</style>\n",
       "<table border=\"1\" class=\"dataframe\">\n",
       "  <thead>\n",
       "    <tr style=\"text-align: right;\">\n",
       "      <th></th>\n",
       "      <th>Movie ID</th>\n",
       "      <th>Title</th>\n",
       "      <th>Genres</th>\n",
       "    </tr>\n",
       "  </thead>\n",
       "  <tbody>\n",
       "    <tr>\n",
       "      <th>0</th>\n",
       "      <td>1</td>\n",
       "      <td>Toy Story (1995)</td>\n",
       "      <td>[Animation, Children's, Comedy]</td>\n",
       "    </tr>\n",
       "    <tr>\n",
       "      <th>1</th>\n",
       "      <td>2</td>\n",
       "      <td>Jumanji (1995)</td>\n",
       "      <td>[Adventure, Children's, Fantasy]</td>\n",
       "    </tr>\n",
       "    <tr>\n",
       "      <th>2</th>\n",
       "      <td>3</td>\n",
       "      <td>Grumpier Old Men (1995)</td>\n",
       "      <td>[Comedy, Romance]</td>\n",
       "    </tr>\n",
       "    <tr>\n",
       "      <th>3</th>\n",
       "      <td>4</td>\n",
       "      <td>Waiting to Exhale (1995)</td>\n",
       "      <td>[Comedy, Drama]</td>\n",
       "    </tr>\n",
       "    <tr>\n",
       "      <th>4</th>\n",
       "      <td>5</td>\n",
       "      <td>Father of the Bride Part II (1995)</td>\n",
       "      <td>[Comedy]</td>\n",
       "    </tr>\n",
       "  </tbody>\n",
       "</table>\n",
       "</div>"
      ],
      "text/plain": [
       "  Movie ID                               Title  \\\n",
       "0        1                    Toy Story (1995)   \n",
       "1        2                      Jumanji (1995)   \n",
       "2        3             Grumpier Old Men (1995)   \n",
       "3        4            Waiting to Exhale (1995)   \n",
       "4        5  Father of the Bride Part II (1995)   \n",
       "\n",
       "                             Genres  \n",
       "0   [Animation, Children's, Comedy]  \n",
       "1  [Adventure, Children's, Fantasy]  \n",
       "2                 [Comedy, Romance]  \n",
       "3                   [Comedy, Drama]  \n",
       "4                          [Comedy]  "
      ]
     },
     "execution_count": 13,
     "metadata": {},
     "output_type": "execute_result"
    }
   ],
   "source": [
    "movies['Genres']=movies.Genres.str.split('|')\n",
    "movies.head()"
   ]
  },
  {
   "cell_type": "code",
   "execution_count": 14,
   "id": "be2673d7",
   "metadata": {},
   "outputs": [
    {
     "data": {
      "text/html": [
       "<div>\n",
       "<style scoped>\n",
       "    .dataframe tbody tr th:only-of-type {\n",
       "        vertical-align: middle;\n",
       "    }\n",
       "\n",
       "    .dataframe tbody tr th {\n",
       "        vertical-align: top;\n",
       "    }\n",
       "\n",
       "    .dataframe thead th {\n",
       "        text-align: right;\n",
       "    }\n",
       "</style>\n",
       "<table border=\"1\" class=\"dataframe\">\n",
       "  <thead>\n",
       "    <tr style=\"text-align: right;\">\n",
       "      <th></th>\n",
       "      <th>Movie ID</th>\n",
       "      <th>Title</th>\n",
       "      <th>Genres</th>\n",
       "    </tr>\n",
       "  </thead>\n",
       "  <tbody>\n",
       "    <tr>\n",
       "      <th>0</th>\n",
       "      <td>1</td>\n",
       "      <td>Toy Story (1995)</td>\n",
       "      <td>Animation</td>\n",
       "    </tr>\n",
       "    <tr>\n",
       "      <th>0</th>\n",
       "      <td>1</td>\n",
       "      <td>Toy Story (1995)</td>\n",
       "      <td>Children's</td>\n",
       "    </tr>\n",
       "    <tr>\n",
       "      <th>0</th>\n",
       "      <td>1</td>\n",
       "      <td>Toy Story (1995)</td>\n",
       "      <td>Comedy</td>\n",
       "    </tr>\n",
       "    <tr>\n",
       "      <th>1</th>\n",
       "      <td>2</td>\n",
       "      <td>Jumanji (1995)</td>\n",
       "      <td>Adventure</td>\n",
       "    </tr>\n",
       "    <tr>\n",
       "      <th>1</th>\n",
       "      <td>2</td>\n",
       "      <td>Jumanji (1995)</td>\n",
       "      <td>Children's</td>\n",
       "    </tr>\n",
       "  </tbody>\n",
       "</table>\n",
       "</div>"
      ],
      "text/plain": [
       "  Movie ID             Title      Genres\n",
       "0        1  Toy Story (1995)   Animation\n",
       "0        1  Toy Story (1995)  Children's\n",
       "0        1  Toy Story (1995)      Comedy\n",
       "1        2    Jumanji (1995)   Adventure\n",
       "1        2    Jumanji (1995)  Children's"
      ]
     },
     "execution_count": 14,
     "metadata": {},
     "output_type": "execute_result"
    }
   ],
   "source": [
    "movies=movies.explode(column='Genres')\n",
    "movies.head()"
   ]
  },
  {
   "cell_type": "markdown",
   "id": "d368213e",
   "metadata": {},
   "source": [
    "Now let's pivot the table in such a way that all the genres will be converted as different columns."
   ]
  },
  {
   "cell_type": "markdown",
   "id": "b663a17d",
   "metadata": {},
   "source": [
    "Now before proceeding further, we will see the unique genres that are present in the dataset and compare it with the list of Genres that were provided by the OTT platform."
   ]
  },
  {
   "cell_type": "code",
   "execution_count": 15,
   "id": "3df12bdc",
   "metadata": {},
   "outputs": [
    {
     "data": {
      "text/plain": [
       "array(['Animation', \"Children's\", 'Comedy', 'Adventure', 'Fantasy',\n",
       "       'Romance', 'Drama', 'Action', 'Crime', 'Thriller', 'Horror',\n",
       "       'Sci-Fi', 'Documentary', 'War', 'Musical', 'Mystery', None,\n",
       "       'Film-Noir', 'Dram', 'Western', 'Chil', '', 'Fantas', 'Dr', 'D',\n",
       "       'Documenta', 'Wester', 'Fant', 'Music', 'Childre', 'Childr', 'Rom',\n",
       "       'Animati', 'Children', 'Come', \"Children'\", 'Sci-F', 'Adv',\n",
       "       'Adventu', 'Horro', 'Docu', 'S', 'Sci-', 'Document', 'Th', 'Roman',\n",
       "       'Documen', 'We', 'F', 'Ro', 'R', 'Sci', 'Chi', 'Thri', 'Adventur',\n",
       "       'Advent', 'Acti', 'Roma', 'A', 'Comed', 'Com', 'Thrille', 'Wa',\n",
       "       'Horr'], dtype=object)"
      ]
     },
     "execution_count": 15,
     "metadata": {},
     "output_type": "execute_result"
    }
   ],
   "source": [
    "movies.Genres.unique()"
   ]
  },
  {
   "cell_type": "markdown",
   "id": "c18400d4",
   "metadata": {},
   "source": [
    "The original Genres that were provided by the product owners of the OTT platform"
   ]
  },
  {
   "cell_type": "markdown",
   "id": "39426678",
   "metadata": {},
   "source": [
    "Action, Adventure, Animation, Children's, Comedy, Crime, Documentary, Drama, Fantasy, Film-Noir, Horror, Musical, Mystery, Romance, Sci-Fi, Thriller, War, Western"
   ]
  },
  {
   "cell_type": "markdown",
   "id": "eb28ac0b",
   "metadata": {},
   "source": [
    "Thus we might have to clean the Genres feature such that we only have the desired set of Genres in the column"
   ]
  },
  {
   "cell_type": "code",
   "execution_count": 16,
   "id": "f31d2b1d",
   "metadata": {},
   "outputs": [],
   "source": [
    "def mapGenres(value):\n",
    "    if value in(['Fantas','Fant','F']):\n",
    "        return 'Fantasy'\n",
    "    elif value in [None,'']:\n",
    "        return 'Other'\n",
    "    elif value in ['Dram','Dr','D']:\n",
    "        return 'Drama'\n",
    "    elif value in ['Documenta','Docu','Document','Documen']:\n",
    "        return 'Documentary'\n",
    "    elif value in ['Chil','Childre','Childr','Children','Children\\'','Chi']:\n",
    "        return 'Children\\'s'\n",
    "    elif value in ['Wester','We']:\n",
    "        return 'Western'\n",
    "    elif value in ['Rom','Roman','Ro','R','Roma']:\n",
    "        return 'Romance'\n",
    "    elif value in ['Animati','A']:\n",
    "        return 'Animation'\n",
    "    elif value in ['Adventu','Adv','Adventur','Advent']:\n",
    "        return 'Adventure'\n",
    "    elif value in ['Acti']:\n",
    "        return 'Action'\n",
    "    elif value in ['Comed','Com','Come']:\n",
    "        return 'Comedy'\n",
    "    elif value in ['Wa']:\n",
    "        return 'War'\n",
    "    elif value in ['Thrille','Thri','Th']:\n",
    "        return 'Thriller'\n",
    "    elif value in ['Horro','Horr']:\n",
    "        return 'Horror'\n",
    "    elif value in ['Sci','Sci-','S','Sci-F']:\n",
    "        return 'Sci-Fi'\n",
    "    elif value in ['Music','Musical']:\n",
    "        return 'Musical'\n",
    "            \n",
    "    return value"
   ]
  },
  {
   "cell_type": "markdown",
   "id": "23248a1c",
   "metadata": {},
   "source": [
    "Calling the MapGenres function on top Genres column to get the desired genres."
   ]
  },
  {
   "cell_type": "code",
   "execution_count": 17,
   "id": "60ba5e55",
   "metadata": {},
   "outputs": [
    {
     "data": {
      "text/html": [
       "<div>\n",
       "<style scoped>\n",
       "    .dataframe tbody tr th:only-of-type {\n",
       "        vertical-align: middle;\n",
       "    }\n",
       "\n",
       "    .dataframe tbody tr th {\n",
       "        vertical-align: top;\n",
       "    }\n",
       "\n",
       "    .dataframe thead th {\n",
       "        text-align: right;\n",
       "    }\n",
       "</style>\n",
       "<table border=\"1\" class=\"dataframe\">\n",
       "  <thead>\n",
       "    <tr style=\"text-align: right;\">\n",
       "      <th></th>\n",
       "      <th>Movie ID</th>\n",
       "      <th>Title</th>\n",
       "      <th>Genres</th>\n",
       "    </tr>\n",
       "  </thead>\n",
       "  <tbody>\n",
       "    <tr>\n",
       "      <th>0</th>\n",
       "      <td>1</td>\n",
       "      <td>Toy Story (1995)</td>\n",
       "      <td>Animation</td>\n",
       "    </tr>\n",
       "    <tr>\n",
       "      <th>0</th>\n",
       "      <td>1</td>\n",
       "      <td>Toy Story (1995)</td>\n",
       "      <td>Children's</td>\n",
       "    </tr>\n",
       "    <tr>\n",
       "      <th>0</th>\n",
       "      <td>1</td>\n",
       "      <td>Toy Story (1995)</td>\n",
       "      <td>Comedy</td>\n",
       "    </tr>\n",
       "    <tr>\n",
       "      <th>1</th>\n",
       "      <td>2</td>\n",
       "      <td>Jumanji (1995)</td>\n",
       "      <td>Adventure</td>\n",
       "    </tr>\n",
       "    <tr>\n",
       "      <th>1</th>\n",
       "      <td>2</td>\n",
       "      <td>Jumanji (1995)</td>\n",
       "      <td>Children's</td>\n",
       "    </tr>\n",
       "  </tbody>\n",
       "</table>\n",
       "</div>"
      ],
      "text/plain": [
       "  Movie ID             Title      Genres\n",
       "0        1  Toy Story (1995)   Animation\n",
       "0        1  Toy Story (1995)  Children's\n",
       "0        1  Toy Story (1995)      Comedy\n",
       "1        2    Jumanji (1995)   Adventure\n",
       "1        2    Jumanji (1995)  Children's"
      ]
     },
     "execution_count": 17,
     "metadata": {},
     "output_type": "execute_result"
    }
   ],
   "source": [
    "movies.Genres=movies.Genres.apply(mapGenres)\n",
    "movies.head()"
   ]
  },
  {
   "cell_type": "markdown",
   "id": "05e2d684",
   "metadata": {},
   "source": [
    "###### Checking the types of the feature's in the dataset"
   ]
  },
  {
   "cell_type": "code",
   "execution_count": 18,
   "id": "c9d675b3",
   "metadata": {},
   "outputs": [
    {
     "name": "stdout",
     "output_type": "stream",
     "text": [
      "<class 'pandas.core.frame.DataFrame'>\n",
      "Index: 6366 entries, 0 to 3882\n",
      "Data columns (total 3 columns):\n",
      " #   Column    Non-Null Count  Dtype \n",
      "---  ------    --------------  ----- \n",
      " 0   Movie ID  6366 non-null   object\n",
      " 1   Title     6366 non-null   object\n",
      " 2   Genres    6366 non-null   object\n",
      "dtypes: object(3)\n",
      "memory usage: 198.9+ KB\n"
     ]
    }
   ],
   "source": [
    "movies.info()"
   ]
  },
  {
   "cell_type": "markdown",
   "id": "ab54f728",
   "metadata": {},
   "source": [
    "Lets convert Movie ID column type to integer so that it can be set as index while pivotting the table."
   ]
  },
  {
   "cell_type": "code",
   "execution_count": 19,
   "id": "33b36cc2",
   "metadata": {},
   "outputs": [
    {
     "name": "stdout",
     "output_type": "stream",
     "text": [
      "<class 'pandas.core.frame.DataFrame'>\n",
      "Index: 6366 entries, 0 to 3882\n",
      "Data columns (total 3 columns):\n",
      " #   Column    Non-Null Count  Dtype \n",
      "---  ------    --------------  ----- \n",
      " 0   Movie ID  6366 non-null   int32 \n",
      " 1   Title     6366 non-null   object\n",
      " 2   Genres    6366 non-null   object\n",
      "dtypes: int32(1), object(2)\n",
      "memory usage: 174.1+ KB\n"
     ]
    }
   ],
   "source": [
    "movies['Movie ID']=movies['Movie ID'].astype(int)\n",
    "movies.info()"
   ]
  },
  {
   "cell_type": "code",
   "execution_count": 20,
   "id": "f0926e85",
   "metadata": {},
   "outputs": [
    {
     "data": {
      "text/html": [
       "<div>\n",
       "<style scoped>\n",
       "    .dataframe tbody tr th:only-of-type {\n",
       "        vertical-align: middle;\n",
       "    }\n",
       "\n",
       "    .dataframe tbody tr th {\n",
       "        vertical-align: top;\n",
       "    }\n",
       "\n",
       "    .dataframe thead th {\n",
       "        text-align: right;\n",
       "    }\n",
       "</style>\n",
       "<table border=\"1\" class=\"dataframe\">\n",
       "  <thead>\n",
       "    <tr style=\"text-align: right;\">\n",
       "      <th></th>\n",
       "      <th>Movie ID</th>\n",
       "      <th>Title</th>\n",
       "      <th>Genres</th>\n",
       "    </tr>\n",
       "  </thead>\n",
       "  <tbody>\n",
       "    <tr>\n",
       "      <th>0</th>\n",
       "      <td>1</td>\n",
       "      <td>Toy Story (1995)</td>\n",
       "      <td>Animation</td>\n",
       "    </tr>\n",
       "    <tr>\n",
       "      <th>0</th>\n",
       "      <td>1</td>\n",
       "      <td>Toy Story (1995)</td>\n",
       "      <td>Children's</td>\n",
       "    </tr>\n",
       "    <tr>\n",
       "      <th>0</th>\n",
       "      <td>1</td>\n",
       "      <td>Toy Story (1995)</td>\n",
       "      <td>Comedy</td>\n",
       "    </tr>\n",
       "    <tr>\n",
       "      <th>1</th>\n",
       "      <td>2</td>\n",
       "      <td>Jumanji (1995)</td>\n",
       "      <td>Adventure</td>\n",
       "    </tr>\n",
       "    <tr>\n",
       "      <th>1</th>\n",
       "      <td>2</td>\n",
       "      <td>Jumanji (1995)</td>\n",
       "      <td>Children's</td>\n",
       "    </tr>\n",
       "  </tbody>\n",
       "</table>\n",
       "</div>"
      ],
      "text/plain": [
       "   Movie ID             Title      Genres\n",
       "0         1  Toy Story (1995)   Animation\n",
       "0         1  Toy Story (1995)  Children's\n",
       "0         1  Toy Story (1995)      Comedy\n",
       "1         2    Jumanji (1995)   Adventure\n",
       "1         2    Jumanji (1995)  Children's"
      ]
     },
     "execution_count": 20,
     "metadata": {},
     "output_type": "execute_result"
    }
   ],
   "source": [
    "movies.head()"
   ]
  },
  {
   "cell_type": "markdown",
   "id": "1e09fad1",
   "metadata": {},
   "source": [
    "Checking the Distribution of Genres feature"
   ]
  },
  {
   "cell_type": "code",
   "execution_count": 21,
   "id": "5dc22b2f",
   "metadata": {},
   "outputs": [
    {
     "data": {
      "image/png": "[encoded data removed]",
      "text/plain": [
       "<Figure size 1200x1000 with 1 Axes>"
      ]
     },
     "metadata": {},
     "output_type": "display_data"
    }
   ],
   "source": [
    "plt.figure(figsize=(12,10))\n",
    "ax=movies.Genres.value_counts().plot(kind='bar')\n",
    "for patch in ax.patches:\n",
    "    ax.annotate(patch.get_height(),(patch.get_x()+0.2*patch.get_width(),patch.get_height()+10),rotation=90)\n",
    "plt.show()"
   ]
  },
  {
   "cell_type": "markdown",
   "id": "0f04a868",
   "metadata": {},
   "source": [
    "This plot shows that, Most of the movies are under **Drama** Genre followed by Comedy, Action and Thriller. "
   ]
  },
  {
   "cell_type": "markdown",
   "id": "cf5cf42e",
   "metadata": {},
   "source": [
    "**Extracting the Release year from the dataset**."
   ]
  },
  {
   "cell_type": "code",
   "execution_count": 22,
   "id": "8d85bd6d",
   "metadata": {},
   "outputs": [
    {
     "data": {
      "text/html": [
       "<div>\n",
       "<style scoped>\n",
       "    .dataframe tbody tr th:only-of-type {\n",
       "        vertical-align: middle;\n",
       "    }\n",
       "\n",
       "    .dataframe tbody tr th {\n",
       "        vertical-align: top;\n",
       "    }\n",
       "\n",
       "    .dataframe thead th {\n",
       "        text-align: right;\n",
       "    }\n",
       "</style>\n",
       "<table border=\"1\" class=\"dataframe\">\n",
       "  <thead>\n",
       "    <tr style=\"text-align: right;\">\n",
       "      <th></th>\n",
       "      <th>Movie ID</th>\n",
       "      <th>Title</th>\n",
       "      <th>Genres</th>\n",
       "      <th>Release year</th>\n",
       "    </tr>\n",
       "  </thead>\n",
       "  <tbody>\n",
       "    <tr>\n",
       "      <th>0</th>\n",
       "      <td>1</td>\n",
       "      <td>Toy Story (1995)</td>\n",
       "      <td>Animation</td>\n",
       "      <td>1995.0</td>\n",
       "    </tr>\n",
       "    <tr>\n",
       "      <th>0</th>\n",
       "      <td>1</td>\n",
       "      <td>Toy Story (1995)</td>\n",
       "      <td>Children's</td>\n",
       "      <td>1995.0</td>\n",
       "    </tr>\n",
       "    <tr>\n",
       "      <th>0</th>\n",
       "      <td>1</td>\n",
       "      <td>Toy Story (1995)</td>\n",
       "      <td>Comedy</td>\n",
       "      <td>1995.0</td>\n",
       "    </tr>\n",
       "    <tr>\n",
       "      <th>1</th>\n",
       "      <td>2</td>\n",
       "      <td>Jumanji (1995)</td>\n",
       "      <td>Adventure</td>\n",
       "      <td>1995.0</td>\n",
       "    </tr>\n",
       "    <tr>\n",
       "      <th>1</th>\n",
       "      <td>2</td>\n",
       "      <td>Jumanji (1995)</td>\n",
       "      <td>Children's</td>\n",
       "      <td>1995.0</td>\n",
       "    </tr>\n",
       "  </tbody>\n",
       "</table>\n",
       "</div>"
      ],
      "text/plain": [
       "   Movie ID             Title      Genres  Release year\n",
       "0         1  Toy Story (1995)   Animation        1995.0\n",
       "0         1  Toy Story (1995)  Children's        1995.0\n",
       "0         1  Toy Story (1995)      Comedy        1995.0\n",
       "1         2    Jumanji (1995)   Adventure        1995.0\n",
       "1         2    Jumanji (1995)  Children's        1995.0"
      ]
     },
     "execution_count": 22,
     "metadata": {},
     "output_type": "execute_result"
    }
   ],
   "source": [
    "movies['Release year']=movies.Title.str.findall('\\(\\d{4}\\)').apply(lambda x:int(x[-1][1:-1]) if len(x)!=0 else None)\n",
    "movies.head()"
   ]
  },
  {
   "cell_type": "markdown",
   "id": "ccd8ef3f",
   "metadata": {},
   "source": [
    "Distribution between the Release year and the number of movies that were released in that particular year."
   ]
  },
  {
   "cell_type": "code",
   "execution_count": 23,
   "id": "e1f8089e",
   "metadata": {},
   "outputs": [
    {
     "data": {
      "text/plain": [
       "81"
      ]
     },
     "execution_count": 23,
     "metadata": {},
     "output_type": "execute_result"
    }
   ],
   "source": [
    "movies['Release year'].nunique()"
   ]
  },
  {
   "cell_type": "markdown",
   "id": "d1c6e9fb",
   "metadata": {},
   "source": [
    "We have the dataset of movies which was released over the last 81 years. Lets take a sample of last 10 years (ie:: from 1991 to 2000) and see the number of movies that were released."
   ]
  },
  {
   "cell_type": "code",
   "execution_count": 24,
   "id": "42a12e0f",
   "metadata": {},
   "outputs": [
    {
     "data": {
      "image/png": "[encoded data removed]",
      "text/plain": [
       "<Figure size 640x480 with 1 Axes>"
      ]
     },
     "metadata": {},
     "output_type": "display_data"
    }
   ],
   "source": [
    "ax=movies.groupby('Release year')['Movie ID'].agg('nunique').tail(10).plot(kind='bar')\n",
    "for patch in ax.patches:\n",
    "    ax.annotate(patch.get_height(),(patch.get_x()+patch.get_width()*0.2,patch.get_height()+5))\n",
    "plt.show()"
   ]
  },
  {
   "cell_type": "markdown",
   "id": "cdcbcff8",
   "metadata": {},
   "source": [
    "So over the 10 years (ie:: from 1991 to 2000), Most number of movies were released in the year 1996 and the number is about 344."
   ]
  },
  {
   "cell_type": "code",
   "execution_count": 25,
   "id": "aa587d95",
   "metadata": {},
   "outputs": [],
   "source": [
    "orig_movies=movies.copy()   #Storing the copy of the movies dataframe before proceeding further."
   ]
  },
  {
   "cell_type": "markdown",
   "id": "9430b225",
   "metadata": {},
   "source": [
    "###### Checking Number of Movies released in each of the Decade"
   ]
  },
  {
   "cell_type": "code",
   "execution_count": 26,
   "id": "1130c1a4",
   "metadata": {},
   "outputs": [
    {
     "data": {
      "text/plain": [
       "Release year\n",
       "1919.0      3\n",
       "1920.0      2\n",
       "1921.0      1\n",
       "1922.0      2\n",
       "1923.0      3\n",
       "         ... \n",
       "1996.0    344\n",
       "1997.0    315\n",
       "1998.0    333\n",
       "1999.0    283\n",
       "2000.0    156\n",
       "Name: Movie ID, Length: 81, dtype: int64"
      ]
     },
     "execution_count": 26,
     "metadata": {},
     "output_type": "execute_result"
    }
   ],
   "source": [
    "orig_movies.groupby(\"Release year\")['Movie ID'].nunique()"
   ]
  },
  {
   "cell_type": "code",
   "execution_count": 27,
   "id": "5e6971ae",
   "metadata": {},
   "outputs": [],
   "source": [
    "def findDecade(x):\n",
    "    if x>=1919 and x< 1929:\n",
    "        return \"1919-1929\"\n",
    "    elif x>=1929 and x<1939:\n",
    "        return \"1929-1939\"\n",
    "    elif x>=1939 and x<1949:\n",
    "        return \"1939-1949\"\n",
    "    elif x>=1949 and x<1959:\n",
    "        return \"1949-1959\"\n",
    "    elif x>=1959 and x<1969:\n",
    "        return \"1959-1969\"\n",
    "    elif x>=1969 and x<1979:\n",
    "        return \"1969-1979\"\n",
    "    elif x>=1979 and x<1989:\n",
    "        return \"1979-1989\"\n",
    "    else:\n",
    "        return \"1989-2000\""
   ]
  },
  {
   "cell_type": "code",
   "execution_count": 28,
   "id": "f0306702",
   "metadata": {},
   "outputs": [
    {
     "data": {
      "text/html": [
       "<div>\n",
       "<style scoped>\n",
       "    .dataframe tbody tr th:only-of-type {\n",
       "        vertical-align: middle;\n",
       "    }\n",
       "\n",
       "    .dataframe tbody tr th {\n",
       "        vertical-align: top;\n",
       "    }\n",
       "\n",
       "    .dataframe thead th {\n",
       "        text-align: right;\n",
       "    }\n",
       "</style>\n",
       "<table border=\"1\" class=\"dataframe\">\n",
       "  <thead>\n",
       "    <tr style=\"text-align: right;\">\n",
       "      <th></th>\n",
       "      <th>Movie ID</th>\n",
       "      <th>Title</th>\n",
       "      <th>Genres</th>\n",
       "      <th>Release year</th>\n",
       "      <th>Decade</th>\n",
       "    </tr>\n",
       "  </thead>\n",
       "  <tbody>\n",
       "    <tr>\n",
       "      <th>0</th>\n",
       "      <td>1</td>\n",
       "      <td>Toy Story (1995)</td>\n",
       "      <td>Animation</td>\n",
       "      <td>1995.0</td>\n",
       "      <td>1989-2000</td>\n",
       "    </tr>\n",
       "    <tr>\n",
       "      <th>0</th>\n",
       "      <td>1</td>\n",
       "      <td>Toy Story (1995)</td>\n",
       "      <td>Children's</td>\n",
       "      <td>1995.0</td>\n",
       "      <td>1989-2000</td>\n",
       "    </tr>\n",
       "    <tr>\n",
       "      <th>0</th>\n",
       "      <td>1</td>\n",
       "      <td>Toy Story (1995)</td>\n",
       "      <td>Comedy</td>\n",
       "      <td>1995.0</td>\n",
       "      <td>1989-2000</td>\n",
       "    </tr>\n",
       "    <tr>\n",
       "      <th>1</th>\n",
       "      <td>2</td>\n",
       "      <td>Jumanji (1995)</td>\n",
       "      <td>Adventure</td>\n",
       "      <td>1995.0</td>\n",
       "      <td>1989-2000</td>\n",
       "    </tr>\n",
       "    <tr>\n",
       "      <th>1</th>\n",
       "      <td>2</td>\n",
       "      <td>Jumanji (1995)</td>\n",
       "      <td>Children's</td>\n",
       "      <td>1995.0</td>\n",
       "      <td>1989-2000</td>\n",
       "    </tr>\n",
       "  </tbody>\n",
       "</table>\n",
       "</div>"
      ],
      "text/plain": [
       "   Movie ID             Title      Genres  Release year     Decade\n",
       "0         1  Toy Story (1995)   Animation        1995.0  1989-2000\n",
       "0         1  Toy Story (1995)  Children's        1995.0  1989-2000\n",
       "0         1  Toy Story (1995)      Comedy        1995.0  1989-2000\n",
       "1         2    Jumanji (1995)   Adventure        1995.0  1989-2000\n",
       "1         2    Jumanji (1995)  Children's        1995.0  1989-2000"
      ]
     },
     "execution_count": 28,
     "metadata": {},
     "output_type": "execute_result"
    }
   ],
   "source": [
    "orig_movies['Decade']=orig_movies['Release year'].apply(findDecade)\n",
    "orig_movies.head()"
   ]
  },
  {
   "cell_type": "markdown",
   "id": "b483b474",
   "metadata": {},
   "source": [
    "###### Pivotting the Table"
   ]
  },
  {
   "cell_type": "code",
   "execution_count": 29,
   "id": "c204fc42",
   "metadata": {},
   "outputs": [],
   "source": [
    "movies=movies.pivot(index='Movie ID',columns='Genres',values='Title')"
   ]
  },
  {
   "cell_type": "code",
   "execution_count": 30,
   "id": "99a0f3a6",
   "metadata": {},
   "outputs": [
    {
     "data": {
      "text/html": [
       "<div>\n",
       "<style scoped>\n",
       "    .dataframe tbody tr th:only-of-type {\n",
       "        vertical-align: middle;\n",
       "    }\n",
       "\n",
       "    .dataframe tbody tr th {\n",
       "        vertical-align: top;\n",
       "    }\n",
       "\n",
       "    .dataframe thead th {\n",
       "        text-align: right;\n",
       "    }\n",
       "</style>\n",
       "<table border=\"1\" class=\"dataframe\">\n",
       "  <thead>\n",
       "    <tr style=\"text-align: right;\">\n",
       "      <th>Genres</th>\n",
       "      <th>Action</th>\n",
       "      <th>Adventure</th>\n",
       "      <th>Animation</th>\n",
       "      <th>Children's</th>\n",
       "      <th>Comedy</th>\n",
       "      <th>Crime</th>\n",
       "      <th>Documentary</th>\n",
       "      <th>Drama</th>\n",
       "      <th>Fantasy</th>\n",
       "      <th>Film-Noir</th>\n",
       "      <th>Horror</th>\n",
       "      <th>Musical</th>\n",
       "      <th>Mystery</th>\n",
       "      <th>Other</th>\n",
       "      <th>Romance</th>\n",
       "      <th>Sci-Fi</th>\n",
       "      <th>Thriller</th>\n",
       "      <th>War</th>\n",
       "      <th>Western</th>\n",
       "    </tr>\n",
       "    <tr>\n",
       "      <th>Movie ID</th>\n",
       "      <th></th>\n",
       "      <th></th>\n",
       "      <th></th>\n",
       "      <th></th>\n",
       "      <th></th>\n",
       "      <th></th>\n",
       "      <th></th>\n",
       "      <th></th>\n",
       "      <th></th>\n",
       "      <th></th>\n",
       "      <th></th>\n",
       "      <th></th>\n",
       "      <th></th>\n",
       "      <th></th>\n",
       "      <th></th>\n",
       "      <th></th>\n",
       "      <th></th>\n",
       "      <th></th>\n",
       "      <th></th>\n",
       "    </tr>\n",
       "  </thead>\n",
       "  <tbody>\n",
       "    <tr>\n",
       "      <th>1</th>\n",
       "      <td>0</td>\n",
       "      <td>0</td>\n",
       "      <td>1</td>\n",
       "      <td>1</td>\n",
       "      <td>1</td>\n",
       "      <td>0</td>\n",
       "      <td>0</td>\n",
       "      <td>0</td>\n",
       "      <td>0</td>\n",
       "      <td>0</td>\n",
       "      <td>0</td>\n",
       "      <td>0</td>\n",
       "      <td>0</td>\n",
       "      <td>0</td>\n",
       "      <td>0</td>\n",
       "      <td>0</td>\n",
       "      <td>0</td>\n",
       "      <td>0</td>\n",
       "      <td>0</td>\n",
       "    </tr>\n",
       "    <tr>\n",
       "      <th>2</th>\n",
       "      <td>0</td>\n",
       "      <td>1</td>\n",
       "      <td>0</td>\n",
       "      <td>1</td>\n",
       "      <td>0</td>\n",
       "      <td>0</td>\n",
       "      <td>0</td>\n",
       "      <td>0</td>\n",
       "      <td>1</td>\n",
       "      <td>0</td>\n",
       "      <td>0</td>\n",
       "      <td>0</td>\n",
       "      <td>0</td>\n",
       "      <td>0</td>\n",
       "      <td>0</td>\n",
       "      <td>0</td>\n",
       "      <td>0</td>\n",
       "      <td>0</td>\n",
       "      <td>0</td>\n",
       "    </tr>\n",
       "    <tr>\n",
       "      <th>3</th>\n",
       "      <td>0</td>\n",
       "      <td>0</td>\n",
       "      <td>0</td>\n",
       "      <td>0</td>\n",
       "      <td>1</td>\n",
       "      <td>0</td>\n",
       "      <td>0</td>\n",
       "      <td>0</td>\n",
       "      <td>0</td>\n",
       "      <td>0</td>\n",
       "      <td>0</td>\n",
       "      <td>0</td>\n",
       "      <td>0</td>\n",
       "      <td>0</td>\n",
       "      <td>1</td>\n",
       "      <td>0</td>\n",
       "      <td>0</td>\n",
       "      <td>0</td>\n",
       "      <td>0</td>\n",
       "    </tr>\n",
       "    <tr>\n",
       "      <th>4</th>\n",
       "      <td>0</td>\n",
       "      <td>0</td>\n",
       "      <td>0</td>\n",
       "      <td>0</td>\n",
       "      <td>1</td>\n",
       "      <td>0</td>\n",
       "      <td>0</td>\n",
       "      <td>1</td>\n",
       "      <td>0</td>\n",
       "      <td>0</td>\n",
       "      <td>0</td>\n",
       "      <td>0</td>\n",
       "      <td>0</td>\n",
       "      <td>0</td>\n",
       "      <td>0</td>\n",
       "      <td>0</td>\n",
       "      <td>0</td>\n",
       "      <td>0</td>\n",
       "      <td>0</td>\n",
       "    </tr>\n",
       "    <tr>\n",
       "      <th>5</th>\n",
       "      <td>0</td>\n",
       "      <td>0</td>\n",
       "      <td>0</td>\n",
       "      <td>0</td>\n",
       "      <td>1</td>\n",
       "      <td>0</td>\n",
       "      <td>0</td>\n",
       "      <td>0</td>\n",
       "      <td>0</td>\n",
       "      <td>0</td>\n",
       "      <td>0</td>\n",
       "      <td>0</td>\n",
       "      <td>0</td>\n",
       "      <td>0</td>\n",
       "      <td>0</td>\n",
       "      <td>0</td>\n",
       "      <td>0</td>\n",
       "      <td>0</td>\n",
       "      <td>0</td>\n",
       "    </tr>\n",
       "  </tbody>\n",
       "</table>\n",
       "</div>"
      ],
      "text/plain": [
       "Genres    Action  Adventure  Animation  Children's  Comedy  Crime  \\\n",
       "Movie ID                                                            \n",
       "1              0          0          1           1       1      0   \n",
       "2              0          1          0           1       0      0   \n",
       "3              0          0          0           0       1      0   \n",
       "4              0          0          0           0       1      0   \n",
       "5              0          0          0           0       1      0   \n",
       "\n",
       "Genres    Documentary  Drama  Fantasy  Film-Noir  Horror  Musical  Mystery  \\\n",
       "Movie ID                                                                     \n",
       "1                   0      0        0          0       0        0        0   \n",
       "2                   0      0        1          0       0        0        0   \n",
       "3                   0      0        0          0       0        0        0   \n",
       "4                   0      1        0          0       0        0        0   \n",
       "5                   0      0        0          0       0        0        0   \n",
       "\n",
       "Genres    Other  Romance  Sci-Fi  Thriller  War  Western  \n",
       "Movie ID                                                  \n",
       "1             0        0       0         0    0        0  \n",
       "2             0        0       0         0    0        0  \n",
       "3             0        1       0         0    0        0  \n",
       "4             0        0       0         0    0        0  \n",
       "5             0        0       0         0    0        0  "
      ]
     },
     "execution_count": 30,
     "metadata": {},
     "output_type": "execute_result"
    }
   ],
   "source": [
    "movies=movies.notna().astype(int)\n",
    "movies.head()"
   ]
  },
  {
   "cell_type": "markdown",
   "id": "a1934f8d",
   "metadata": {},
   "source": [
    "Movies dataset is prepared now for further processing."
   ]
  },
  {
   "cell_type": "markdown",
   "id": "3d2231fc",
   "metadata": {},
   "source": [
    "###### Users"
   ]
  },
  {
   "cell_type": "code",
   "execution_count": 31,
   "id": "90a303a1",
   "metadata": {},
   "outputs": [
    {
     "data": {
      "text/html": [
       "<div>\n",
       "<style scoped>\n",
       "    .dataframe tbody tr th:only-of-type {\n",
       "        vertical-align: middle;\n",
       "    }\n",
       "\n",
       "    .dataframe tbody tr th {\n",
       "        vertical-align: top;\n",
       "    }\n",
       "\n",
       "    .dataframe thead th {\n",
       "        text-align: right;\n",
       "    }\n",
       "</style>\n",
       "<table border=\"1\" class=\"dataframe\">\n",
       "  <thead>\n",
       "    <tr style=\"text-align: right;\">\n",
       "      <th></th>\n",
       "      <th>UserID</th>\n",
       "      <th>Gender</th>\n",
       "      <th>Age</th>\n",
       "      <th>Occupation</th>\n",
       "      <th>Zip-code</th>\n",
       "    </tr>\n",
       "  </thead>\n",
       "  <tbody>\n",
       "    <tr>\n",
       "      <th>0</th>\n",
       "      <td>1</td>\n",
       "      <td>F</td>\n",
       "      <td>1</td>\n",
       "      <td>10</td>\n",
       "      <td>48067</td>\n",
       "    </tr>\n",
       "    <tr>\n",
       "      <th>1</th>\n",
       "      <td>2</td>\n",
       "      <td>M</td>\n",
       "      <td>56</td>\n",
       "      <td>16</td>\n",
       "      <td>70072</td>\n",
       "    </tr>\n",
       "    <tr>\n",
       "      <th>2</th>\n",
       "      <td>3</td>\n",
       "      <td>M</td>\n",
       "      <td>25</td>\n",
       "      <td>15</td>\n",
       "      <td>55117</td>\n",
       "    </tr>\n",
       "    <tr>\n",
       "      <th>3</th>\n",
       "      <td>4</td>\n",
       "      <td>M</td>\n",
       "      <td>45</td>\n",
       "      <td>7</td>\n",
       "      <td>02460</td>\n",
       "    </tr>\n",
       "    <tr>\n",
       "      <th>4</th>\n",
       "      <td>5</td>\n",
       "      <td>M</td>\n",
       "      <td>25</td>\n",
       "      <td>20</td>\n",
       "      <td>55455</td>\n",
       "    </tr>\n",
       "  </tbody>\n",
       "</table>\n",
       "</div>"
      ],
      "text/plain": [
       "  UserID Gender Age Occupation Zip-code\n",
       "0      1      F   1         10    48067\n",
       "1      2      M  56         16    70072\n",
       "2      3      M  25         15    55117\n",
       "3      4      M  45          7    02460\n",
       "4      5      M  25         20    55455"
      ]
     },
     "execution_count": 31,
     "metadata": {},
     "output_type": "execute_result"
    }
   ],
   "source": [
    "users.head()"
   ]
  },
  {
   "cell_type": "markdown",
   "id": "6698ac82",
   "metadata": {},
   "source": [
    "Checking the data types of the features"
   ]
  },
  {
   "cell_type": "code",
   "execution_count": 32,
   "id": "20c80919",
   "metadata": {},
   "outputs": [
    {
     "name": "stdout",
     "output_type": "stream",
     "text": [
      "<class 'pandas.core.frame.DataFrame'>\n",
      "RangeIndex: 6040 entries, 0 to 6039\n",
      "Data columns (total 5 columns):\n",
      " #   Column      Non-Null Count  Dtype \n",
      "---  ------      --------------  ----- \n",
      " 0   UserID      6040 non-null   object\n",
      " 1   Gender      6040 non-null   object\n",
      " 2   Age         6040 non-null   object\n",
      " 3   Occupation  6040 non-null   object\n",
      " 4   Zip-code    6040 non-null   object\n",
      "dtypes: object(5)\n",
      "memory usage: 236.1+ KB\n"
     ]
    }
   ],
   "source": [
    "users.info()"
   ]
  },
  {
   "cell_type": "code",
   "execution_count": 33,
   "id": "a380e51f",
   "metadata": {},
   "outputs": [
    {
     "name": "stdout",
     "output_type": "stream",
     "text": [
      "<class 'pandas.core.frame.DataFrame'>\n",
      "RangeIndex: 6040 entries, 0 to 6039\n",
      "Data columns (total 5 columns):\n",
      " #   Column      Non-Null Count  Dtype \n",
      "---  ------      --------------  ----- \n",
      " 0   UserID      6040 non-null   int32 \n",
      " 1   Gender      6040 non-null   object\n",
      " 2   Age         6040 non-null   int32 \n",
      " 3   Occupation  6040 non-null   int32 \n",
      " 4   Zip-code    6040 non-null   object\n",
      "dtypes: int32(3), object(2)\n",
      "memory usage: 165.3+ KB\n"
     ]
    }
   ],
   "source": [
    "users.UserID=users.UserID.astype('int')\n",
    "users.Age=users.Age.astype('int')\n",
    "users.Occupation=users.Occupation.astype('int')\n",
    "users.info()"
   ]
  },
  {
   "cell_type": "markdown",
   "id": "2235f9d4",
   "metadata": {},
   "source": [
    "- Removing the UserID column from the dataframe and making it as the index of the dataframe."
   ]
  },
  {
   "cell_type": "code",
   "execution_count": 34,
   "id": "07732a9f",
   "metadata": {},
   "outputs": [
    {
     "data": {
      "text/html": [
       "<div>\n",
       "<style scoped>\n",
       "    .dataframe tbody tr th:only-of-type {\n",
       "        vertical-align: middle;\n",
       "    }\n",
       "\n",
       "    .dataframe tbody tr th {\n",
       "        vertical-align: top;\n",
       "    }\n",
       "\n",
       "    .dataframe thead th {\n",
       "        text-align: right;\n",
       "    }\n",
       "</style>\n",
       "<table border=\"1\" class=\"dataframe\">\n",
       "  <thead>\n",
       "    <tr style=\"text-align: right;\">\n",
       "      <th></th>\n",
       "      <th>Gender</th>\n",
       "      <th>Age</th>\n",
       "      <th>Occupation</th>\n",
       "      <th>Zip-code</th>\n",
       "    </tr>\n",
       "    <tr>\n",
       "      <th>UserID</th>\n",
       "      <th></th>\n",
       "      <th></th>\n",
       "      <th></th>\n",
       "      <th></th>\n",
       "    </tr>\n",
       "  </thead>\n",
       "  <tbody>\n",
       "    <tr>\n",
       "      <th>1</th>\n",
       "      <td>F</td>\n",
       "      <td>1</td>\n",
       "      <td>10</td>\n",
       "      <td>48067</td>\n",
       "    </tr>\n",
       "    <tr>\n",
       "      <th>2</th>\n",
       "      <td>M</td>\n",
       "      <td>56</td>\n",
       "      <td>16</td>\n",
       "      <td>70072</td>\n",
       "    </tr>\n",
       "    <tr>\n",
       "      <th>3</th>\n",
       "      <td>M</td>\n",
       "      <td>25</td>\n",
       "      <td>15</td>\n",
       "      <td>55117</td>\n",
       "    </tr>\n",
       "    <tr>\n",
       "      <th>4</th>\n",
       "      <td>M</td>\n",
       "      <td>45</td>\n",
       "      <td>7</td>\n",
       "      <td>02460</td>\n",
       "    </tr>\n",
       "    <tr>\n",
       "      <th>5</th>\n",
       "      <td>M</td>\n",
       "      <td>25</td>\n",
       "      <td>20</td>\n",
       "      <td>55455</td>\n",
       "    </tr>\n",
       "  </tbody>\n",
       "</table>\n",
       "</div>"
      ],
      "text/plain": [
       "       Gender  Age  Occupation Zip-code\n",
       "UserID                                 \n",
       "1           F    1          10    48067\n",
       "2           M   56          16    70072\n",
       "3           M   25          15    55117\n",
       "4           M   45           7    02460\n",
       "5           M   25          20    55455"
      ]
     },
     "execution_count": 34,
     "metadata": {},
     "output_type": "execute_result"
    }
   ],
   "source": [
    "users.index=users.UserID\n",
    "users.drop('UserID',axis=1,inplace=True)\n",
    "users.head()"
   ]
  },
  {
   "cell_type": "markdown",
   "id": "6fd74e2c",
   "metadata": {},
   "source": [
    "Mapping Gender feature"
   ]
  },
  {
   "cell_type": "code",
   "execution_count": 35,
   "id": "ce623233",
   "metadata": {},
   "outputs": [
    {
     "data": {
      "text/html": [
       "<div>\n",
       "<style scoped>\n",
       "    .dataframe tbody tr th:only-of-type {\n",
       "        vertical-align: middle;\n",
       "    }\n",
       "\n",
       "    .dataframe tbody tr th {\n",
       "        vertical-align: top;\n",
       "    }\n",
       "\n",
       "    .dataframe thead th {\n",
       "        text-align: right;\n",
       "    }\n",
       "</style>\n",
       "<table border=\"1\" class=\"dataframe\">\n",
       "  <thead>\n",
       "    <tr style=\"text-align: right;\">\n",
       "      <th></th>\n",
       "      <th>Gender</th>\n",
       "      <th>Age</th>\n",
       "      <th>Occupation</th>\n",
       "      <th>Zip-code</th>\n",
       "    </tr>\n",
       "    <tr>\n",
       "      <th>UserID</th>\n",
       "      <th></th>\n",
       "      <th></th>\n",
       "      <th></th>\n",
       "      <th></th>\n",
       "    </tr>\n",
       "  </thead>\n",
       "  <tbody>\n",
       "    <tr>\n",
       "      <th>1</th>\n",
       "      <td>0</td>\n",
       "      <td>1</td>\n",
       "      <td>10</td>\n",
       "      <td>48067</td>\n",
       "    </tr>\n",
       "    <tr>\n",
       "      <th>2</th>\n",
       "      <td>1</td>\n",
       "      <td>56</td>\n",
       "      <td>16</td>\n",
       "      <td>70072</td>\n",
       "    </tr>\n",
       "    <tr>\n",
       "      <th>3</th>\n",
       "      <td>1</td>\n",
       "      <td>25</td>\n",
       "      <td>15</td>\n",
       "      <td>55117</td>\n",
       "    </tr>\n",
       "    <tr>\n",
       "      <th>4</th>\n",
       "      <td>1</td>\n",
       "      <td>45</td>\n",
       "      <td>7</td>\n",
       "      <td>02460</td>\n",
       "    </tr>\n",
       "    <tr>\n",
       "      <th>5</th>\n",
       "      <td>1</td>\n",
       "      <td>25</td>\n",
       "      <td>20</td>\n",
       "      <td>55455</td>\n",
       "    </tr>\n",
       "  </tbody>\n",
       "</table>\n",
       "</div>"
      ],
      "text/plain": [
       "        Gender  Age  Occupation Zip-code\n",
       "UserID                                  \n",
       "1            0    1          10    48067\n",
       "2            1   56          16    70072\n",
       "3            1   25          15    55117\n",
       "4            1   45           7    02460\n",
       "5            1   25          20    55455"
      ]
     },
     "execution_count": 35,
     "metadata": {},
     "output_type": "execute_result"
    }
   ],
   "source": [
    "users.Gender=users.Gender.map({'F':0,'M':1})    #Label encoding the Gender feature.\n",
    "users.head()"
   ]
  },
  {
   "cell_type": "markdown",
   "id": "4d4465af",
   "metadata": {},
   "source": [
    "The Occupation feature we have is already label encoded and each of the encoded value refers to the below occupations.\n",
    "<br><br>\n",
    "0: \"other\" or not specified\n",
    "\n",
    "1: \"academic/educator\"\n",
    "\n",
    "2: \"artist\"\n",
    "\n",
    "3: \"clerical/admin\"\n",
    "\n",
    "4: \"college/grad student\"\n",
    "\n",
    "5: \"customer service\"\n",
    "\n",
    "6: \"doctor/health care\"\n",
    "\n",
    "7: \"executive/managerial\"\n",
    "\n",
    "8: \"farmer\"\n",
    "\n",
    "9: \"homemaker\"\n",
    "\n",
    "10: \"K-12 student\"\n",
    "\n",
    "11: \"lawyer\"\n",
    "\n",
    "12: \"programmer\"\n",
    "\n",
    "13: \"retired\"\n",
    "\n",
    "14: \"sales/marketing\"\n",
    "\n",
    "15: \"scientist\"\n",
    "\n",
    "16: \"self-employed\"\n",
    "\n",
    "17: \"technician/engineer\"\n",
    "\n",
    "18: \"tradesman/craftsman\"\n",
    "\n",
    "19: \"unemployed\"\n",
    "\n",
    "20: \"writer\""
   ]
  },
  {
   "cell_type": "code",
   "execution_count": 36,
   "id": "ac9fbf99",
   "metadata": {},
   "outputs": [
    {
     "data": {
      "image/png": "[encoded data removed]",
      "text/plain": [
       "<Figure size 1500x1000 with 1 Axes>"
      ]
     },
     "metadata": {},
     "output_type": "display_data"
    }
   ],
   "source": [
    "plt.figure(figsize=(15,10))\n",
    "ax=users.Occupation.value_counts().plot(kind='bar')\n",
    "for patch in ax.patches:\n",
    "    ax.annotate(patch.get_height(),(patch.get_x()+0.2*patch.get_width(),patch.get_height()+20),rotation=90)\n",
    "plt.show()   "
   ]
  },
  {
   "cell_type": "markdown",
   "id": "d12675a5",
   "metadata": {},
   "source": [
    "From the plot above, we can see that most number of users have their Occupation feature set as 4. Which means that most number of users are **College or Grad student**."
   ]
  },
  {
   "cell_type": "markdown",
   "id": "e1c686fc",
   "metadata": {},
   "source": [
    "Distribution of Age feature"
   ]
  },
  {
   "cell_type": "markdown",
   "id": "84de3b21",
   "metadata": {},
   "source": [
    "The age of the users has been bucketed to different categories as below:\n",
    "<br><br>\n",
    "1: \"Under 18\"\n",
    "\n",
    "18: \"18-24\"\n",
    "\n",
    "25: \"25-34\"\n",
    "\n",
    "35: \"35-44\"\n",
    "\n",
    "45: \"45-49\"\n",
    "\n",
    "50: \"50-55\"\n",
    "\n",
    "56: \"56+\""
   ]
  },
  {
   "cell_type": "code",
   "execution_count": 37,
   "id": "de68dc93",
   "metadata": {},
   "outputs": [
    {
     "data": {
      "image/png": "[encoded data removed]",
      "text/plain": [
       "<Figure size 1500x1000 with 1 Axes>"
      ]
     },
     "metadata": {},
     "output_type": "display_data"
    }
   ],
   "source": [
    "plt.figure(figsize=(15,10))\n",
    "ax=users.Age.value_counts().plot(kind='bar')\n",
    "for patch in ax.patches:\n",
    "    ax.annotate(patch.get_height(),(patch.get_x()+0.2*patch.get_width(),patch.get_height()+10))\n",
    "plt.show()"
   ]
  },
  {
   "cell_type": "markdown",
   "id": "bae8348f",
   "metadata": {},
   "source": [
    "From the above distribution, we can see that about 2096 users are in the age gap between 25 and 34. About 1193 are in the category between 35 and 44. There are about 222 users using the app who are below 18 years."
   ]
  },
  {
   "cell_type": "markdown",
   "id": "7308fcea",
   "metadata": {},
   "source": [
    "##### Ratings"
   ]
  },
  {
   "cell_type": "code",
   "execution_count": 38,
   "id": "ad72aac7",
   "metadata": {},
   "outputs": [
    {
     "data": {
      "text/html": [
       "<div>\n",
       "<style scoped>\n",
       "    .dataframe tbody tr th:only-of-type {\n",
       "        vertical-align: middle;\n",
       "    }\n",
       "\n",
       "    .dataframe tbody tr th {\n",
       "        vertical-align: top;\n",
       "    }\n",
       "\n",
       "    .dataframe thead th {\n",
       "        text-align: right;\n",
       "    }\n",
       "</style>\n",
       "<table border=\"1\" class=\"dataframe\">\n",
       "  <thead>\n",
       "    <tr style=\"text-align: right;\">\n",
       "      <th></th>\n",
       "      <th>UserID</th>\n",
       "      <th>MovieID</th>\n",
       "      <th>Rating</th>\n",
       "      <th>Timestamp</th>\n",
       "    </tr>\n",
       "  </thead>\n",
       "  <tbody>\n",
       "    <tr>\n",
       "      <th>0</th>\n",
       "      <td>1</td>\n",
       "      <td>1193</td>\n",
       "      <td>5</td>\n",
       "      <td>978300760</td>\n",
       "    </tr>\n",
       "    <tr>\n",
       "      <th>1</th>\n",
       "      <td>1</td>\n",
       "      <td>661</td>\n",
       "      <td>3</td>\n",
       "      <td>978302109</td>\n",
       "    </tr>\n",
       "    <tr>\n",
       "      <th>2</th>\n",
       "      <td>1</td>\n",
       "      <td>914</td>\n",
       "      <td>3</td>\n",
       "      <td>978301968</td>\n",
       "    </tr>\n",
       "    <tr>\n",
       "      <th>3</th>\n",
       "      <td>1</td>\n",
       "      <td>3408</td>\n",
       "      <td>4</td>\n",
       "      <td>978300275</td>\n",
       "    </tr>\n",
       "    <tr>\n",
       "      <th>4</th>\n",
       "      <td>1</td>\n",
       "      <td>2355</td>\n",
       "      <td>5</td>\n",
       "      <td>978824291</td>\n",
       "    </tr>\n",
       "  </tbody>\n",
       "</table>\n",
       "</div>"
      ],
      "text/plain": [
       "  UserID MovieID Rating  Timestamp\n",
       "0      1    1193      5  978300760\n",
       "1      1     661      3  978302109\n",
       "2      1     914      3  978301968\n",
       "3      1    3408      4  978300275\n",
       "4      1    2355      5  978824291"
      ]
     },
     "execution_count": 38,
     "metadata": {},
     "output_type": "execute_result"
    }
   ],
   "source": [
    "ratings.head()"
   ]
  },
  {
   "cell_type": "markdown",
   "id": "80608d62",
   "metadata": {},
   "source": [
    "Lets do some feature engineering to extract Hours from the Time stamp feature. "
   ]
  },
  {
   "cell_type": "code",
   "execution_count": 39,
   "id": "d711abf2",
   "metadata": {},
   "outputs": [],
   "source": [
    "import datetime as dt"
   ]
  },
  {
   "cell_type": "code",
   "execution_count": 40,
   "id": "4aea9df4",
   "metadata": {},
   "outputs": [],
   "source": [
    "ratings['date']=ratings.Timestamp.apply(lambda x:dt.datetime.fromtimestamp(int(x)).date())\n",
    "ratings['hour']=ratings.Timestamp.apply(lambda x: dt.datetime.fromtimestamp(int(x)).hour)"
   ]
  },
  {
   "cell_type": "code",
   "execution_count": 41,
   "id": "a26f0b0f",
   "metadata": {},
   "outputs": [
    {
     "data": {
      "text/html": [
       "<div>\n",
       "<style scoped>\n",
       "    .dataframe tbody tr th:only-of-type {\n",
       "        vertical-align: middle;\n",
       "    }\n",
       "\n",
       "    .dataframe tbody tr th {\n",
       "        vertical-align: top;\n",
       "    }\n",
       "\n",
       "    .dataframe thead th {\n",
       "        text-align: right;\n",
       "    }\n",
       "</style>\n",
       "<table border=\"1\" class=\"dataframe\">\n",
       "  <thead>\n",
       "    <tr style=\"text-align: right;\">\n",
       "      <th></th>\n",
       "      <th>UserID</th>\n",
       "      <th>MovieID</th>\n",
       "      <th>Rating</th>\n",
       "      <th>Timestamp</th>\n",
       "      <th>date</th>\n",
       "      <th>hour</th>\n",
       "    </tr>\n",
       "  </thead>\n",
       "  <tbody>\n",
       "    <tr>\n",
       "      <th>0</th>\n",
       "      <td>1</td>\n",
       "      <td>1193</td>\n",
       "      <td>5</td>\n",
       "      <td>978300760</td>\n",
       "      <td>2001-01-01</td>\n",
       "      <td>3</td>\n",
       "    </tr>\n",
       "    <tr>\n",
       "      <th>1</th>\n",
       "      <td>1</td>\n",
       "      <td>661</td>\n",
       "      <td>3</td>\n",
       "      <td>978302109</td>\n",
       "      <td>2001-01-01</td>\n",
       "      <td>4</td>\n",
       "    </tr>\n",
       "    <tr>\n",
       "      <th>2</th>\n",
       "      <td>1</td>\n",
       "      <td>914</td>\n",
       "      <td>3</td>\n",
       "      <td>978301968</td>\n",
       "      <td>2001-01-01</td>\n",
       "      <td>4</td>\n",
       "    </tr>\n",
       "    <tr>\n",
       "      <th>3</th>\n",
       "      <td>1</td>\n",
       "      <td>3408</td>\n",
       "      <td>4</td>\n",
       "      <td>978300275</td>\n",
       "      <td>2001-01-01</td>\n",
       "      <td>3</td>\n",
       "    </tr>\n",
       "    <tr>\n",
       "      <th>4</th>\n",
       "      <td>1</td>\n",
       "      <td>2355</td>\n",
       "      <td>5</td>\n",
       "      <td>978824291</td>\n",
       "      <td>2001-01-07</td>\n",
       "      <td>5</td>\n",
       "    </tr>\n",
       "  </tbody>\n",
       "</table>\n",
       "</div>"
      ],
      "text/plain": [
       "  UserID MovieID Rating  Timestamp        date  hour\n",
       "0      1    1193      5  978300760  2001-01-01     3\n",
       "1      1     661      3  978302109  2001-01-01     4\n",
       "2      1     914      3  978301968  2001-01-01     4\n",
       "3      1    3408      4  978300275  2001-01-01     3\n",
       "4      1    2355      5  978824291  2001-01-07     5"
      ]
     },
     "execution_count": 41,
     "metadata": {},
     "output_type": "execute_result"
    }
   ],
   "source": [
    "ratings.head()"
   ]
  },
  {
   "cell_type": "markdown",
   "id": "25a0f6ae",
   "metadata": {},
   "source": [
    "We have extracted the Hour and date from the Timestamp feature"
   ]
  },
  {
   "cell_type": "markdown",
   "id": "0b96599f",
   "metadata": {},
   "source": [
    "##### Number of movies that were rated on a particular date."
   ]
  },
  {
   "cell_type": "markdown",
   "id": "69477515",
   "metadata": {},
   "source": [
    "Let's check for the dates from 26th April 2000 to 5th May 2000."
   ]
  },
  {
   "cell_type": "code",
   "execution_count": 42,
   "id": "e13b01bc",
   "metadata": {},
   "outputs": [
    {
     "data": {
      "text/plain": [
       "date\n",
       "2000-04-26    3181\n",
       "2000-04-27    2580\n",
       "2000-04-28    2189\n",
       "2000-04-29    2376\n",
       "2000-04-30     913\n",
       "2000-05-01    1282\n",
       "2000-05-02    1754\n",
       "2000-05-03    2093\n",
       "2000-05-04    1490\n",
       "2000-05-05    2953\n",
       "Name: hour, dtype: int64"
      ]
     },
     "execution_count": 42,
     "metadata": {},
     "output_type": "execute_result"
    }
   ],
   "source": [
    "ratings.groupby('date')['hour'].agg('count')[:10]"
   ]
  },
  {
   "cell_type": "code",
   "execution_count": 43,
   "id": "ba8f291a",
   "metadata": {},
   "outputs": [
    {
     "data": {
      "image/png": "[encoded data removed]",
      "text/plain": [
       "<Figure size 640x480 with 1 Axes>"
      ]
     },
     "metadata": {},
     "output_type": "display_data"
    }
   ],
   "source": [
    "ax=ratings.groupby('date')['hour'].agg('count')[:10].plot(kind='bar')\n",
    "for patch in ax.patches:\n",
    "    ax.annotate(patch.get_height(),(patch.get_x()+patch.get_width()*0.15,patch.get_height()+15))\n",
    "plt.show()"
   ]
  },
  {
   "cell_type": "markdown",
   "id": "0a58d2f6",
   "metadata": {},
   "source": [
    "###### Number of movies under each ratings"
   ]
  },
  {
   "cell_type": "code",
   "execution_count": 44,
   "id": "d1da2f83",
   "metadata": {},
   "outputs": [
    {
     "data": {
      "image/png": "[encoded data removed]",
      "text/plain": [
       "<Figure size 640x480 with 1 Axes>"
      ]
     },
     "metadata": {},
     "output_type": "display_data"
    }
   ],
   "source": [
    "ratings.Rating.value_counts().plot(kind='pie',autopct='%.2f')\n",
    "plt.show()"
   ]
  },
  {
   "cell_type": "markdown",
   "id": "df9e58d8",
   "metadata": {},
   "source": [
    "From the Pie chart above, we can see that about 34.89% of the movies are been rated as 4 and about 22.63% of the movies are rated as 5. Only 5.62% of the movies have the ratings as 1."
   ]
  },
  {
   "cell_type": "markdown",
   "id": "7a2b6820",
   "metadata": {},
   "source": [
    "Changing the datatype of features in the dataset"
   ]
  },
  {
   "cell_type": "code",
   "execution_count": 45,
   "id": "76bc75dd",
   "metadata": {},
   "outputs": [
    {
     "name": "stdout",
     "output_type": "stream",
     "text": [
      "<class 'pandas.core.frame.DataFrame'>\n",
      "RangeIndex: 1000209 entries, 0 to 1000208\n",
      "Data columns (total 6 columns):\n",
      " #   Column     Non-Null Count    Dtype \n",
      "---  ------     --------------    ----- \n",
      " 0   UserID     1000209 non-null  int32 \n",
      " 1   MovieID    1000209 non-null  int32 \n",
      " 2   Rating     1000209 non-null  int32 \n",
      " 3   Timestamp  1000209 non-null  object\n",
      " 4   date       1000209 non-null  object\n",
      " 5   hour       1000209 non-null  int64 \n",
      "dtypes: int32(3), int64(1), object(2)\n",
      "memory usage: 34.3+ MB\n"
     ]
    }
   ],
   "source": [
    "ratings.UserID=ratings.UserID.astype('int')\n",
    "ratings.MovieID=ratings.MovieID.astype('int')\n",
    "ratings.Rating=ratings.Rating.astype('int')\n",
    "ratings.info()"
   ]
  },
  {
   "cell_type": "markdown",
   "id": "56ab82b8",
   "metadata": {},
   "source": [
    "**Getting the 1000 Popular movies (ie: Those movies which has more number of views)**"
   ]
  },
  {
   "cell_type": "markdown",
   "id": "13067859",
   "metadata": {},
   "source": [
    "As we have more number of movies in the dataset, filtering out 1000 popular movies from the dataset for further process."
   ]
  },
  {
   "cell_type": "code",
   "execution_count": 46,
   "id": "85e869d9",
   "metadata": {},
   "outputs": [
    {
     "name": "stdout",
     "output_type": "stream",
     "text": [
      "[2858, 260, 1196, 1210, 480, 2028, 589, 2571, 1270, 593, 1580, 1198, 608, 2762, 110, 2396, 1197, 527, 1617, 1265]\n"
     ]
    }
   ],
   "source": [
    "popular_movies=ratings.MovieID.value_counts()[:1000].index.to_list()\n",
    "print(popular_movies[:20])   #Just printing 20 Popular movie ID's"
   ]
  },
  {
   "cell_type": "markdown",
   "id": "f44c1ab3",
   "metadata": {},
   "source": [
    "**Filtering out the dataset's to only have popular movies**"
   ]
  },
  {
   "cell_type": "code",
   "execution_count": 47,
   "id": "c4394828",
   "metadata": {},
   "outputs": [],
   "source": [
    "movies=movies.loc[movies.index.isin(popular_movies)]"
   ]
  },
  {
   "cell_type": "code",
   "execution_count": 48,
   "id": "e63588ad",
   "metadata": {},
   "outputs": [],
   "source": [
    "ratings=ratings.loc[ratings.MovieID.isin(popular_movies)]"
   ]
  },
  {
   "cell_type": "markdown",
   "id": "8fcf248d",
   "metadata": {},
   "source": [
    "##### Building the Item-based Recommendation system using Pearson-correlation"
   ]
  },
  {
   "cell_type": "code",
   "execution_count": 49,
   "id": "36044fa2",
   "metadata": {},
   "outputs": [],
   "source": [
    "from scipy.stats import pearsonr\n",
    "def findPearson(vec1,vec2):\n",
    "    return pearsonr(vec1,vec2)"
   ]
  },
  {
   "cell_type": "code",
   "execution_count": 50,
   "id": "3e0182e3",
   "metadata": {},
   "outputs": [
    {
     "data": {
      "text/html": [
       "<div>\n",
       "<style scoped>\n",
       "    .dataframe tbody tr th:only-of-type {\n",
       "        vertical-align: middle;\n",
       "    }\n",
       "\n",
       "    .dataframe tbody tr th {\n",
       "        vertical-align: top;\n",
       "    }\n",
       "\n",
       "    .dataframe thead th {\n",
       "        text-align: right;\n",
       "    }\n",
       "</style>\n",
       "<table border=\"1\" class=\"dataframe\">\n",
       "  <thead>\n",
       "    <tr style=\"text-align: right;\">\n",
       "      <th>Genres</th>\n",
       "      <th>Action</th>\n",
       "      <th>Adventure</th>\n",
       "      <th>Animation</th>\n",
       "      <th>Children's</th>\n",
       "      <th>Comedy</th>\n",
       "      <th>Crime</th>\n",
       "      <th>Documentary</th>\n",
       "      <th>Drama</th>\n",
       "      <th>Fantasy</th>\n",
       "      <th>Film-Noir</th>\n",
       "      <th>Horror</th>\n",
       "      <th>Musical</th>\n",
       "      <th>Mystery</th>\n",
       "      <th>Other</th>\n",
       "      <th>Romance</th>\n",
       "      <th>Sci-Fi</th>\n",
       "      <th>Thriller</th>\n",
       "      <th>War</th>\n",
       "      <th>Western</th>\n",
       "    </tr>\n",
       "    <tr>\n",
       "      <th>Movie ID</th>\n",
       "      <th></th>\n",
       "      <th></th>\n",
       "      <th></th>\n",
       "      <th></th>\n",
       "      <th></th>\n",
       "      <th></th>\n",
       "      <th></th>\n",
       "      <th></th>\n",
       "      <th></th>\n",
       "      <th></th>\n",
       "      <th></th>\n",
       "      <th></th>\n",
       "      <th></th>\n",
       "      <th></th>\n",
       "      <th></th>\n",
       "      <th></th>\n",
       "      <th></th>\n",
       "      <th></th>\n",
       "      <th></th>\n",
       "    </tr>\n",
       "  </thead>\n",
       "  <tbody>\n",
       "    <tr>\n",
       "      <th>1</th>\n",
       "      <td>0</td>\n",
       "      <td>0</td>\n",
       "      <td>1</td>\n",
       "      <td>1</td>\n",
       "      <td>1</td>\n",
       "      <td>0</td>\n",
       "      <td>0</td>\n",
       "      <td>0</td>\n",
       "      <td>0</td>\n",
       "      <td>0</td>\n",
       "      <td>0</td>\n",
       "      <td>0</td>\n",
       "      <td>0</td>\n",
       "      <td>0</td>\n",
       "      <td>0</td>\n",
       "      <td>0</td>\n",
       "      <td>0</td>\n",
       "      <td>0</td>\n",
       "      <td>0</td>\n",
       "    </tr>\n",
       "    <tr>\n",
       "      <th>2</th>\n",
       "      <td>0</td>\n",
       "      <td>1</td>\n",
       "      <td>0</td>\n",
       "      <td>1</td>\n",
       "      <td>0</td>\n",
       "      <td>0</td>\n",
       "      <td>0</td>\n",
       "      <td>0</td>\n",
       "      <td>1</td>\n",
       "      <td>0</td>\n",
       "      <td>0</td>\n",
       "      <td>0</td>\n",
       "      <td>0</td>\n",
       "      <td>0</td>\n",
       "      <td>0</td>\n",
       "      <td>0</td>\n",
       "      <td>0</td>\n",
       "      <td>0</td>\n",
       "      <td>0</td>\n",
       "    </tr>\n",
       "    <tr>\n",
       "      <th>3</th>\n",
       "      <td>0</td>\n",
       "      <td>0</td>\n",
       "      <td>0</td>\n",
       "      <td>0</td>\n",
       "      <td>1</td>\n",
       "      <td>0</td>\n",
       "      <td>0</td>\n",
       "      <td>0</td>\n",
       "      <td>0</td>\n",
       "      <td>0</td>\n",
       "      <td>0</td>\n",
       "      <td>0</td>\n",
       "      <td>0</td>\n",
       "      <td>0</td>\n",
       "      <td>1</td>\n",
       "      <td>0</td>\n",
       "      <td>0</td>\n",
       "      <td>0</td>\n",
       "      <td>0</td>\n",
       "    </tr>\n",
       "    <tr>\n",
       "      <th>6</th>\n",
       "      <td>1</td>\n",
       "      <td>0</td>\n",
       "      <td>0</td>\n",
       "      <td>0</td>\n",
       "      <td>0</td>\n",
       "      <td>1</td>\n",
       "      <td>0</td>\n",
       "      <td>0</td>\n",
       "      <td>0</td>\n",
       "      <td>0</td>\n",
       "      <td>0</td>\n",
       "      <td>0</td>\n",
       "      <td>0</td>\n",
       "      <td>0</td>\n",
       "      <td>0</td>\n",
       "      <td>0</td>\n",
       "      <td>1</td>\n",
       "      <td>0</td>\n",
       "      <td>0</td>\n",
       "    </tr>\n",
       "    <tr>\n",
       "      <th>7</th>\n",
       "      <td>0</td>\n",
       "      <td>0</td>\n",
       "      <td>0</td>\n",
       "      <td>0</td>\n",
       "      <td>1</td>\n",
       "      <td>0</td>\n",
       "      <td>0</td>\n",
       "      <td>0</td>\n",
       "      <td>0</td>\n",
       "      <td>0</td>\n",
       "      <td>0</td>\n",
       "      <td>0</td>\n",
       "      <td>0</td>\n",
       "      <td>0</td>\n",
       "      <td>1</td>\n",
       "      <td>0</td>\n",
       "      <td>0</td>\n",
       "      <td>0</td>\n",
       "      <td>0</td>\n",
       "    </tr>\n",
       "  </tbody>\n",
       "</table>\n",
       "</div>"
      ],
      "text/plain": [
       "Genres    Action  Adventure  Animation  Children's  Comedy  Crime  \\\n",
       "Movie ID                                                            \n",
       "1              0          0          1           1       1      0   \n",
       "2              0          1          0           1       0      0   \n",
       "3              0          0          0           0       1      0   \n",
       "6              1          0          0           0       0      1   \n",
       "7              0          0          0           0       1      0   \n",
       "\n",
       "Genres    Documentary  Drama  Fantasy  Film-Noir  Horror  Musical  Mystery  \\\n",
       "Movie ID                                                                     \n",
       "1                   0      0        0          0       0        0        0   \n",
       "2                   0      0        1          0       0        0        0   \n",
       "3                   0      0        0          0       0        0        0   \n",
       "6                   0      0        0          0       0        0        0   \n",
       "7                   0      0        0          0       0        0        0   \n",
       "\n",
       "Genres    Other  Romance  Sci-Fi  Thriller  War  Western  \n",
       "Movie ID                                                  \n",
       "1             0        0       0         0    0        0  \n",
       "2             0        0       0         0    0        0  \n",
       "3             0        1       0         0    0        0  \n",
       "6             0        0       0         1    0        0  \n",
       "7             0        1       0         0    0        0  "
      ]
     },
     "execution_count": 50,
     "metadata": {},
     "output_type": "execute_result"
    }
   ],
   "source": [
    "movies.head()"
   ]
  },
  {
   "cell_type": "code",
   "execution_count": 51,
   "id": "fec54aa9",
   "metadata": {},
   "outputs": [
    {
     "data": {
      "text/plain": [
       "(1000, 19)"
      ]
     },
     "execution_count": 51,
     "metadata": {},
     "output_type": "execute_result"
    }
   ],
   "source": [
    "movies.shape"
   ]
  },
  {
   "cell_type": "markdown",
   "id": "ec2a92f1",
   "metadata": {},
   "source": [
    "we will calculate the pearson correlation calculation for all the 1000 movies"
   ]
  },
  {
   "cell_type": "code",
   "execution_count": 52,
   "id": "ac03b82d",
   "metadata": {},
   "outputs": [],
   "source": [
    "rankings = []\n",
    "for i in movies.index[:1000]:\n",
    "    for j in movies.index[:1000]:\n",
    "        if i==j:\n",
    "            continue\n",
    "        rankings.append([i,j,findPearson(movies.loc[i],movies.loc[j])[0]])"
   ]
  },
  {
   "cell_type": "code",
   "execution_count": 53,
   "id": "b528ba45",
   "metadata": {},
   "outputs": [
    {
     "data": {
      "text/html": [
       "<div>\n",
       "<style scoped>\n",
       "    .dataframe tbody tr th:only-of-type {\n",
       "        vertical-align: middle;\n",
       "    }\n",
       "\n",
       "    .dataframe tbody tr th {\n",
       "        vertical-align: top;\n",
       "    }\n",
       "\n",
       "    .dataframe thead th {\n",
       "        text-align: right;\n",
       "    }\n",
       "</style>\n",
       "<table border=\"1\" class=\"dataframe\">\n",
       "  <thead>\n",
       "    <tr style=\"text-align: right;\">\n",
       "      <th></th>\n",
       "      <th>QueryMovie</th>\n",
       "      <th>CandidateMovie</th>\n",
       "      <th>Correlation</th>\n",
       "    </tr>\n",
       "  </thead>\n",
       "  <tbody>\n",
       "    <tr>\n",
       "      <th>0</th>\n",
       "      <td>1</td>\n",
       "      <td>2</td>\n",
       "      <td>0.208333</td>\n",
       "    </tr>\n",
       "    <tr>\n",
       "      <th>1</th>\n",
       "      <td>1</td>\n",
       "      <td>3</td>\n",
       "      <td>0.321798</td>\n",
       "    </tr>\n",
       "    <tr>\n",
       "      <th>2</th>\n",
       "      <td>1</td>\n",
       "      <td>6</td>\n",
       "      <td>-0.187500</td>\n",
       "    </tr>\n",
       "    <tr>\n",
       "      <th>3</th>\n",
       "      <td>1</td>\n",
       "      <td>7</td>\n",
       "      <td>0.321798</td>\n",
       "    </tr>\n",
       "    <tr>\n",
       "      <th>4</th>\n",
       "      <td>1</td>\n",
       "      <td>10</td>\n",
       "      <td>-0.187500</td>\n",
       "    </tr>\n",
       "  </tbody>\n",
       "</table>\n",
       "</div>"
      ],
      "text/plain": [
       "   QueryMovie  CandidateMovie  Correlation\n",
       "0           1               2     0.208333\n",
       "1           1               3     0.321798\n",
       "2           1               6    -0.187500\n",
       "3           1               7     0.321798\n",
       "4           1              10    -0.187500"
      ]
     },
     "execution_count": 53,
     "metadata": {},
     "output_type": "execute_result"
    }
   ],
   "source": [
    "rankings=pd.DataFrame(rankings,columns=['QueryMovie','CandidateMovie','Correlation'])\n",
    "rankings.head()"
   ]
  },
  {
   "cell_type": "markdown",
   "id": "d7b9ec26",
   "metadata": {},
   "source": [
    "Now from the existing movies table we will map the query movie title and Candidate movie title"
   ]
  },
  {
   "cell_type": "code",
   "execution_count": 54,
   "id": "62eb440c",
   "metadata": {},
   "outputs": [
    {
     "data": {
      "text/plain": [
       "(999000, 3)"
      ]
     },
     "execution_count": 54,
     "metadata": {},
     "output_type": "execute_result"
    }
   ],
   "source": [
    "rankings.shape"
   ]
  },
  {
   "cell_type": "markdown",
   "id": "584de51c",
   "metadata": {},
   "source": [
    "Merging the titles of the QueryMovie and CandidateMovie"
   ]
  },
  {
   "cell_type": "code",
   "execution_count": 55,
   "id": "ff1968cc",
   "metadata": {},
   "outputs": [
    {
     "data": {
      "text/html": [
       "<div>\n",
       "<style scoped>\n",
       "    .dataframe tbody tr th:only-of-type {\n",
       "        vertical-align: middle;\n",
       "    }\n",
       "\n",
       "    .dataframe tbody tr th {\n",
       "        vertical-align: top;\n",
       "    }\n",
       "\n",
       "    .dataframe thead th {\n",
       "        text-align: right;\n",
       "    }\n",
       "</style>\n",
       "<table border=\"1\" class=\"dataframe\">\n",
       "  <thead>\n",
       "    <tr style=\"text-align: right;\">\n",
       "      <th></th>\n",
       "      <th>QueryMovie</th>\n",
       "      <th>CandidateMovie</th>\n",
       "      <th>Correlation</th>\n",
       "      <th>QueryMovieTitle</th>\n",
       "    </tr>\n",
       "  </thead>\n",
       "  <tbody>\n",
       "    <tr>\n",
       "      <th>0</th>\n",
       "      <td>1</td>\n",
       "      <td>2</td>\n",
       "      <td>0.208333</td>\n",
       "      <td>Toy Story (1995)</td>\n",
       "    </tr>\n",
       "    <tr>\n",
       "      <th>1</th>\n",
       "      <td>1</td>\n",
       "      <td>3</td>\n",
       "      <td>0.321798</td>\n",
       "      <td>Toy Story (1995)</td>\n",
       "    </tr>\n",
       "    <tr>\n",
       "      <th>2</th>\n",
       "      <td>1</td>\n",
       "      <td>6</td>\n",
       "      <td>-0.187500</td>\n",
       "      <td>Toy Story (1995)</td>\n",
       "    </tr>\n",
       "    <tr>\n",
       "      <th>3</th>\n",
       "      <td>1</td>\n",
       "      <td>7</td>\n",
       "      <td>0.321798</td>\n",
       "      <td>Toy Story (1995)</td>\n",
       "    </tr>\n",
       "    <tr>\n",
       "      <th>4</th>\n",
       "      <td>1</td>\n",
       "      <td>10</td>\n",
       "      <td>-0.187500</td>\n",
       "      <td>Toy Story (1995)</td>\n",
       "    </tr>\n",
       "  </tbody>\n",
       "</table>\n",
       "</div>"
      ],
      "text/plain": [
       "   QueryMovie  CandidateMovie  Correlation   QueryMovieTitle\n",
       "0           1               2     0.208333  Toy Story (1995)\n",
       "1           1               3     0.321798  Toy Story (1995)\n",
       "2           1               6    -0.187500  Toy Story (1995)\n",
       "3           1               7     0.321798  Toy Story (1995)\n",
       "4           1              10    -0.187500  Toy Story (1995)"
      ]
     },
     "execution_count": 55,
     "metadata": {},
     "output_type": "execute_result"
    }
   ],
   "source": [
    "rankings['QueryMovieTitle']=rankings.QueryMovie.apply(lambda x:orig_movies.loc[orig_movies['Movie ID']==x]['Title'].values[0])\n",
    "rankings.head()"
   ]
  },
  {
   "cell_type": "markdown",
   "id": "049355a0",
   "metadata": {},
   "source": [
    "Similarly map the title's of the Candidate movies"
   ]
  },
  {
   "cell_type": "code",
   "execution_count": 56,
   "id": "f80817be",
   "metadata": {},
   "outputs": [
    {
     "data": {
      "text/html": [
       "<div>\n",
       "<style scoped>\n",
       "    .dataframe tbody tr th:only-of-type {\n",
       "        vertical-align: middle;\n",
       "    }\n",
       "\n",
       "    .dataframe tbody tr th {\n",
       "        vertical-align: top;\n",
       "    }\n",
       "\n",
       "    .dataframe thead th {\n",
       "        text-align: right;\n",
       "    }\n",
       "</style>\n",
       "<table border=\"1\" class=\"dataframe\">\n",
       "  <thead>\n",
       "    <tr style=\"text-align: right;\">\n",
       "      <th></th>\n",
       "      <th>QueryMovie</th>\n",
       "      <th>CandidateMovie</th>\n",
       "      <th>Correlation</th>\n",
       "      <th>QueryMovieTitle</th>\n",
       "      <th>CandidateMovieTitle</th>\n",
       "    </tr>\n",
       "  </thead>\n",
       "  <tbody>\n",
       "    <tr>\n",
       "      <th>0</th>\n",
       "      <td>1</td>\n",
       "      <td>2</td>\n",
       "      <td>0.208333</td>\n",
       "      <td>Toy Story (1995)</td>\n",
       "      <td>Jumanji (1995)</td>\n",
       "    </tr>\n",
       "    <tr>\n",
       "      <th>1</th>\n",
       "      <td>1</td>\n",
       "      <td>3</td>\n",
       "      <td>0.321798</td>\n",
       "      <td>Toy Story (1995)</td>\n",
       "      <td>Grumpier Old Men (1995)</td>\n",
       "    </tr>\n",
       "    <tr>\n",
       "      <th>2</th>\n",
       "      <td>1</td>\n",
       "      <td>6</td>\n",
       "      <td>-0.187500</td>\n",
       "      <td>Toy Story (1995)</td>\n",
       "      <td>Heat (1995)</td>\n",
       "    </tr>\n",
       "    <tr>\n",
       "      <th>3</th>\n",
       "      <td>1</td>\n",
       "      <td>7</td>\n",
       "      <td>0.321798</td>\n",
       "      <td>Toy Story (1995)</td>\n",
       "      <td>Sabrina (1995)</td>\n",
       "    </tr>\n",
       "    <tr>\n",
       "      <th>4</th>\n",
       "      <td>1</td>\n",
       "      <td>10</td>\n",
       "      <td>-0.187500</td>\n",
       "      <td>Toy Story (1995)</td>\n",
       "      <td>GoldenEye (1995)</td>\n",
       "    </tr>\n",
       "  </tbody>\n",
       "</table>\n",
       "</div>"
      ],
      "text/plain": [
       "   QueryMovie  CandidateMovie  Correlation   QueryMovieTitle  \\\n",
       "0           1               2     0.208333  Toy Story (1995)   \n",
       "1           1               3     0.321798  Toy Story (1995)   \n",
       "2           1               6    -0.187500  Toy Story (1995)   \n",
       "3           1               7     0.321798  Toy Story (1995)   \n",
       "4           1              10    -0.187500  Toy Story (1995)   \n",
       "\n",
       "       CandidateMovieTitle  \n",
       "0           Jumanji (1995)  \n",
       "1  Grumpier Old Men (1995)  \n",
       "2              Heat (1995)  \n",
       "3           Sabrina (1995)  \n",
       "4         GoldenEye (1995)  "
      ]
     },
     "execution_count": 56,
     "metadata": {},
     "output_type": "execute_result"
    }
   ],
   "source": [
    "rankings['CandidateMovieTitle']=rankings.CandidateMovie.apply(lambda x:orig_movies.loc[orig_movies['Movie ID']==x]['Title'].values[0])\n",
    "rankings.head()"
   ]
  },
  {
   "cell_type": "markdown",
   "id": "0291bee0",
   "metadata": {},
   "source": [
    "##### Function to recommend the movie based on the item-item approach:"
   ]
  },
  {
   "cell_type": "markdown",
   "id": "bb71d5f7",
   "metadata": {},
   "source": [
    "Sorting the rankings dataframe.\n",
    "\n",
    "- Here, When the correlation between 2 movies is high, then its more likely that those movies are similar to each other and it can be recommended to the users."
   ]
  },
  {
   "cell_type": "code",
   "execution_count": 57,
   "id": "5928be15",
   "metadata": {},
   "outputs": [],
   "source": [
    "rankings.sort_values(by=['QueryMovie','Correlation'],ascending=[True,False],inplace=True)"
   ]
  },
  {
   "cell_type": "code",
   "execution_count": 58,
   "id": "c0873a6c",
   "metadata": {},
   "outputs": [],
   "source": [
    "def item_recommend(title):\n",
    "    return(rankings.loc[rankings['QueryMovieTitle'].str.contains(title)]['CandidateMovieTitle'][:10])"
   ]
  },
  {
   "cell_type": "code",
   "execution_count": 59,
   "id": "413951e3",
   "metadata": {},
   "outputs": [],
   "source": [
    "def printMovies(result):\n",
    "    print('*'*10,'The Recommended Movies','*'*10)\n",
    "    for movie in result:\n",
    "        print(movie)\n",
    "    print('*'*20)"
   ]
  },
  {
   "cell_type": "code",
   "execution_count": 60,
   "id": "9c9c2dc8",
   "metadata": {},
   "outputs": [],
   "source": [
    "def get_movie_item_recommendation():\n",
    "    title=input(\"Please enter your favorite movie name :\")\n",
    "    results=item_recommend(title)\n",
    "    print()\n",
    "    printMovies(results)"
   ]
  },
  {
   "cell_type": "code",
   "execution_count": 143,
   "id": "02355677",
   "metadata": {},
   "outputs": [
    {
     "name": "stdout",
     "output_type": "stream",
     "text": [
      "Please enter your favorite movie name :Home Alone\n",
      "\n",
      "********** The Recommended Movies **********\n",
      "101 Dalmatians (1996)\n",
      "Mighty Ducks, The (1992)\n",
      "Babe: Pig in the City (1998)\n",
      "Home Alone 2: Lost in New York (1992)\n",
      "Stuart Little (1999)\n",
      "Muppet Movie, The (1979)\n",
      "Great Muppet Caper, The (1981)\n",
      "Muppets Take Manhattan, The (1984)\n",
      "Toy Story (1995)\n",
      "Babe (1995)\n",
      "********************\n"
     ]
    }
   ],
   "source": [
    "get_movie_item_recommendation()"
   ]
  },
  {
   "cell_type": "code",
   "execution_count": 144,
   "id": "702d340d",
   "metadata": {},
   "outputs": [
    {
     "name": "stdout",
     "output_type": "stream",
     "text": [
      "Please enter your favorite movie name :Toy Story\n",
      "\n",
      "********** The Recommended Movies **********\n",
      "American Tail, An (1986)\n",
      "Bug's Life, A (1998)\n",
      "Toy Story 2 (1999)\n",
      "Chicken Run (2000)\n",
      "Aladdin (1992)\n",
      "Jungle Book, The (1967)\n",
      "Home Alone (1990)\n",
      "101 Dalmatians (1996)\n",
      "Mighty Ducks, The (1992)\n",
      "Babe: Pig in the City (1998)\n",
      "********************\n"
     ]
    }
   ],
   "source": [
    "get_movie_item_recommendation()"
   ]
  },
  {
   "cell_type": "markdown",
   "id": "80376aaf",
   "metadata": {},
   "source": [
    "From the above recommendations, we can see that when we enter \"**Home Alone**\" as the title, we got \"**Home Alone 2**\" in the recommendations and while typing \"**Toy Story**\" we got \"**Toy Story 2**\" in the recommended movies. This shows the pretty decent working of our item-based recommendation system."
   ]
  },
  {
   "cell_type": "markdown",
   "id": "973dc41b",
   "metadata": {},
   "source": [
    "##### User based Recommender system using Pearson Correlation"
   ]
  },
  {
   "cell_type": "code",
   "execution_count": 48,
   "id": "453fe55b",
   "metadata": {},
   "outputs": [
    {
     "data": {
      "text/html": [
       "<div>\n",
       "<style scoped>\n",
       "    .dataframe tbody tr th:only-of-type {\n",
       "        vertical-align: middle;\n",
       "    }\n",
       "\n",
       "    .dataframe tbody tr th {\n",
       "        vertical-align: top;\n",
       "    }\n",
       "\n",
       "    .dataframe thead th {\n",
       "        text-align: right;\n",
       "    }\n",
       "</style>\n",
       "<table border=\"1\" class=\"dataframe\">\n",
       "  <thead>\n",
       "    <tr style=\"text-align: right;\">\n",
       "      <th></th>\n",
       "      <th>Gender</th>\n",
       "      <th>Age</th>\n",
       "      <th>Occupation</th>\n",
       "      <th>Zip-code</th>\n",
       "    </tr>\n",
       "    <tr>\n",
       "      <th>UserID</th>\n",
       "      <th></th>\n",
       "      <th></th>\n",
       "      <th></th>\n",
       "      <th></th>\n",
       "    </tr>\n",
       "  </thead>\n",
       "  <tbody>\n",
       "    <tr>\n",
       "      <th>1</th>\n",
       "      <td>0</td>\n",
       "      <td>1</td>\n",
       "      <td>10</td>\n",
       "      <td>48067</td>\n",
       "    </tr>\n",
       "    <tr>\n",
       "      <th>2</th>\n",
       "      <td>1</td>\n",
       "      <td>56</td>\n",
       "      <td>16</td>\n",
       "      <td>70072</td>\n",
       "    </tr>\n",
       "    <tr>\n",
       "      <th>3</th>\n",
       "      <td>1</td>\n",
       "      <td>25</td>\n",
       "      <td>15</td>\n",
       "      <td>55117</td>\n",
       "    </tr>\n",
       "    <tr>\n",
       "      <th>4</th>\n",
       "      <td>1</td>\n",
       "      <td>45</td>\n",
       "      <td>7</td>\n",
       "      <td>02460</td>\n",
       "    </tr>\n",
       "    <tr>\n",
       "      <th>5</th>\n",
       "      <td>1</td>\n",
       "      <td>25</td>\n",
       "      <td>20</td>\n",
       "      <td>55455</td>\n",
       "    </tr>\n",
       "  </tbody>\n",
       "</table>\n",
       "</div>"
      ],
      "text/plain": [
       "        Gender  Age  Occupation Zip-code\n",
       "UserID                                  \n",
       "1            0    1          10    48067\n",
       "2            1   56          16    70072\n",
       "3            1   25          15    55117\n",
       "4            1   45           7    02460\n",
       "5            1   25          20    55455"
      ]
     },
     "execution_count": 48,
     "metadata": {},
     "output_type": "execute_result"
    }
   ],
   "source": [
    "users.head()"
   ]
  },
  {
   "cell_type": "markdown",
   "id": "3ddc2356",
   "metadata": {},
   "source": [
    "Proceeding with One-hot encoding to encode all the label encoded features."
   ]
  },
  {
   "cell_type": "code",
   "execution_count": 49,
   "id": "1a4e9cb7",
   "metadata": {},
   "outputs": [],
   "source": [
    "users_bfr_encode=users.copy()"
   ]
  },
  {
   "cell_type": "code",
   "execution_count": 50,
   "id": "61bce750",
   "metadata": {},
   "outputs": [
    {
     "data": {
      "text/html": [
       "<div>\n",
       "<style scoped>\n",
       "    .dataframe tbody tr th:only-of-type {\n",
       "        vertical-align: middle;\n",
       "    }\n",
       "\n",
       "    .dataframe tbody tr th {\n",
       "        vertical-align: top;\n",
       "    }\n",
       "\n",
       "    .dataframe thead th {\n",
       "        text-align: right;\n",
       "    }\n",
       "</style>\n",
       "<table border=\"1\" class=\"dataframe\">\n",
       "  <thead>\n",
       "    <tr style=\"text-align: right;\">\n",
       "      <th></th>\n",
       "      <th>Gender</th>\n",
       "      <th>Age</th>\n",
       "      <th>Occupation</th>\n",
       "      <th>Zip-code</th>\n",
       "    </tr>\n",
       "    <tr>\n",
       "      <th>UserID</th>\n",
       "      <th></th>\n",
       "      <th></th>\n",
       "      <th></th>\n",
       "      <th></th>\n",
       "    </tr>\n",
       "  </thead>\n",
       "  <tbody>\n",
       "    <tr>\n",
       "      <th>1</th>\n",
       "      <td>0</td>\n",
       "      <td>Under 18</td>\n",
       "      <td>10</td>\n",
       "      <td>48067</td>\n",
       "    </tr>\n",
       "    <tr>\n",
       "      <th>2</th>\n",
       "      <td>1</td>\n",
       "      <td>56+</td>\n",
       "      <td>16</td>\n",
       "      <td>70072</td>\n",
       "    </tr>\n",
       "    <tr>\n",
       "      <th>3</th>\n",
       "      <td>1</td>\n",
       "      <td>25-34</td>\n",
       "      <td>15</td>\n",
       "      <td>55117</td>\n",
       "    </tr>\n",
       "    <tr>\n",
       "      <th>4</th>\n",
       "      <td>1</td>\n",
       "      <td>45-49</td>\n",
       "      <td>7</td>\n",
       "      <td>02460</td>\n",
       "    </tr>\n",
       "    <tr>\n",
       "      <th>5</th>\n",
       "      <td>1</td>\n",
       "      <td>25-34</td>\n",
       "      <td>20</td>\n",
       "      <td>55455</td>\n",
       "    </tr>\n",
       "  </tbody>\n",
       "</table>\n",
       "</div>"
      ],
      "text/plain": [
       "        Gender       Age  Occupation Zip-code\n",
       "UserID                                       \n",
       "1            0  Under 18          10    48067\n",
       "2            1       56+          16    70072\n",
       "3            1     25-34          15    55117\n",
       "4            1     45-49           7    02460\n",
       "5            1     25-34          20    55455"
      ]
     },
     "execution_count": 50,
     "metadata": {},
     "output_type": "execute_result"
    }
   ],
   "source": [
    "users.Age=users.Age.map({1:\"Under 18\",18:\"18-24\",25:\"25-34\",35:\"35-44\",45:\"45-49\",50:\"50-55\",56:\"56+\"})\n",
    "age=pd.get_dummies(users.Age,drop_first=True,dtype=int)\n",
    "users.head()"
   ]
  },
  {
   "cell_type": "code",
   "execution_count": 51,
   "id": "09ec0518",
   "metadata": {},
   "outputs": [
    {
     "data": {
      "text/html": [
       "<div>\n",
       "<style scoped>\n",
       "    .dataframe tbody tr th:only-of-type {\n",
       "        vertical-align: middle;\n",
       "    }\n",
       "\n",
       "    .dataframe tbody tr th {\n",
       "        vertical-align: top;\n",
       "    }\n",
       "\n",
       "    .dataframe thead th {\n",
       "        text-align: right;\n",
       "    }\n",
       "</style>\n",
       "<table border=\"1\" class=\"dataframe\">\n",
       "  <thead>\n",
       "    <tr style=\"text-align: right;\">\n",
       "      <th></th>\n",
       "      <th>25-34</th>\n",
       "      <th>35-44</th>\n",
       "      <th>45-49</th>\n",
       "      <th>50-55</th>\n",
       "      <th>56+</th>\n",
       "      <th>Under 18</th>\n",
       "    </tr>\n",
       "    <tr>\n",
       "      <th>UserID</th>\n",
       "      <th></th>\n",
       "      <th></th>\n",
       "      <th></th>\n",
       "      <th></th>\n",
       "      <th></th>\n",
       "      <th></th>\n",
       "    </tr>\n",
       "  </thead>\n",
       "  <tbody>\n",
       "    <tr>\n",
       "      <th>1</th>\n",
       "      <td>0</td>\n",
       "      <td>0</td>\n",
       "      <td>0</td>\n",
       "      <td>0</td>\n",
       "      <td>0</td>\n",
       "      <td>1</td>\n",
       "    </tr>\n",
       "    <tr>\n",
       "      <th>2</th>\n",
       "      <td>0</td>\n",
       "      <td>0</td>\n",
       "      <td>0</td>\n",
       "      <td>0</td>\n",
       "      <td>1</td>\n",
       "      <td>0</td>\n",
       "    </tr>\n",
       "    <tr>\n",
       "      <th>3</th>\n",
       "      <td>1</td>\n",
       "      <td>0</td>\n",
       "      <td>0</td>\n",
       "      <td>0</td>\n",
       "      <td>0</td>\n",
       "      <td>0</td>\n",
       "    </tr>\n",
       "    <tr>\n",
       "      <th>4</th>\n",
       "      <td>0</td>\n",
       "      <td>0</td>\n",
       "      <td>1</td>\n",
       "      <td>0</td>\n",
       "      <td>0</td>\n",
       "      <td>0</td>\n",
       "    </tr>\n",
       "    <tr>\n",
       "      <th>5</th>\n",
       "      <td>1</td>\n",
       "      <td>0</td>\n",
       "      <td>0</td>\n",
       "      <td>0</td>\n",
       "      <td>0</td>\n",
       "      <td>0</td>\n",
       "    </tr>\n",
       "  </tbody>\n",
       "</table>\n",
       "</div>"
      ],
      "text/plain": [
       "        25-34  35-44  45-49  50-55  56+  Under 18\n",
       "UserID                                           \n",
       "1           0      0      0      0    0         1\n",
       "2           0      0      0      0    1         0\n",
       "3           1      0      0      0    0         0\n",
       "4           0      0      1      0    0         0\n",
       "5           1      0      0      0    0         0"
      ]
     },
     "execution_count": 51,
     "metadata": {},
     "output_type": "execute_result"
    }
   ],
   "source": [
    "age.head()"
   ]
  },
  {
   "cell_type": "code",
   "execution_count": 52,
   "id": "fb5a8330",
   "metadata": {},
   "outputs": [
    {
     "data": {
      "text/html": [
       "<div>\n",
       "<style scoped>\n",
       "    .dataframe tbody tr th:only-of-type {\n",
       "        vertical-align: middle;\n",
       "    }\n",
       "\n",
       "    .dataframe tbody tr th {\n",
       "        vertical-align: top;\n",
       "    }\n",
       "\n",
       "    .dataframe thead th {\n",
       "        text-align: right;\n",
       "    }\n",
       "</style>\n",
       "<table border=\"1\" class=\"dataframe\">\n",
       "  <thead>\n",
       "    <tr style=\"text-align: right;\">\n",
       "      <th></th>\n",
       "      <th>Occupation_1</th>\n",
       "      <th>Occupation_2</th>\n",
       "      <th>Occupation_3</th>\n",
       "      <th>Occupation_4</th>\n",
       "      <th>Occupation_5</th>\n",
       "      <th>Occupation_6</th>\n",
       "      <th>Occupation_7</th>\n",
       "      <th>Occupation_8</th>\n",
       "      <th>Occupation_9</th>\n",
       "      <th>Occupation_10</th>\n",
       "      <th>Occupation_11</th>\n",
       "      <th>Occupation_12</th>\n",
       "      <th>Occupation_13</th>\n",
       "      <th>Occupation_14</th>\n",
       "      <th>Occupation_15</th>\n",
       "      <th>Occupation_16</th>\n",
       "      <th>Occupation_17</th>\n",
       "      <th>Occupation_18</th>\n",
       "      <th>Occupation_19</th>\n",
       "      <th>Occupation_20</th>\n",
       "    </tr>\n",
       "    <tr>\n",
       "      <th>UserID</th>\n",
       "      <th></th>\n",
       "      <th></th>\n",
       "      <th></th>\n",
       "      <th></th>\n",
       "      <th></th>\n",
       "      <th></th>\n",
       "      <th></th>\n",
       "      <th></th>\n",
       "      <th></th>\n",
       "      <th></th>\n",
       "      <th></th>\n",
       "      <th></th>\n",
       "      <th></th>\n",
       "      <th></th>\n",
       "      <th></th>\n",
       "      <th></th>\n",
       "      <th></th>\n",
       "      <th></th>\n",
       "      <th></th>\n",
       "      <th></th>\n",
       "    </tr>\n",
       "  </thead>\n",
       "  <tbody>\n",
       "    <tr>\n",
       "      <th>1</th>\n",
       "      <td>0</td>\n",
       "      <td>0</td>\n",
       "      <td>0</td>\n",
       "      <td>0</td>\n",
       "      <td>0</td>\n",
       "      <td>0</td>\n",
       "      <td>0</td>\n",
       "      <td>0</td>\n",
       "      <td>0</td>\n",
       "      <td>1</td>\n",
       "      <td>0</td>\n",
       "      <td>0</td>\n",
       "      <td>0</td>\n",
       "      <td>0</td>\n",
       "      <td>0</td>\n",
       "      <td>0</td>\n",
       "      <td>0</td>\n",
       "      <td>0</td>\n",
       "      <td>0</td>\n",
       "      <td>0</td>\n",
       "    </tr>\n",
       "    <tr>\n",
       "      <th>2</th>\n",
       "      <td>0</td>\n",
       "      <td>0</td>\n",
       "      <td>0</td>\n",
       "      <td>0</td>\n",
       "      <td>0</td>\n",
       "      <td>0</td>\n",
       "      <td>0</td>\n",
       "      <td>0</td>\n",
       "      <td>0</td>\n",
       "      <td>0</td>\n",
       "      <td>0</td>\n",
       "      <td>0</td>\n",
       "      <td>0</td>\n",
       "      <td>0</td>\n",
       "      <td>0</td>\n",
       "      <td>1</td>\n",
       "      <td>0</td>\n",
       "      <td>0</td>\n",
       "      <td>0</td>\n",
       "      <td>0</td>\n",
       "    </tr>\n",
       "    <tr>\n",
       "      <th>3</th>\n",
       "      <td>0</td>\n",
       "      <td>0</td>\n",
       "      <td>0</td>\n",
       "      <td>0</td>\n",
       "      <td>0</td>\n",
       "      <td>0</td>\n",
       "      <td>0</td>\n",
       "      <td>0</td>\n",
       "      <td>0</td>\n",
       "      <td>0</td>\n",
       "      <td>0</td>\n",
       "      <td>0</td>\n",
       "      <td>0</td>\n",
       "      <td>0</td>\n",
       "      <td>1</td>\n",
       "      <td>0</td>\n",
       "      <td>0</td>\n",
       "      <td>0</td>\n",
       "      <td>0</td>\n",
       "      <td>0</td>\n",
       "    </tr>\n",
       "    <tr>\n",
       "      <th>4</th>\n",
       "      <td>0</td>\n",
       "      <td>0</td>\n",
       "      <td>0</td>\n",
       "      <td>0</td>\n",
       "      <td>0</td>\n",
       "      <td>0</td>\n",
       "      <td>1</td>\n",
       "      <td>0</td>\n",
       "      <td>0</td>\n",
       "      <td>0</td>\n",
       "      <td>0</td>\n",
       "      <td>0</td>\n",
       "      <td>0</td>\n",
       "      <td>0</td>\n",
       "      <td>0</td>\n",
       "      <td>0</td>\n",
       "      <td>0</td>\n",
       "      <td>0</td>\n",
       "      <td>0</td>\n",
       "      <td>0</td>\n",
       "    </tr>\n",
       "    <tr>\n",
       "      <th>5</th>\n",
       "      <td>0</td>\n",
       "      <td>0</td>\n",
       "      <td>0</td>\n",
       "      <td>0</td>\n",
       "      <td>0</td>\n",
       "      <td>0</td>\n",
       "      <td>0</td>\n",
       "      <td>0</td>\n",
       "      <td>0</td>\n",
       "      <td>0</td>\n",
       "      <td>0</td>\n",
       "      <td>0</td>\n",
       "      <td>0</td>\n",
       "      <td>0</td>\n",
       "      <td>0</td>\n",
       "      <td>0</td>\n",
       "      <td>0</td>\n",
       "      <td>0</td>\n",
       "      <td>0</td>\n",
       "      <td>1</td>\n",
       "    </tr>\n",
       "  </tbody>\n",
       "</table>\n",
       "</div>"
      ],
      "text/plain": [
       "        Occupation_1  Occupation_2  Occupation_3  Occupation_4  Occupation_5  \\\n",
       "UserID                                                                         \n",
       "1                  0             0             0             0             0   \n",
       "2                  0             0             0             0             0   \n",
       "3                  0             0             0             0             0   \n",
       "4                  0             0             0             0             0   \n",
       "5                  0             0             0             0             0   \n",
       "\n",
       "        Occupation_6  Occupation_7  Occupation_8  Occupation_9  Occupation_10  \\\n",
       "UserID                                                                          \n",
       "1                  0             0             0             0              1   \n",
       "2                  0             0             0             0              0   \n",
       "3                  0             0             0             0              0   \n",
       "4                  0             1             0             0              0   \n",
       "5                  0             0             0             0              0   \n",
       "\n",
       "        Occupation_11  Occupation_12  Occupation_13  Occupation_14  \\\n",
       "UserID                                                               \n",
       "1                   0              0              0              0   \n",
       "2                   0              0              0              0   \n",
       "3                   0              0              0              0   \n",
       "4                   0              0              0              0   \n",
       "5                   0              0              0              0   \n",
       "\n",
       "        Occupation_15  Occupation_16  Occupation_17  Occupation_18  \\\n",
       "UserID                                                               \n",
       "1                   0              0              0              0   \n",
       "2                   0              1              0              0   \n",
       "3                   1              0              0              0   \n",
       "4                   0              0              0              0   \n",
       "5                   0              0              0              0   \n",
       "\n",
       "        Occupation_19  Occupation_20  \n",
       "UserID                                \n",
       "1                   0              0  \n",
       "2                   0              0  \n",
       "3                   0              0  \n",
       "4                   0              0  \n",
       "5                   0              1  "
      ]
     },
     "execution_count": 52,
     "metadata": {},
     "output_type": "execute_result"
    }
   ],
   "source": [
    "occupation=pd.get_dummies(users.Occupation,drop_first=True,dtype=int,prefix='Occupation')\n",
    "occupation.head()"
   ]
  },
  {
   "cell_type": "markdown",
   "id": "705f0a5f",
   "metadata": {},
   "source": [
    "Dropping the Zip-code feature from the dataset"
   ]
  },
  {
   "cell_type": "code",
   "execution_count": 53,
   "id": "fee161d3",
   "metadata": {},
   "outputs": [
    {
     "data": {
      "text/plain": [
       "Zip-code\n",
       "48104    19\n",
       "22903    18\n",
       "55104    17\n",
       "94110    17\n",
       "55455    16\n",
       "         ..\n",
       "80236     1\n",
       "19428     1\n",
       "33073     1\n",
       "99005     1\n",
       "14706     1\n",
       "Name: count, Length: 3439, dtype: int64"
      ]
     },
     "execution_count": 53,
     "metadata": {},
     "output_type": "execute_result"
    }
   ],
   "source": [
    "users['Zip-code'].value_counts()"
   ]
  },
  {
   "cell_type": "markdown",
   "id": "a7c19a27",
   "metadata": {},
   "source": [
    "There are about 3439 zip codes available in the dataset which makes it impossible to do the encoding for all.... Thus it can be dropped to proceed further."
   ]
  },
  {
   "cell_type": "code",
   "execution_count": 54,
   "id": "e40030c0",
   "metadata": {},
   "outputs": [
    {
     "data": {
      "text/html": [
       "<div>\n",
       "<style scoped>\n",
       "    .dataframe tbody tr th:only-of-type {\n",
       "        vertical-align: middle;\n",
       "    }\n",
       "\n",
       "    .dataframe tbody tr th {\n",
       "        vertical-align: top;\n",
       "    }\n",
       "\n",
       "    .dataframe thead th {\n",
       "        text-align: right;\n",
       "    }\n",
       "</style>\n",
       "<table border=\"1\" class=\"dataframe\">\n",
       "  <thead>\n",
       "    <tr style=\"text-align: right;\">\n",
       "      <th></th>\n",
       "      <th>Gender</th>\n",
       "    </tr>\n",
       "    <tr>\n",
       "      <th>UserID</th>\n",
       "      <th></th>\n",
       "    </tr>\n",
       "  </thead>\n",
       "  <tbody>\n",
       "    <tr>\n",
       "      <th>1</th>\n",
       "      <td>0</td>\n",
       "    </tr>\n",
       "    <tr>\n",
       "      <th>2</th>\n",
       "      <td>1</td>\n",
       "    </tr>\n",
       "    <tr>\n",
       "      <th>3</th>\n",
       "      <td>1</td>\n",
       "    </tr>\n",
       "    <tr>\n",
       "      <th>4</th>\n",
       "      <td>1</td>\n",
       "    </tr>\n",
       "    <tr>\n",
       "      <th>5</th>\n",
       "      <td>1</td>\n",
       "    </tr>\n",
       "  </tbody>\n",
       "</table>\n",
       "</div>"
      ],
      "text/plain": [
       "        Gender\n",
       "UserID        \n",
       "1            0\n",
       "2            1\n",
       "3            1\n",
       "4            1\n",
       "5            1"
      ]
     },
     "execution_count": 54,
     "metadata": {},
     "output_type": "execute_result"
    }
   ],
   "source": [
    "users.drop(['Age','Occupation','Zip-code'],axis=1,inplace=True)\n",
    "users.head()"
   ]
  },
  {
   "cell_type": "code",
   "execution_count": 55,
   "id": "26462671",
   "metadata": {},
   "outputs": [
    {
     "data": {
      "text/html": [
       "<div>\n",
       "<style scoped>\n",
       "    .dataframe tbody tr th:only-of-type {\n",
       "        vertical-align: middle;\n",
       "    }\n",
       "\n",
       "    .dataframe tbody tr th {\n",
       "        vertical-align: top;\n",
       "    }\n",
       "\n",
       "    .dataframe thead th {\n",
       "        text-align: right;\n",
       "    }\n",
       "</style>\n",
       "<table border=\"1\" class=\"dataframe\">\n",
       "  <thead>\n",
       "    <tr style=\"text-align: right;\">\n",
       "      <th></th>\n",
       "      <th>Gender</th>\n",
       "      <th>25-34</th>\n",
       "      <th>35-44</th>\n",
       "      <th>45-49</th>\n",
       "      <th>50-55</th>\n",
       "      <th>56+</th>\n",
       "      <th>Under 18</th>\n",
       "      <th>Occupation_1</th>\n",
       "      <th>Occupation_2</th>\n",
       "      <th>Occupation_3</th>\n",
       "      <th>...</th>\n",
       "      <th>Occupation_11</th>\n",
       "      <th>Occupation_12</th>\n",
       "      <th>Occupation_13</th>\n",
       "      <th>Occupation_14</th>\n",
       "      <th>Occupation_15</th>\n",
       "      <th>Occupation_16</th>\n",
       "      <th>Occupation_17</th>\n",
       "      <th>Occupation_18</th>\n",
       "      <th>Occupation_19</th>\n",
       "      <th>Occupation_20</th>\n",
       "    </tr>\n",
       "    <tr>\n",
       "      <th>UserID</th>\n",
       "      <th></th>\n",
       "      <th></th>\n",
       "      <th></th>\n",
       "      <th></th>\n",
       "      <th></th>\n",
       "      <th></th>\n",
       "      <th></th>\n",
       "      <th></th>\n",
       "      <th></th>\n",
       "      <th></th>\n",
       "      <th></th>\n",
       "      <th></th>\n",
       "      <th></th>\n",
       "      <th></th>\n",
       "      <th></th>\n",
       "      <th></th>\n",
       "      <th></th>\n",
       "      <th></th>\n",
       "      <th></th>\n",
       "      <th></th>\n",
       "      <th></th>\n",
       "    </tr>\n",
       "  </thead>\n",
       "  <tbody>\n",
       "    <tr>\n",
       "      <th>1</th>\n",
       "      <td>0</td>\n",
       "      <td>0</td>\n",
       "      <td>0</td>\n",
       "      <td>0</td>\n",
       "      <td>0</td>\n",
       "      <td>0</td>\n",
       "      <td>1</td>\n",
       "      <td>0</td>\n",
       "      <td>0</td>\n",
       "      <td>0</td>\n",
       "      <td>...</td>\n",
       "      <td>0</td>\n",
       "      <td>0</td>\n",
       "      <td>0</td>\n",
       "      <td>0</td>\n",
       "      <td>0</td>\n",
       "      <td>0</td>\n",
       "      <td>0</td>\n",
       "      <td>0</td>\n",
       "      <td>0</td>\n",
       "      <td>0</td>\n",
       "    </tr>\n",
       "    <tr>\n",
       "      <th>2</th>\n",
       "      <td>1</td>\n",
       "      <td>0</td>\n",
       "      <td>0</td>\n",
       "      <td>0</td>\n",
       "      <td>0</td>\n",
       "      <td>1</td>\n",
       "      <td>0</td>\n",
       "      <td>0</td>\n",
       "      <td>0</td>\n",
       "      <td>0</td>\n",
       "      <td>...</td>\n",
       "      <td>0</td>\n",
       "      <td>0</td>\n",
       "      <td>0</td>\n",
       "      <td>0</td>\n",
       "      <td>0</td>\n",
       "      <td>1</td>\n",
       "      <td>0</td>\n",
       "      <td>0</td>\n",
       "      <td>0</td>\n",
       "      <td>0</td>\n",
       "    </tr>\n",
       "    <tr>\n",
       "      <th>3</th>\n",
       "      <td>1</td>\n",
       "      <td>1</td>\n",
       "      <td>0</td>\n",
       "      <td>0</td>\n",
       "      <td>0</td>\n",
       "      <td>0</td>\n",
       "      <td>0</td>\n",
       "      <td>0</td>\n",
       "      <td>0</td>\n",
       "      <td>0</td>\n",
       "      <td>...</td>\n",
       "      <td>0</td>\n",
       "      <td>0</td>\n",
       "      <td>0</td>\n",
       "      <td>0</td>\n",
       "      <td>1</td>\n",
       "      <td>0</td>\n",
       "      <td>0</td>\n",
       "      <td>0</td>\n",
       "      <td>0</td>\n",
       "      <td>0</td>\n",
       "    </tr>\n",
       "    <tr>\n",
       "      <th>4</th>\n",
       "      <td>1</td>\n",
       "      <td>0</td>\n",
       "      <td>0</td>\n",
       "      <td>1</td>\n",
       "      <td>0</td>\n",
       "      <td>0</td>\n",
       "      <td>0</td>\n",
       "      <td>0</td>\n",
       "      <td>0</td>\n",
       "      <td>0</td>\n",
       "      <td>...</td>\n",
       "      <td>0</td>\n",
       "      <td>0</td>\n",
       "      <td>0</td>\n",
       "      <td>0</td>\n",
       "      <td>0</td>\n",
       "      <td>0</td>\n",
       "      <td>0</td>\n",
       "      <td>0</td>\n",
       "      <td>0</td>\n",
       "      <td>0</td>\n",
       "    </tr>\n",
       "    <tr>\n",
       "      <th>5</th>\n",
       "      <td>1</td>\n",
       "      <td>1</td>\n",
       "      <td>0</td>\n",
       "      <td>0</td>\n",
       "      <td>0</td>\n",
       "      <td>0</td>\n",
       "      <td>0</td>\n",
       "      <td>0</td>\n",
       "      <td>0</td>\n",
       "      <td>0</td>\n",
       "      <td>...</td>\n",
       "      <td>0</td>\n",
       "      <td>0</td>\n",
       "      <td>0</td>\n",
       "      <td>0</td>\n",
       "      <td>0</td>\n",
       "      <td>0</td>\n",
       "      <td>0</td>\n",
       "      <td>0</td>\n",
       "      <td>0</td>\n",
       "      <td>1</td>\n",
       "    </tr>\n",
       "  </tbody>\n",
       "</table>\n",
       "<p>5 rows × 27 columns</p>\n",
       "</div>"
      ],
      "text/plain": [
       "        Gender  25-34  35-44  45-49  50-55  56+  Under 18  Occupation_1  \\\n",
       "UserID                                                                    \n",
       "1            0      0      0      0      0    0         1             0   \n",
       "2            1      0      0      0      0    1         0             0   \n",
       "3            1      1      0      0      0    0         0             0   \n",
       "4            1      0      0      1      0    0         0             0   \n",
       "5            1      1      0      0      0    0         0             0   \n",
       "\n",
       "        Occupation_2  Occupation_3  ...  Occupation_11  Occupation_12  \\\n",
       "UserID                              ...                                 \n",
       "1                  0             0  ...              0              0   \n",
       "2                  0             0  ...              0              0   \n",
       "3                  0             0  ...              0              0   \n",
       "4                  0             0  ...              0              0   \n",
       "5                  0             0  ...              0              0   \n",
       "\n",
       "        Occupation_13  Occupation_14  Occupation_15  Occupation_16  \\\n",
       "UserID                                                               \n",
       "1                   0              0              0              0   \n",
       "2                   0              0              0              1   \n",
       "3                   0              0              1              0   \n",
       "4                   0              0              0              0   \n",
       "5                   0              0              0              0   \n",
       "\n",
       "        Occupation_17  Occupation_18  Occupation_19  Occupation_20  \n",
       "UserID                                                              \n",
       "1                   0              0              0              0  \n",
       "2                   0              0              0              0  \n",
       "3                   0              0              0              0  \n",
       "4                   0              0              0              0  \n",
       "5                   0              0              0              1  \n",
       "\n",
       "[5 rows x 27 columns]"
      ]
     },
     "execution_count": 55,
     "metadata": {},
     "output_type": "execute_result"
    }
   ],
   "source": [
    "users=users.merge(age,left_index=True,right_index=True)\n",
    "users=users.merge(occupation,left_index=True,right_index=True)\n",
    "users.head()"
   ]
  },
  {
   "cell_type": "markdown",
   "id": "41bf3538",
   "metadata": {},
   "source": [
    "No of users in the application"
   ]
  },
  {
   "cell_type": "code",
   "execution_count": 56,
   "id": "f2c2e359",
   "metadata": {},
   "outputs": [
    {
     "data": {
      "text/plain": [
       "(6040, 27)"
      ]
     },
     "execution_count": 56,
     "metadata": {},
     "output_type": "execute_result"
    }
   ],
   "source": [
    "users.shape"
   ]
  },
  {
   "cell_type": "markdown",
   "id": "cee328c3",
   "metadata": {},
   "source": [
    "Since there are about 6040 users in the application, it is impossible for us to compute the pearson correlation for all the users to get the similar users. Thus we will apply this concept only for 1000 users who had actively used the OTT platform to see movies."
   ]
  },
  {
   "cell_type": "code",
   "execution_count": 57,
   "id": "8f2db892",
   "metadata": {
    "scrolled": true
   },
   "outputs": [
    {
     "data": {
      "text/plain": [
       "[4169, 1680, 4277, 1941, 1181, 889, 3618, 2063, 1150, 1015]"
      ]
     },
     "execution_count": 57,
     "metadata": {},
     "output_type": "execute_result"
    }
   ],
   "source": [
    "active_user_index=ratings.groupby('UserID')['MovieID'].agg('count').sort_values(ascending=False).index[:1000].to_list()\n",
    "active_user_index[:10]  #Just displaying 10 indices"
   ]
  },
  {
   "cell_type": "code",
   "execution_count": 58,
   "id": "dea58f79",
   "metadata": {},
   "outputs": [
    {
     "data": {
      "text/html": [
       "<div>\n",
       "<style scoped>\n",
       "    .dataframe tbody tr th:only-of-type {\n",
       "        vertical-align: middle;\n",
       "    }\n",
       "\n",
       "    .dataframe tbody tr th {\n",
       "        vertical-align: top;\n",
       "    }\n",
       "\n",
       "    .dataframe thead th {\n",
       "        text-align: right;\n",
       "    }\n",
       "</style>\n",
       "<table border=\"1\" class=\"dataframe\">\n",
       "  <thead>\n",
       "    <tr style=\"text-align: right;\">\n",
       "      <th></th>\n",
       "      <th>Gender</th>\n",
       "      <th>25-34</th>\n",
       "      <th>35-44</th>\n",
       "      <th>45-49</th>\n",
       "      <th>50-55</th>\n",
       "      <th>56+</th>\n",
       "      <th>Under 18</th>\n",
       "      <th>Occupation_1</th>\n",
       "      <th>Occupation_2</th>\n",
       "      <th>Occupation_3</th>\n",
       "      <th>...</th>\n",
       "      <th>Occupation_11</th>\n",
       "      <th>Occupation_12</th>\n",
       "      <th>Occupation_13</th>\n",
       "      <th>Occupation_14</th>\n",
       "      <th>Occupation_15</th>\n",
       "      <th>Occupation_16</th>\n",
       "      <th>Occupation_17</th>\n",
       "      <th>Occupation_18</th>\n",
       "      <th>Occupation_19</th>\n",
       "      <th>Occupation_20</th>\n",
       "    </tr>\n",
       "    <tr>\n",
       "      <th>UserID</th>\n",
       "      <th></th>\n",
       "      <th></th>\n",
       "      <th></th>\n",
       "      <th></th>\n",
       "      <th></th>\n",
       "      <th></th>\n",
       "      <th></th>\n",
       "      <th></th>\n",
       "      <th></th>\n",
       "      <th></th>\n",
       "      <th></th>\n",
       "      <th></th>\n",
       "      <th></th>\n",
       "      <th></th>\n",
       "      <th></th>\n",
       "      <th></th>\n",
       "      <th></th>\n",
       "      <th></th>\n",
       "      <th></th>\n",
       "      <th></th>\n",
       "      <th></th>\n",
       "    </tr>\n",
       "  </thead>\n",
       "  <tbody>\n",
       "    <tr>\n",
       "      <th>10</th>\n",
       "      <td>0</td>\n",
       "      <td>0</td>\n",
       "      <td>1</td>\n",
       "      <td>0</td>\n",
       "      <td>0</td>\n",
       "      <td>0</td>\n",
       "      <td>0</td>\n",
       "      <td>1</td>\n",
       "      <td>0</td>\n",
       "      <td>0</td>\n",
       "      <td>...</td>\n",
       "      <td>0</td>\n",
       "      <td>0</td>\n",
       "      <td>0</td>\n",
       "      <td>0</td>\n",
       "      <td>0</td>\n",
       "      <td>0</td>\n",
       "      <td>0</td>\n",
       "      <td>0</td>\n",
       "      <td>0</td>\n",
       "      <td>0</td>\n",
       "    </tr>\n",
       "    <tr>\n",
       "      <th>18</th>\n",
       "      <td>0</td>\n",
       "      <td>0</td>\n",
       "      <td>0</td>\n",
       "      <td>0</td>\n",
       "      <td>0</td>\n",
       "      <td>0</td>\n",
       "      <td>0</td>\n",
       "      <td>0</td>\n",
       "      <td>0</td>\n",
       "      <td>1</td>\n",
       "      <td>...</td>\n",
       "      <td>0</td>\n",
       "      <td>0</td>\n",
       "      <td>0</td>\n",
       "      <td>0</td>\n",
       "      <td>0</td>\n",
       "      <td>0</td>\n",
       "      <td>0</td>\n",
       "      <td>0</td>\n",
       "      <td>0</td>\n",
       "      <td>0</td>\n",
       "    </tr>\n",
       "    <tr>\n",
       "      <th>22</th>\n",
       "      <td>1</td>\n",
       "      <td>0</td>\n",
       "      <td>0</td>\n",
       "      <td>0</td>\n",
       "      <td>0</td>\n",
       "      <td>0</td>\n",
       "      <td>0</td>\n",
       "      <td>0</td>\n",
       "      <td>0</td>\n",
       "      <td>0</td>\n",
       "      <td>...</td>\n",
       "      <td>0</td>\n",
       "      <td>0</td>\n",
       "      <td>0</td>\n",
       "      <td>0</td>\n",
       "      <td>1</td>\n",
       "      <td>0</td>\n",
       "      <td>0</td>\n",
       "      <td>0</td>\n",
       "      <td>0</td>\n",
       "      <td>0</td>\n",
       "    </tr>\n",
       "    <tr>\n",
       "      <th>23</th>\n",
       "      <td>1</td>\n",
       "      <td>0</td>\n",
       "      <td>1</td>\n",
       "      <td>0</td>\n",
       "      <td>0</td>\n",
       "      <td>0</td>\n",
       "      <td>0</td>\n",
       "      <td>0</td>\n",
       "      <td>0</td>\n",
       "      <td>0</td>\n",
       "      <td>...</td>\n",
       "      <td>0</td>\n",
       "      <td>0</td>\n",
       "      <td>0</td>\n",
       "      <td>0</td>\n",
       "      <td>0</td>\n",
       "      <td>0</td>\n",
       "      <td>0</td>\n",
       "      <td>0</td>\n",
       "      <td>0</td>\n",
       "      <td>0</td>\n",
       "    </tr>\n",
       "    <tr>\n",
       "      <th>26</th>\n",
       "      <td>1</td>\n",
       "      <td>1</td>\n",
       "      <td>0</td>\n",
       "      <td>0</td>\n",
       "      <td>0</td>\n",
       "      <td>0</td>\n",
       "      <td>0</td>\n",
       "      <td>0</td>\n",
       "      <td>0</td>\n",
       "      <td>0</td>\n",
       "      <td>...</td>\n",
       "      <td>0</td>\n",
       "      <td>0</td>\n",
       "      <td>0</td>\n",
       "      <td>0</td>\n",
       "      <td>0</td>\n",
       "      <td>0</td>\n",
       "      <td>0</td>\n",
       "      <td>0</td>\n",
       "      <td>0</td>\n",
       "      <td>0</td>\n",
       "    </tr>\n",
       "  </tbody>\n",
       "</table>\n",
       "<p>5 rows × 27 columns</p>\n",
       "</div>"
      ],
      "text/plain": [
       "        Gender  25-34  35-44  45-49  50-55  56+  Under 18  Occupation_1  \\\n",
       "UserID                                                                    \n",
       "10           0      0      1      0      0    0         0             1   \n",
       "18           0      0      0      0      0    0         0             0   \n",
       "22           1      0      0      0      0    0         0             0   \n",
       "23           1      0      1      0      0    0         0             0   \n",
       "26           1      1      0      0      0    0         0             0   \n",
       "\n",
       "        Occupation_2  Occupation_3  ...  Occupation_11  Occupation_12  \\\n",
       "UserID                              ...                                 \n",
       "10                 0             0  ...              0              0   \n",
       "18                 0             1  ...              0              0   \n",
       "22                 0             0  ...              0              0   \n",
       "23                 0             0  ...              0              0   \n",
       "26                 0             0  ...              0              0   \n",
       "\n",
       "        Occupation_13  Occupation_14  Occupation_15  Occupation_16  \\\n",
       "UserID                                                               \n",
       "10                  0              0              0              0   \n",
       "18                  0              0              0              0   \n",
       "22                  0              0              1              0   \n",
       "23                  0              0              0              0   \n",
       "26                  0              0              0              0   \n",
       "\n",
       "        Occupation_17  Occupation_18  Occupation_19  Occupation_20  \n",
       "UserID                                                              \n",
       "10                  0              0              0              0  \n",
       "18                  0              0              0              0  \n",
       "22                  0              0              0              0  \n",
       "23                  0              0              0              0  \n",
       "26                  0              0              0              0  \n",
       "\n",
       "[5 rows x 27 columns]"
      ]
     },
     "execution_count": 58,
     "metadata": {},
     "output_type": "execute_result"
    }
   ],
   "source": [
    "active_users=users.loc[users.index.isin(active_user_index)]\n",
    "active_users.head()"
   ]
  },
  {
   "cell_type": "code",
   "execution_count": 74,
   "id": "55827be1",
   "metadata": {},
   "outputs": [],
   "source": [
    "similar_users = []\n",
    "for user1 in active_users.index:\n",
    "    for user2 in active_users.index:\n",
    "        if user1==user2:\n",
    "            continue\n",
    "        similar_users.append([user1,user2,findPearson(active_users.loc[user1],active_users.loc[user2])[0]])"
   ]
  },
  {
   "cell_type": "code",
   "execution_count": 75,
   "id": "4b42d55f",
   "metadata": {},
   "outputs": [],
   "source": [
    "similar_users=pd.DataFrame(similar_users,columns=['User1','User2','Correlation'])\n",
    "similar_users.sort_values(by=['User1','Correlation'],ascending=[True,False],inplace=True)"
   ]
  },
  {
   "cell_type": "markdown",
   "id": "d6ac607b",
   "metadata": {},
   "source": [
    "Now from this, we will recommend 2 movies which are highly rated by each user out of 5 users who are similar to the user ID that that we are using to search"
   ]
  },
  {
   "cell_type": "code",
   "execution_count": 76,
   "id": "4fd848cd",
   "metadata": {},
   "outputs": [],
   "source": [
    "ratings.sort_values(by=['UserID','Rating'],ascending=[True,False],inplace=True)\n",
    "def findSimilarUsers(user):\n",
    "    results=[]\n",
    "    sim_users=similar_users.loc[similar_users.User1==user]['User2'].values[:5]\n",
    "    for u in sim_users:\n",
    "        results.extend(ratings.loc[ratings.UserID==u]['MovieID'].values[:2])\n",
    "    results=np.unique(orig_movies.loc[orig_movies['Movie ID'].isin(results)]['Title'].values) \n",
    "    return results      "
   ]
  },
  {
   "cell_type": "code",
   "execution_count": 77,
   "id": "69080436",
   "metadata": {},
   "outputs": [
    {
     "data": {
      "text/plain": [
       "array(['Being John Malkovich (1999)',\n",
       "       'Bridge on the River Kwai, The (1957)',\n",
       "       'Dances with Wolves (1990)', 'Doctor Zhivago (1965)',\n",
       "       'Home Alone (1990)', 'Honey, I Blew Up the Kid (1992)',\n",
       "       'Touch of Evil (1958)', 'Toy Story (1995)'], dtype=object)"
      ]
     },
     "execution_count": 77,
     "metadata": {},
     "output_type": "execute_result"
    }
   ],
   "source": [
    "findSimilarUsers(10)"
   ]
  },
  {
   "cell_type": "markdown",
   "id": "68efab5b",
   "metadata": {},
   "source": [
    "Defining a function to properly display the user-based recommendations"
   ]
  },
  {
   "cell_type": "code",
   "execution_count": 78,
   "id": "284eef92",
   "metadata": {},
   "outputs": [],
   "source": [
    "def get_user_based_recommendation():\n",
    "    userID=int(input(\"Please enter your user ID :\"))\n",
    "    results=findSimilarUsers(userID)\n",
    "    print()\n",
    "    printMovies(results)"
   ]
  },
  {
   "cell_type": "code",
   "execution_count": 145,
   "id": "9df49ad0",
   "metadata": {},
   "outputs": [
    {
     "name": "stdout",
     "output_type": "stream",
     "text": [
      "Please enter your user ID :10\n",
      "\n",
      "********** The Recommended Movies **********\n",
      "Being John Malkovich (1999)\n",
      "Bridge on the River Kwai, The (1957)\n",
      "Dances with Wolves (1990)\n",
      "Doctor Zhivago (1965)\n",
      "Home Alone (1990)\n",
      "Honey, I Blew Up the Kid (1992)\n",
      "Touch of Evil (1958)\n",
      "Toy Story (1995)\n",
      "********************\n"
     ]
    }
   ],
   "source": [
    "get_user_based_recommendation()"
   ]
  },
  {
   "cell_type": "code",
   "execution_count": 146,
   "id": "d8f39c54",
   "metadata": {},
   "outputs": [
    {
     "name": "stdout",
     "output_type": "stream",
     "text": [
      "Please enter your user ID :6040\n",
      "\n",
      "********** The Recommended Movies **********\n",
      "Being John Malkovich (1999)\n",
      "Bridge on the River Kwai, The (1957)\n",
      "For Your Eyes Only (1981)\n",
      "Live and Let Die (1973)\n",
      "Nikita (La Femme Nikita) (1990)\n",
      "Shining, The (1980)\n",
      "Who Framed Roger Rabbit? (1988)\n",
      "X-Men (2000)\n",
      "********************\n"
     ]
    }
   ],
   "source": [
    "get_user_based_recommendation()"
   ]
  },
  {
   "cell_type": "code",
   "execution_count": 147,
   "id": "aa4719c1",
   "metadata": {},
   "outputs": [
    {
     "name": "stdout",
     "output_type": "stream",
     "text": [
      "Please enter your user ID :6010\n",
      "\n",
      "********** The Recommended Movies **********\n",
      "Beavis and Butt-head Do America (1996)\n",
      "Being John Malkovich (1999)\n",
      "Chinatown (1974)\n",
      "Contender, The (2000)\n",
      "Dances with Wolves (1990)\n",
      "Day the Earth Stood Still, The (1951)\n",
      "Groundhog Day (1993)\n",
      "Last of the Mohicans, The (1992)\n",
      "Nikita (La Femme Nikita) (1990)\n",
      "X-Men (2000)\n",
      "********************\n"
     ]
    }
   ],
   "source": [
    "get_user_based_recommendation()"
   ]
  },
  {
   "cell_type": "markdown",
   "id": "0616c28c",
   "metadata": {},
   "source": [
    "##### Build Recommendation System based on Cosine Similarity"
   ]
  },
  {
   "cell_type": "markdown",
   "id": "5c1c19bb",
   "metadata": {},
   "source": [
    "###### Building Item-similarity matrix and User-similarity matrix"
   ]
  },
  {
   "cell_type": "code",
   "execution_count": 82,
   "id": "2ecee50b",
   "metadata": {},
   "outputs": [
    {
     "data": {
      "text/html": [
       "<div>\n",
       "<style scoped>\n",
       "    .dataframe tbody tr th:only-of-type {\n",
       "        vertical-align: middle;\n",
       "    }\n",
       "\n",
       "    .dataframe tbody tr th {\n",
       "        vertical-align: top;\n",
       "    }\n",
       "\n",
       "    .dataframe thead th {\n",
       "        text-align: right;\n",
       "    }\n",
       "</style>\n",
       "<table border=\"1\" class=\"dataframe\">\n",
       "  <thead>\n",
       "    <tr style=\"text-align: right;\">\n",
       "      <th></th>\n",
       "      <th>Gender</th>\n",
       "      <th>25-34</th>\n",
       "      <th>35-44</th>\n",
       "      <th>45-49</th>\n",
       "      <th>50-55</th>\n",
       "      <th>56+</th>\n",
       "      <th>Under 18</th>\n",
       "      <th>Occupation_1</th>\n",
       "      <th>Occupation_2</th>\n",
       "      <th>Occupation_3</th>\n",
       "      <th>...</th>\n",
       "      <th>Occupation_11</th>\n",
       "      <th>Occupation_12</th>\n",
       "      <th>Occupation_13</th>\n",
       "      <th>Occupation_14</th>\n",
       "      <th>Occupation_15</th>\n",
       "      <th>Occupation_16</th>\n",
       "      <th>Occupation_17</th>\n",
       "      <th>Occupation_18</th>\n",
       "      <th>Occupation_19</th>\n",
       "      <th>Occupation_20</th>\n",
       "    </tr>\n",
       "    <tr>\n",
       "      <th>UserID</th>\n",
       "      <th></th>\n",
       "      <th></th>\n",
       "      <th></th>\n",
       "      <th></th>\n",
       "      <th></th>\n",
       "      <th></th>\n",
       "      <th></th>\n",
       "      <th></th>\n",
       "      <th></th>\n",
       "      <th></th>\n",
       "      <th></th>\n",
       "      <th></th>\n",
       "      <th></th>\n",
       "      <th></th>\n",
       "      <th></th>\n",
       "      <th></th>\n",
       "      <th></th>\n",
       "      <th></th>\n",
       "      <th></th>\n",
       "      <th></th>\n",
       "      <th></th>\n",
       "    </tr>\n",
       "  </thead>\n",
       "  <tbody>\n",
       "    <tr>\n",
       "      <th>10</th>\n",
       "      <td>0</td>\n",
       "      <td>0</td>\n",
       "      <td>1</td>\n",
       "      <td>0</td>\n",
       "      <td>0</td>\n",
       "      <td>0</td>\n",
       "      <td>0</td>\n",
       "      <td>1</td>\n",
       "      <td>0</td>\n",
       "      <td>0</td>\n",
       "      <td>...</td>\n",
       "      <td>0</td>\n",
       "      <td>0</td>\n",
       "      <td>0</td>\n",
       "      <td>0</td>\n",
       "      <td>0</td>\n",
       "      <td>0</td>\n",
       "      <td>0</td>\n",
       "      <td>0</td>\n",
       "      <td>0</td>\n",
       "      <td>0</td>\n",
       "    </tr>\n",
       "    <tr>\n",
       "      <th>18</th>\n",
       "      <td>0</td>\n",
       "      <td>0</td>\n",
       "      <td>0</td>\n",
       "      <td>0</td>\n",
       "      <td>0</td>\n",
       "      <td>0</td>\n",
       "      <td>0</td>\n",
       "      <td>0</td>\n",
       "      <td>0</td>\n",
       "      <td>1</td>\n",
       "      <td>...</td>\n",
       "      <td>0</td>\n",
       "      <td>0</td>\n",
       "      <td>0</td>\n",
       "      <td>0</td>\n",
       "      <td>0</td>\n",
       "      <td>0</td>\n",
       "      <td>0</td>\n",
       "      <td>0</td>\n",
       "      <td>0</td>\n",
       "      <td>0</td>\n",
       "    </tr>\n",
       "    <tr>\n",
       "      <th>22</th>\n",
       "      <td>1</td>\n",
       "      <td>0</td>\n",
       "      <td>0</td>\n",
       "      <td>0</td>\n",
       "      <td>0</td>\n",
       "      <td>0</td>\n",
       "      <td>0</td>\n",
       "      <td>0</td>\n",
       "      <td>0</td>\n",
       "      <td>0</td>\n",
       "      <td>...</td>\n",
       "      <td>0</td>\n",
       "      <td>0</td>\n",
       "      <td>0</td>\n",
       "      <td>0</td>\n",
       "      <td>1</td>\n",
       "      <td>0</td>\n",
       "      <td>0</td>\n",
       "      <td>0</td>\n",
       "      <td>0</td>\n",
       "      <td>0</td>\n",
       "    </tr>\n",
       "    <tr>\n",
       "      <th>23</th>\n",
       "      <td>1</td>\n",
       "      <td>0</td>\n",
       "      <td>1</td>\n",
       "      <td>0</td>\n",
       "      <td>0</td>\n",
       "      <td>0</td>\n",
       "      <td>0</td>\n",
       "      <td>0</td>\n",
       "      <td>0</td>\n",
       "      <td>0</td>\n",
       "      <td>...</td>\n",
       "      <td>0</td>\n",
       "      <td>0</td>\n",
       "      <td>0</td>\n",
       "      <td>0</td>\n",
       "      <td>0</td>\n",
       "      <td>0</td>\n",
       "      <td>0</td>\n",
       "      <td>0</td>\n",
       "      <td>0</td>\n",
       "      <td>0</td>\n",
       "    </tr>\n",
       "    <tr>\n",
       "      <th>26</th>\n",
       "      <td>1</td>\n",
       "      <td>1</td>\n",
       "      <td>0</td>\n",
       "      <td>0</td>\n",
       "      <td>0</td>\n",
       "      <td>0</td>\n",
       "      <td>0</td>\n",
       "      <td>0</td>\n",
       "      <td>0</td>\n",
       "      <td>0</td>\n",
       "      <td>...</td>\n",
       "      <td>0</td>\n",
       "      <td>0</td>\n",
       "      <td>0</td>\n",
       "      <td>0</td>\n",
       "      <td>0</td>\n",
       "      <td>0</td>\n",
       "      <td>0</td>\n",
       "      <td>0</td>\n",
       "      <td>0</td>\n",
       "      <td>0</td>\n",
       "    </tr>\n",
       "  </tbody>\n",
       "</table>\n",
       "<p>5 rows × 27 columns</p>\n",
       "</div>"
      ],
      "text/plain": [
       "        Gender  25-34  35-44  45-49  50-55  56+  Under 18  Occupation_1  \\\n",
       "UserID                                                                    \n",
       "10           0      0      1      0      0    0         0             1   \n",
       "18           0      0      0      0      0    0         0             0   \n",
       "22           1      0      0      0      0    0         0             0   \n",
       "23           1      0      1      0      0    0         0             0   \n",
       "26           1      1      0      0      0    0         0             0   \n",
       "\n",
       "        Occupation_2  Occupation_3  ...  Occupation_11  Occupation_12  \\\n",
       "UserID                              ...                                 \n",
       "10                 0             0  ...              0              0   \n",
       "18                 0             1  ...              0              0   \n",
       "22                 0             0  ...              0              0   \n",
       "23                 0             0  ...              0              0   \n",
       "26                 0             0  ...              0              0   \n",
       "\n",
       "        Occupation_13  Occupation_14  Occupation_15  Occupation_16  \\\n",
       "UserID                                                               \n",
       "10                  0              0              0              0   \n",
       "18                  0              0              0              0   \n",
       "22                  0              0              1              0   \n",
       "23                  0              0              0              0   \n",
       "26                  0              0              0              0   \n",
       "\n",
       "        Occupation_17  Occupation_18  Occupation_19  Occupation_20  \n",
       "UserID                                                              \n",
       "10                  0              0              0              0  \n",
       "18                  0              0              0              0  \n",
       "22                  0              0              0              0  \n",
       "23                  0              0              0              0  \n",
       "26                  0              0              0              0  \n",
       "\n",
       "[5 rows x 27 columns]"
      ]
     },
     "execution_count": 82,
     "metadata": {},
     "output_type": "execute_result"
    }
   ],
   "source": [
    "active_users.head()"
   ]
  },
  {
   "cell_type": "code",
   "execution_count": 83,
   "id": "4ca1bacc",
   "metadata": {},
   "outputs": [],
   "source": [
    "from sklearn.metrics.pairwise import cosine_similarity"
   ]
  },
  {
   "cell_type": "code",
   "execution_count": 84,
   "id": "5054d2d5",
   "metadata": {},
   "outputs": [
    {
     "data": {
      "text/html": [
       "<div>\n",
       "<style scoped>\n",
       "    .dataframe tbody tr th:only-of-type {\n",
       "        vertical-align: middle;\n",
       "    }\n",
       "\n",
       "    .dataframe tbody tr th {\n",
       "        vertical-align: top;\n",
       "    }\n",
       "\n",
       "    .dataframe thead th {\n",
       "        text-align: right;\n",
       "    }\n",
       "</style>\n",
       "<table border=\"1\" class=\"dataframe\">\n",
       "  <thead>\n",
       "    <tr style=\"text-align: right;\">\n",
       "      <th></th>\n",
       "      <th>User1</th>\n",
       "      <th>User2</th>\n",
       "      <th>Cosine_similarity</th>\n",
       "    </tr>\n",
       "  </thead>\n",
       "  <tbody>\n",
       "    <tr>\n",
       "      <th>0</th>\n",
       "      <td>10</td>\n",
       "      <td>10</td>\n",
       "      <td>[[0.9999999999999998]]</td>\n",
       "    </tr>\n",
       "    <tr>\n",
       "      <th>1</th>\n",
       "      <td>10</td>\n",
       "      <td>18</td>\n",
       "      <td>[[0.0]]</td>\n",
       "    </tr>\n",
       "    <tr>\n",
       "      <th>2</th>\n",
       "      <td>10</td>\n",
       "      <td>22</td>\n",
       "      <td>[[0.0]]</td>\n",
       "    </tr>\n",
       "    <tr>\n",
       "      <th>3</th>\n",
       "      <td>10</td>\n",
       "      <td>23</td>\n",
       "      <td>[[0.4999999999999999]]</td>\n",
       "    </tr>\n",
       "    <tr>\n",
       "      <th>4</th>\n",
       "      <td>10</td>\n",
       "      <td>26</td>\n",
       "      <td>[[0.0]]</td>\n",
       "    </tr>\n",
       "  </tbody>\n",
       "</table>\n",
       "</div>"
      ],
      "text/plain": [
       "   User1  User2       Cosine_similarity\n",
       "0     10     10  [[0.9999999999999998]]\n",
       "1     10     18                 [[0.0]]\n",
       "2     10     22                 [[0.0]]\n",
       "3     10     23  [[0.4999999999999999]]\n",
       "4     10     26                 [[0.0]]"
      ]
     },
     "execution_count": 84,
     "metadata": {},
     "output_type": "execute_result"
    }
   ],
   "source": [
    "user_sim=[]\n",
    "for user1 in active_users.index:\n",
    "    for user2 in active_users.index:\n",
    "        user_sim.append([user1,user2,cosine_similarity(X=np.array(users.loc[user1]).reshape(1,-1),Y=np.array(users.loc[user2]).reshape(1,-1))])\n",
    "user_sim=pd.DataFrame(user_sim,columns=['User1','User2','Cosine_similarity'])\n",
    "user_sim.head()"
   ]
  },
  {
   "cell_type": "code",
   "execution_count": 85,
   "id": "af0a7481",
   "metadata": {},
   "outputs": [
    {
     "data": {
      "text/html": [
       "<div>\n",
       "<style scoped>\n",
       "    .dataframe tbody tr th:only-of-type {\n",
       "        vertical-align: middle;\n",
       "    }\n",
       "\n",
       "    .dataframe tbody tr th {\n",
       "        vertical-align: top;\n",
       "    }\n",
       "\n",
       "    .dataframe thead th {\n",
       "        text-align: right;\n",
       "    }\n",
       "</style>\n",
       "<table border=\"1\" class=\"dataframe\">\n",
       "  <thead>\n",
       "    <tr style=\"text-align: right;\">\n",
       "      <th></th>\n",
       "      <th>User1</th>\n",
       "      <th>User2</th>\n",
       "      <th>Cosine_similarity</th>\n",
       "    </tr>\n",
       "  </thead>\n",
       "  <tbody>\n",
       "    <tr>\n",
       "      <th>0</th>\n",
       "      <td>10</td>\n",
       "      <td>10</td>\n",
       "      <td>1.0</td>\n",
       "    </tr>\n",
       "    <tr>\n",
       "      <th>1</th>\n",
       "      <td>10</td>\n",
       "      <td>18</td>\n",
       "      <td>0.0</td>\n",
       "    </tr>\n",
       "    <tr>\n",
       "      <th>2</th>\n",
       "      <td>10</td>\n",
       "      <td>22</td>\n",
       "      <td>0.0</td>\n",
       "    </tr>\n",
       "    <tr>\n",
       "      <th>3</th>\n",
       "      <td>10</td>\n",
       "      <td>23</td>\n",
       "      <td>0.5</td>\n",
       "    </tr>\n",
       "    <tr>\n",
       "      <th>4</th>\n",
       "      <td>10</td>\n",
       "      <td>26</td>\n",
       "      <td>0.0</td>\n",
       "    </tr>\n",
       "  </tbody>\n",
       "</table>\n",
       "</div>"
      ],
      "text/plain": [
       "   User1  User2  Cosine_similarity\n",
       "0     10     10                1.0\n",
       "1     10     18                0.0\n",
       "2     10     22                0.0\n",
       "3     10     23                0.5\n",
       "4     10     26                0.0"
      ]
     },
     "execution_count": 85,
     "metadata": {},
     "output_type": "execute_result"
    }
   ],
   "source": [
    "user_sim.Cosine_similarity=user_sim.Cosine_similarity.apply(lambda x:x[-1][-1])\n",
    "user_sim.head()"
   ]
  },
  {
   "cell_type": "markdown",
   "id": "0838fd9b",
   "metadata": {},
   "source": [
    "Creating the Pivot table --- User-similarity matrix"
   ]
  },
  {
   "cell_type": "code",
   "execution_count": 86,
   "id": "b997f9ba",
   "metadata": {},
   "outputs": [
    {
     "data": {
      "text/html": [
       "<div>\n",
       "<style scoped>\n",
       "    .dataframe tbody tr th:only-of-type {\n",
       "        vertical-align: middle;\n",
       "    }\n",
       "\n",
       "    .dataframe tbody tr th {\n",
       "        vertical-align: top;\n",
       "    }\n",
       "\n",
       "    .dataframe thead th {\n",
       "        text-align: right;\n",
       "    }\n",
       "</style>\n",
       "<table border=\"1\" class=\"dataframe\">\n",
       "  <thead>\n",
       "    <tr style=\"text-align: right;\">\n",
       "      <th>User2</th>\n",
       "      <th>10</th>\n",
       "      <th>18</th>\n",
       "      <th>22</th>\n",
       "      <th>23</th>\n",
       "      <th>26</th>\n",
       "      <th>33</th>\n",
       "      <th>36</th>\n",
       "      <th>48</th>\n",
       "      <th>53</th>\n",
       "      <th>58</th>\n",
       "      <th>...</th>\n",
       "      <th>5972</th>\n",
       "      <th>5978</th>\n",
       "      <th>5996</th>\n",
       "      <th>6000</th>\n",
       "      <th>6002</th>\n",
       "      <th>6007</th>\n",
       "      <th>6010</th>\n",
       "      <th>6016</th>\n",
       "      <th>6036</th>\n",
       "      <th>6040</th>\n",
       "    </tr>\n",
       "    <tr>\n",
       "      <th>User1</th>\n",
       "      <th></th>\n",
       "      <th></th>\n",
       "      <th></th>\n",
       "      <th></th>\n",
       "      <th></th>\n",
       "      <th></th>\n",
       "      <th></th>\n",
       "      <th></th>\n",
       "      <th></th>\n",
       "      <th></th>\n",
       "      <th></th>\n",
       "      <th></th>\n",
       "      <th></th>\n",
       "      <th></th>\n",
       "      <th></th>\n",
       "      <th></th>\n",
       "      <th></th>\n",
       "      <th></th>\n",
       "      <th></th>\n",
       "      <th></th>\n",
       "      <th></th>\n",
       "    </tr>\n",
       "  </thead>\n",
       "  <tbody>\n",
       "    <tr>\n",
       "      <th>10</th>\n",
       "      <td>1.0</td>\n",
       "      <td>0.0</td>\n",
       "      <td>0.00</td>\n",
       "      <td>0.50</td>\n",
       "      <td>0.00</td>\n",
       "      <td>0.00</td>\n",
       "      <td>0.00</td>\n",
       "      <td>0.00</td>\n",
       "      <td>0.00</td>\n",
       "      <td>0.00</td>\n",
       "      <td>...</td>\n",
       "      <td>0.00</td>\n",
       "      <td>0.82</td>\n",
       "      <td>0.00</td>\n",
       "      <td>0.00</td>\n",
       "      <td>0.00</td>\n",
       "      <td>0.41</td>\n",
       "      <td>0.50</td>\n",
       "      <td>0.41</td>\n",
       "      <td>0.00</td>\n",
       "      <td>0.00</td>\n",
       "    </tr>\n",
       "    <tr>\n",
       "      <th>18</th>\n",
       "      <td>0.0</td>\n",
       "      <td>1.0</td>\n",
       "      <td>0.00</td>\n",
       "      <td>0.00</td>\n",
       "      <td>0.00</td>\n",
       "      <td>0.58</td>\n",
       "      <td>0.58</td>\n",
       "      <td>0.00</td>\n",
       "      <td>0.00</td>\n",
       "      <td>0.00</td>\n",
       "      <td>...</td>\n",
       "      <td>0.00</td>\n",
       "      <td>0.00</td>\n",
       "      <td>0.00</td>\n",
       "      <td>0.00</td>\n",
       "      <td>0.00</td>\n",
       "      <td>0.00</td>\n",
       "      <td>0.00</td>\n",
       "      <td>0.00</td>\n",
       "      <td>0.00</td>\n",
       "      <td>0.00</td>\n",
       "    </tr>\n",
       "    <tr>\n",
       "      <th>22</th>\n",
       "      <td>0.0</td>\n",
       "      <td>0.0</td>\n",
       "      <td>1.00</td>\n",
       "      <td>0.50</td>\n",
       "      <td>0.41</td>\n",
       "      <td>0.41</td>\n",
       "      <td>0.41</td>\n",
       "      <td>0.41</td>\n",
       "      <td>0.50</td>\n",
       "      <td>0.41</td>\n",
       "      <td>...</td>\n",
       "      <td>0.00</td>\n",
       "      <td>0.41</td>\n",
       "      <td>0.00</td>\n",
       "      <td>0.41</td>\n",
       "      <td>0.50</td>\n",
       "      <td>0.41</td>\n",
       "      <td>0.50</td>\n",
       "      <td>0.41</td>\n",
       "      <td>0.50</td>\n",
       "      <td>0.41</td>\n",
       "    </tr>\n",
       "    <tr>\n",
       "      <th>23</th>\n",
       "      <td>0.5</td>\n",
       "      <td>0.0</td>\n",
       "      <td>0.50</td>\n",
       "      <td>1.00</td>\n",
       "      <td>0.41</td>\n",
       "      <td>0.41</td>\n",
       "      <td>0.41</td>\n",
       "      <td>0.41</td>\n",
       "      <td>0.50</td>\n",
       "      <td>0.41</td>\n",
       "      <td>...</td>\n",
       "      <td>0.00</td>\n",
       "      <td>0.82</td>\n",
       "      <td>0.00</td>\n",
       "      <td>0.41</td>\n",
       "      <td>0.50</td>\n",
       "      <td>0.82</td>\n",
       "      <td>1.00</td>\n",
       "      <td>0.41</td>\n",
       "      <td>0.00</td>\n",
       "      <td>0.41</td>\n",
       "    </tr>\n",
       "    <tr>\n",
       "      <th>26</th>\n",
       "      <td>0.0</td>\n",
       "      <td>0.0</td>\n",
       "      <td>0.41</td>\n",
       "      <td>0.41</td>\n",
       "      <td>1.00</td>\n",
       "      <td>0.33</td>\n",
       "      <td>0.67</td>\n",
       "      <td>0.67</td>\n",
       "      <td>0.82</td>\n",
       "      <td>0.67</td>\n",
       "      <td>...</td>\n",
       "      <td>0.41</td>\n",
       "      <td>0.33</td>\n",
       "      <td>0.58</td>\n",
       "      <td>0.33</td>\n",
       "      <td>0.41</td>\n",
       "      <td>0.33</td>\n",
       "      <td>0.41</td>\n",
       "      <td>0.33</td>\n",
       "      <td>0.41</td>\n",
       "      <td>0.67</td>\n",
       "    </tr>\n",
       "  </tbody>\n",
       "</table>\n",
       "<p>5 rows × 1000 columns</p>\n",
       "</div>"
      ],
      "text/plain": [
       "User2  10    18    22    23    26    33    36    48    53    58    ...  5972  \\\n",
       "User1                                                              ...         \n",
       "10      1.0   0.0  0.00  0.50  0.00  0.00  0.00  0.00  0.00  0.00  ...  0.00   \n",
       "18      0.0   1.0  0.00  0.00  0.00  0.58  0.58  0.00  0.00  0.00  ...  0.00   \n",
       "22      0.0   0.0  1.00  0.50  0.41  0.41  0.41  0.41  0.50  0.41  ...  0.00   \n",
       "23      0.5   0.0  0.50  1.00  0.41  0.41  0.41  0.41  0.50  0.41  ...  0.00   \n",
       "26      0.0   0.0  0.41  0.41  1.00  0.33  0.67  0.67  0.82  0.67  ...  0.41   \n",
       "\n",
       "User2  5978  5996  6000  6002  6007  6010  6016  6036  6040  \n",
       "User1                                                        \n",
       "10     0.82  0.00  0.00  0.00  0.41  0.50  0.41  0.00  0.00  \n",
       "18     0.00  0.00  0.00  0.00  0.00  0.00  0.00  0.00  0.00  \n",
       "22     0.41  0.00  0.41  0.50  0.41  0.50  0.41  0.50  0.41  \n",
       "23     0.82  0.00  0.41  0.50  0.82  1.00  0.41  0.00  0.41  \n",
       "26     0.33  0.58  0.33  0.41  0.33  0.41  0.33  0.41  0.67  \n",
       "\n",
       "[5 rows x 1000 columns]"
      ]
     },
     "execution_count": 86,
     "metadata": {},
     "output_type": "execute_result"
    }
   ],
   "source": [
    "user_sim_pv = user_sim.pivot_table(values='Cosine_similarity',index='User1',columns='User2').round(2)\n",
    "user_sim_pv.head()"
   ]
  },
  {
   "cell_type": "markdown",
   "id": "b99979ee",
   "metadata": {},
   "source": [
    "###### Item-similarity matrix"
   ]
  },
  {
   "cell_type": "code",
   "execution_count": 87,
   "id": "0368a6a8",
   "metadata": {},
   "outputs": [
    {
     "data": {
      "text/html": [
       "<div>\n",
       "<style scoped>\n",
       "    .dataframe tbody tr th:only-of-type {\n",
       "        vertical-align: middle;\n",
       "    }\n",
       "\n",
       "    .dataframe tbody tr th {\n",
       "        vertical-align: top;\n",
       "    }\n",
       "\n",
       "    .dataframe thead th {\n",
       "        text-align: right;\n",
       "    }\n",
       "</style>\n",
       "<table border=\"1\" class=\"dataframe\">\n",
       "  <thead>\n",
       "    <tr style=\"text-align: right;\">\n",
       "      <th></th>\n",
       "      <th>Movie1</th>\n",
       "      <th>Movie2</th>\n",
       "      <th>Cosine_similarity</th>\n",
       "    </tr>\n",
       "  </thead>\n",
       "  <tbody>\n",
       "    <tr>\n",
       "      <th>0</th>\n",
       "      <td>2858</td>\n",
       "      <td>2858</td>\n",
       "      <td>1.0</td>\n",
       "    </tr>\n",
       "    <tr>\n",
       "      <th>1</th>\n",
       "      <td>2858</td>\n",
       "      <td>260</td>\n",
       "      <td>0.0</td>\n",
       "    </tr>\n",
       "    <tr>\n",
       "      <th>2</th>\n",
       "      <td>2858</td>\n",
       "      <td>1196</td>\n",
       "      <td>0.0</td>\n",
       "    </tr>\n",
       "    <tr>\n",
       "      <th>3</th>\n",
       "      <td>2858</td>\n",
       "      <td>1210</td>\n",
       "      <td>0.0</td>\n",
       "    </tr>\n",
       "    <tr>\n",
       "      <th>4</th>\n",
       "      <td>2858</td>\n",
       "      <td>480</td>\n",
       "      <td>0.0</td>\n",
       "    </tr>\n",
       "  </tbody>\n",
       "</table>\n",
       "</div>"
      ],
      "text/plain": [
       "   Movie1  Movie2  Cosine_similarity\n",
       "0    2858    2858                1.0\n",
       "1    2858     260                0.0\n",
       "2    2858    1196                0.0\n",
       "3    2858    1210                0.0\n",
       "4    2858     480                0.0"
      ]
     },
     "execution_count": 87,
     "metadata": {},
     "output_type": "execute_result"
    }
   ],
   "source": [
    "item_sim = []\n",
    "for movie1 in popular_movies:\n",
    "    for movie2 in popular_movies:\n",
    "        item_sim.append([movie1,movie2,cosine_similarity(np.array(movies.loc[movie1]).reshape(1,-1),np.array(movies.loc[movie2]).reshape(1,-1))[-1][-1]])\n",
    "item_sim=pd.DataFrame(item_sim,columns=['Movie1','Movie2','Cosine_similarity'])\n",
    "item_sim.head()"
   ]
  },
  {
   "cell_type": "markdown",
   "id": "4fce3296",
   "metadata": {},
   "source": [
    "Creating the Pivotted table ----- Item-similarity matrix"
   ]
  },
  {
   "cell_type": "code",
   "execution_count": 88,
   "id": "337c5b7b",
   "metadata": {},
   "outputs": [
    {
     "data": {
      "text/html": [
       "<div>\n",
       "<style scoped>\n",
       "    .dataframe tbody tr th:only-of-type {\n",
       "        vertical-align: middle;\n",
       "    }\n",
       "\n",
       "    .dataframe tbody tr th {\n",
       "        vertical-align: top;\n",
       "    }\n",
       "\n",
       "    .dataframe thead th {\n",
       "        text-align: right;\n",
       "    }\n",
       "</style>\n",
       "<table border=\"1\" class=\"dataframe\">\n",
       "  <thead>\n",
       "    <tr style=\"text-align: right;\">\n",
       "      <th>Movie2</th>\n",
       "      <th>1</th>\n",
       "      <th>2</th>\n",
       "      <th>3</th>\n",
       "      <th>6</th>\n",
       "      <th>7</th>\n",
       "      <th>10</th>\n",
       "      <th>11</th>\n",
       "      <th>16</th>\n",
       "      <th>17</th>\n",
       "      <th>19</th>\n",
       "      <th>...</th>\n",
       "      <th>3863</th>\n",
       "      <th>3868</th>\n",
       "      <th>3869</th>\n",
       "      <th>3893</th>\n",
       "      <th>3897</th>\n",
       "      <th>3911</th>\n",
       "      <th>3916</th>\n",
       "      <th>3927</th>\n",
       "      <th>3948</th>\n",
       "      <th>3952</th>\n",
       "    </tr>\n",
       "    <tr>\n",
       "      <th>Movie1</th>\n",
       "      <th></th>\n",
       "      <th></th>\n",
       "      <th></th>\n",
       "      <th></th>\n",
       "      <th></th>\n",
       "      <th></th>\n",
       "      <th></th>\n",
       "      <th></th>\n",
       "      <th></th>\n",
       "      <th></th>\n",
       "      <th></th>\n",
       "      <th></th>\n",
       "      <th></th>\n",
       "      <th></th>\n",
       "      <th></th>\n",
       "      <th></th>\n",
       "      <th></th>\n",
       "      <th></th>\n",
       "      <th></th>\n",
       "      <th></th>\n",
       "      <th></th>\n",
       "    </tr>\n",
       "  </thead>\n",
       "  <tbody>\n",
       "    <tr>\n",
       "      <th>1</th>\n",
       "      <td>1.00</td>\n",
       "      <td>0.33</td>\n",
       "      <td>0.41</td>\n",
       "      <td>0.0</td>\n",
       "      <td>0.41</td>\n",
       "      <td>0.00</td>\n",
       "      <td>0.33</td>\n",
       "      <td>0.00</td>\n",
       "      <td>0.0</td>\n",
       "      <td>0.58</td>\n",
       "      <td>...</td>\n",
       "      <td>0.00</td>\n",
       "      <td>0.58</td>\n",
       "      <td>0.58</td>\n",
       "      <td>0.41</td>\n",
       "      <td>0.41</td>\n",
       "      <td>0.58</td>\n",
       "      <td>0.0</td>\n",
       "      <td>0.00</td>\n",
       "      <td>0.58</td>\n",
       "      <td>0.00</td>\n",
       "    </tr>\n",
       "    <tr>\n",
       "      <th>2</th>\n",
       "      <td>0.33</td>\n",
       "      <td>1.00</td>\n",
       "      <td>0.00</td>\n",
       "      <td>0.0</td>\n",
       "      <td>0.00</td>\n",
       "      <td>0.33</td>\n",
       "      <td>0.00</td>\n",
       "      <td>0.00</td>\n",
       "      <td>0.0</td>\n",
       "      <td>0.00</td>\n",
       "      <td>...</td>\n",
       "      <td>0.00</td>\n",
       "      <td>0.00</td>\n",
       "      <td>0.00</td>\n",
       "      <td>0.00</td>\n",
       "      <td>0.00</td>\n",
       "      <td>0.00</td>\n",
       "      <td>0.0</td>\n",
       "      <td>0.41</td>\n",
       "      <td>0.00</td>\n",
       "      <td>0.00</td>\n",
       "    </tr>\n",
       "    <tr>\n",
       "      <th>3</th>\n",
       "      <td>0.41</td>\n",
       "      <td>0.00</td>\n",
       "      <td>1.00</td>\n",
       "      <td>0.0</td>\n",
       "      <td>1.00</td>\n",
       "      <td>0.00</td>\n",
       "      <td>0.82</td>\n",
       "      <td>0.00</td>\n",
       "      <td>0.5</td>\n",
       "      <td>0.71</td>\n",
       "      <td>...</td>\n",
       "      <td>0.00</td>\n",
       "      <td>0.71</td>\n",
       "      <td>0.71</td>\n",
       "      <td>0.50</td>\n",
       "      <td>0.50</td>\n",
       "      <td>0.71</td>\n",
       "      <td>0.0</td>\n",
       "      <td>0.00</td>\n",
       "      <td>0.71</td>\n",
       "      <td>0.00</td>\n",
       "    </tr>\n",
       "    <tr>\n",
       "      <th>6</th>\n",
       "      <td>0.00</td>\n",
       "      <td>0.00</td>\n",
       "      <td>0.00</td>\n",
       "      <td>1.0</td>\n",
       "      <td>0.00</td>\n",
       "      <td>0.67</td>\n",
       "      <td>0.00</td>\n",
       "      <td>0.41</td>\n",
       "      <td>0.0</td>\n",
       "      <td>0.00</td>\n",
       "      <td>...</td>\n",
       "      <td>0.41</td>\n",
       "      <td>0.00</td>\n",
       "      <td>0.00</td>\n",
       "      <td>0.41</td>\n",
       "      <td>0.00</td>\n",
       "      <td>0.00</td>\n",
       "      <td>0.0</td>\n",
       "      <td>0.00</td>\n",
       "      <td>0.00</td>\n",
       "      <td>0.41</td>\n",
       "    </tr>\n",
       "    <tr>\n",
       "      <th>7</th>\n",
       "      <td>0.41</td>\n",
       "      <td>0.00</td>\n",
       "      <td>1.00</td>\n",
       "      <td>0.0</td>\n",
       "      <td>1.00</td>\n",
       "      <td>0.00</td>\n",
       "      <td>0.82</td>\n",
       "      <td>0.00</td>\n",
       "      <td>0.5</td>\n",
       "      <td>0.71</td>\n",
       "      <td>...</td>\n",
       "      <td>0.00</td>\n",
       "      <td>0.71</td>\n",
       "      <td>0.71</td>\n",
       "      <td>0.50</td>\n",
       "      <td>0.50</td>\n",
       "      <td>0.71</td>\n",
       "      <td>0.0</td>\n",
       "      <td>0.00</td>\n",
       "      <td>0.71</td>\n",
       "      <td>0.00</td>\n",
       "    </tr>\n",
       "  </tbody>\n",
       "</table>\n",
       "<p>5 rows × 1000 columns</p>\n",
       "</div>"
      ],
      "text/plain": [
       "Movie2  1     2     3     6     7     10    11    16    17    19    ...  3863  \\\n",
       "Movie1                                                              ...         \n",
       "1       1.00  0.33  0.41   0.0  0.41  0.00  0.33  0.00   0.0  0.58  ...  0.00   \n",
       "2       0.33  1.00  0.00   0.0  0.00  0.33  0.00  0.00   0.0  0.00  ...  0.00   \n",
       "3       0.41  0.00  1.00   0.0  1.00  0.00  0.82  0.00   0.5  0.71  ...  0.00   \n",
       "6       0.00  0.00  0.00   1.0  0.00  0.67  0.00  0.41   0.0  0.00  ...  0.41   \n",
       "7       0.41  0.00  1.00   0.0  1.00  0.00  0.82  0.00   0.5  0.71  ...  0.00   \n",
       "\n",
       "Movie2  3868  3869  3893  3897  3911  3916  3927  3948  3952  \n",
       "Movie1                                                        \n",
       "1       0.58  0.58  0.41  0.41  0.58   0.0  0.00  0.58  0.00  \n",
       "2       0.00  0.00  0.00  0.00  0.00   0.0  0.41  0.00  0.00  \n",
       "3       0.71  0.71  0.50  0.50  0.71   0.0  0.00  0.71  0.00  \n",
       "6       0.00  0.00  0.41  0.00  0.00   0.0  0.00  0.00  0.41  \n",
       "7       0.71  0.71  0.50  0.50  0.71   0.0  0.00  0.71  0.00  \n",
       "\n",
       "[5 rows x 1000 columns]"
      ]
     },
     "execution_count": 88,
     "metadata": {},
     "output_type": "execute_result"
    }
   ],
   "source": [
    "item_sim_pv=item_sim.pivot_table(values='Cosine_similarity',index='Movie1',columns='Movie2').round(2)\n",
    "item_sim_pv.head()"
   ]
  },
  {
   "cell_type": "markdown",
   "id": "3292b242",
   "metadata": {},
   "source": [
    "Recommending k-items based on the Cosine similarity."
   ]
  },
  {
   "cell_type": "code",
   "execution_count": 89,
   "id": "95d8a17b",
   "metadata": {},
   "outputs": [],
   "source": [
    "def get_movie_recommendation_basedOn_similarity():\n",
    "    movieName=input(\"Please enter a movie name !\")\n",
    "    movieID=orig_movies.loc[orig_movies.Title.str.contains(movieName)]['Movie ID'].unique().min()\n",
    "    num=int(input(\"Please enter the number of recommendations required !\"))\n",
    "    movieIndices=item_sim_pv.loc[movieID].sort_values(ascending=False).index.to_list()\n",
    "    movieIndices.remove(movieID)\n",
    "    movieIndices=movieIndices[:num]\n",
    "    movies=orig_movies.loc[orig_movies['Movie ID'].isin(movieIndices)]['Title'].unique()\n",
    "    print()\n",
    "    printMovies(movies)"
   ]
  },
  {
   "cell_type": "code",
   "execution_count": 134,
   "id": "5400db31",
   "metadata": {},
   "outputs": [
    {
     "name": "stdout",
     "output_type": "stream",
     "text": [
      "Please enter a movie name !Home Alone\n",
      "Please enter the number of recommendations required !10\n",
      "\n",
      "********** The Recommended Movies **********\n",
      "Toy Story (1995)\n",
      "101 Dalmatians (1996)\n",
      "Mighty Ducks, The (1992)\n",
      "Babe: Pig in the City (1998)\n",
      "Home Alone 2: Lost in New York (1992)\n",
      "Toy Story 2 (1999)\n",
      "Stuart Little (1999)\n",
      "Muppet Movie, The (1979)\n",
      "Great Muppet Caper, The (1981)\n",
      "Muppets Take Manhattan, The (1984)\n",
      "********************\n"
     ]
    }
   ],
   "source": [
    "get_movie_recommendation_basedOn_similarity()"
   ]
  },
  {
   "cell_type": "code",
   "execution_count": 148,
   "id": "0a51c83b",
   "metadata": {},
   "outputs": [
    {
     "name": "stdout",
     "output_type": "stream",
     "text": [
      "Please enter a movie name !Jumanji\n",
      "Please enter the number of recommendations required !10\n",
      "\n",
      "********** The Recommended Movies **********\n",
      "Indian in the Cupboard, The (1995)\n",
      "Space Jam (1996)\n",
      "20,000 Leagues Under the Sea (1954)\n",
      "Willy Wonka and the Chocolate Factory (1971)\n",
      "Labyrinth (1986)\n",
      "Goonies, The (1985)\n",
      "Honey, I Shrunk the Kids (1989)\n",
      "NeverEnding Story, The (1984)\n",
      "Ladyhawke (1985)\n",
      "Hook (1991)\n",
      "********************\n"
     ]
    }
   ],
   "source": [
    "get_movie_recommendation_basedOn_similarity()"
   ]
  },
  {
   "cell_type": "code",
   "execution_count": 149,
   "id": "52d3f001",
   "metadata": {},
   "outputs": [
    {
     "name": "stdout",
     "output_type": "stream",
     "text": [
      "Please enter a movie name !Toy Story\n",
      "Please enter the number of recommendations required !10\n",
      "\n",
      "********** The Recommended Movies **********\n",
      "Aladdin (1992)\n",
      "101 Dalmatians (1996)\n",
      "Mulan (1998)\n",
      "Bambi (1942)\n",
      "Jungle Book, The (1967)\n",
      "American Tail, An (1986)\n",
      "Bug's Life, A (1998)\n",
      "Tarzan (1999)\n",
      "Toy Story 2 (1999)\n",
      "Chicken Run (2000)\n",
      "********************\n"
     ]
    }
   ],
   "source": [
    "get_movie_recommendation_basedOn_similarity()"
   ]
  },
  {
   "cell_type": "markdown",
   "id": "2a771c62",
   "metadata": {},
   "source": [
    "##### Using Nearest neighbors algorithm"
   ]
  },
  {
   "cell_type": "code",
   "execution_count": 93,
   "id": "ff6b4429",
   "metadata": {},
   "outputs": [],
   "source": [
    "from sklearn.neighbors import NearestNeighbors\n",
    "nearestneighs = NearestNeighbors(n_neighbors=2).fit(movies)"
   ]
  },
  {
   "cell_type": "code",
   "execution_count": 94,
   "id": "efe7996c",
   "metadata": {},
   "outputs": [],
   "source": [
    "def get_nearest_neighbor_recommendation():\n",
    "    movieName=input(\"Please enter your favorite Movie name !..\")\n",
    "    num_recommendations = int(input(\"Please enter the number of recommendations required !!..\"))\n",
    "    movieId = orig_movies.loc[orig_movies.Title.str.contains(movieName)]['Movie ID'].unique().min()\n",
    "    movie = movies.loc[movies.index==movieId]\n",
    "    neighbors=nearestneighs.kneighbors(movie,n_neighbors=15,return_distance=False)\n",
    "    result = orig_movies.loc[orig_movies['Movie ID'].isin(neighbors[-1])]['Title'].unique()[:num_recommendations]\n",
    "    print()\n",
    "    printMovies(result)"
   ]
  },
  {
   "cell_type": "code",
   "execution_count": 150,
   "id": "5328057c",
   "metadata": {},
   "outputs": [
    {
     "name": "stdout",
     "output_type": "stream",
     "text": [
      "Please enter your favorite Movie name !..Home Alone\n",
      "Please enter the number of recommendations required !!..10\n",
      "\n",
      "********** The Recommended Movies **********\n",
      "Awfully Big Adventure, An (1995)\n",
      "Corrina, Corrina (1994)\n",
      "When a Man Loves a Woman (1994)\n",
      "Age of Innocence, The (1993)\n",
      "So I Married an Axe Murderer (1993)\n",
      "Tombstone (1993)\n",
      "Carried Away (1996)\n",
      "Run of the Country, The (1995)\n",
      "Independence Day (ID4) (1996)\n",
      "Time to Kill, A (1996)\n",
      "********************\n"
     ]
    }
   ],
   "source": [
    "get_nearest_neighbor_recommendation()"
   ]
  },
  {
   "cell_type": "code",
   "execution_count": 151,
   "id": "9be7b837",
   "metadata": {},
   "outputs": [
    {
     "name": "stdout",
     "output_type": "stream",
     "text": [
      "Please enter your favorite Movie name !..Heat\n",
      "Please enter the number of recommendations required !!..10\n",
      "\n",
      "********** The Recommended Movies **********\n",
      "Grumpier Old Men (1995)\n",
      "Pocahontas (1995)\n",
      "Mr. Wrong (1996)\n",
      "Fluke (1995)\n",
      "In the Army Now (1994)\n",
      "Window to Paris (1994)\n",
      "Promise, The (Versprechen, Das) (1994)\n",
      "Mrs. Winterbourne (1996)\n",
      "Marlene Dietrich: Shadow and Light (1996)\n",
      "Joe's Apartment (1996)\n",
      "********************\n"
     ]
    }
   ],
   "source": [
    "get_nearest_neighbor_recommendation()"
   ]
  },
  {
   "cell_type": "markdown",
   "id": "f5d3d762",
   "metadata": {},
   "source": [
    "From the above, We can see that this nearest neighbors algorithm did not return results as good as the Pearson correlation model or the Cosine Similarity model. It can be fine tuned to generate relevant recommendations."
   ]
  },
  {
   "cell_type": "markdown",
   "id": "09bcfce2",
   "metadata": {},
   "source": [
    "##### Recommendation system using Matrix Factorization"
   ]
  },
  {
   "cell_type": "markdown",
   "id": "f72fd127",
   "metadata": {},
   "source": [
    "To perform the matrix factorization, we will need to have interaction matrix."
   ]
  },
  {
   "cell_type": "code",
   "execution_count": 97,
   "id": "a0f817c1",
   "metadata": {},
   "outputs": [
    {
     "data": {
      "text/html": [
       "<div>\n",
       "<style scoped>\n",
       "    .dataframe tbody tr th:only-of-type {\n",
       "        vertical-align: middle;\n",
       "    }\n",
       "\n",
       "    .dataframe tbody tr th {\n",
       "        vertical-align: top;\n",
       "    }\n",
       "\n",
       "    .dataframe thead th {\n",
       "        text-align: right;\n",
       "    }\n",
       "</style>\n",
       "<table border=\"1\" class=\"dataframe\">\n",
       "  <thead>\n",
       "    <tr style=\"text-align: right;\">\n",
       "      <th>MovieID</th>\n",
       "      <th>1</th>\n",
       "      <th>2</th>\n",
       "      <th>3</th>\n",
       "      <th>6</th>\n",
       "      <th>7</th>\n",
       "      <th>10</th>\n",
       "      <th>11</th>\n",
       "      <th>16</th>\n",
       "      <th>17</th>\n",
       "      <th>19</th>\n",
       "      <th>...</th>\n",
       "      <th>3863</th>\n",
       "      <th>3868</th>\n",
       "      <th>3869</th>\n",
       "      <th>3893</th>\n",
       "      <th>3897</th>\n",
       "      <th>3911</th>\n",
       "      <th>3916</th>\n",
       "      <th>3927</th>\n",
       "      <th>3948</th>\n",
       "      <th>3952</th>\n",
       "    </tr>\n",
       "    <tr>\n",
       "      <th>UserID</th>\n",
       "      <th></th>\n",
       "      <th></th>\n",
       "      <th></th>\n",
       "      <th></th>\n",
       "      <th></th>\n",
       "      <th></th>\n",
       "      <th></th>\n",
       "      <th></th>\n",
       "      <th></th>\n",
       "      <th></th>\n",
       "      <th></th>\n",
       "      <th></th>\n",
       "      <th></th>\n",
       "      <th></th>\n",
       "      <th></th>\n",
       "      <th></th>\n",
       "      <th></th>\n",
       "      <th></th>\n",
       "      <th></th>\n",
       "      <th></th>\n",
       "      <th></th>\n",
       "    </tr>\n",
       "  </thead>\n",
       "  <tbody>\n",
       "    <tr>\n",
       "      <th>1</th>\n",
       "      <td>5.0</td>\n",
       "      <td>0.0</td>\n",
       "      <td>0.0</td>\n",
       "      <td>0.0</td>\n",
       "      <td>0.0</td>\n",
       "      <td>0.0</td>\n",
       "      <td>0.0</td>\n",
       "      <td>0.0</td>\n",
       "      <td>0.0</td>\n",
       "      <td>0.0</td>\n",
       "      <td>...</td>\n",
       "      <td>0.0</td>\n",
       "      <td>0.0</td>\n",
       "      <td>0.0</td>\n",
       "      <td>0.0</td>\n",
       "      <td>0.0</td>\n",
       "      <td>0.0</td>\n",
       "      <td>0.0</td>\n",
       "      <td>0.0</td>\n",
       "      <td>0.0</td>\n",
       "      <td>0.0</td>\n",
       "    </tr>\n",
       "    <tr>\n",
       "      <th>2</th>\n",
       "      <td>0.0</td>\n",
       "      <td>0.0</td>\n",
       "      <td>0.0</td>\n",
       "      <td>0.0</td>\n",
       "      <td>0.0</td>\n",
       "      <td>0.0</td>\n",
       "      <td>0.0</td>\n",
       "      <td>0.0</td>\n",
       "      <td>0.0</td>\n",
       "      <td>0.0</td>\n",
       "      <td>...</td>\n",
       "      <td>0.0</td>\n",
       "      <td>0.0</td>\n",
       "      <td>0.0</td>\n",
       "      <td>1.0</td>\n",
       "      <td>0.0</td>\n",
       "      <td>0.0</td>\n",
       "      <td>0.0</td>\n",
       "      <td>0.0</td>\n",
       "      <td>0.0</td>\n",
       "      <td>0.0</td>\n",
       "    </tr>\n",
       "    <tr>\n",
       "      <th>3</th>\n",
       "      <td>0.0</td>\n",
       "      <td>0.0</td>\n",
       "      <td>0.0</td>\n",
       "      <td>0.0</td>\n",
       "      <td>0.0</td>\n",
       "      <td>0.0</td>\n",
       "      <td>0.0</td>\n",
       "      <td>0.0</td>\n",
       "      <td>0.0</td>\n",
       "      <td>0.0</td>\n",
       "      <td>...</td>\n",
       "      <td>0.0</td>\n",
       "      <td>3.0</td>\n",
       "      <td>0.0</td>\n",
       "      <td>0.0</td>\n",
       "      <td>0.0</td>\n",
       "      <td>0.0</td>\n",
       "      <td>0.0</td>\n",
       "      <td>0.0</td>\n",
       "      <td>0.0</td>\n",
       "      <td>0.0</td>\n",
       "    </tr>\n",
       "    <tr>\n",
       "      <th>4</th>\n",
       "      <td>0.0</td>\n",
       "      <td>0.0</td>\n",
       "      <td>0.0</td>\n",
       "      <td>0.0</td>\n",
       "      <td>0.0</td>\n",
       "      <td>0.0</td>\n",
       "      <td>0.0</td>\n",
       "      <td>0.0</td>\n",
       "      <td>0.0</td>\n",
       "      <td>0.0</td>\n",
       "      <td>...</td>\n",
       "      <td>0.0</td>\n",
       "      <td>0.0</td>\n",
       "      <td>0.0</td>\n",
       "      <td>0.0</td>\n",
       "      <td>0.0</td>\n",
       "      <td>0.0</td>\n",
       "      <td>0.0</td>\n",
       "      <td>0.0</td>\n",
       "      <td>0.0</td>\n",
       "      <td>0.0</td>\n",
       "    </tr>\n",
       "    <tr>\n",
       "      <th>5</th>\n",
       "      <td>0.0</td>\n",
       "      <td>0.0</td>\n",
       "      <td>0.0</td>\n",
       "      <td>2.0</td>\n",
       "      <td>0.0</td>\n",
       "      <td>0.0</td>\n",
       "      <td>0.0</td>\n",
       "      <td>3.0</td>\n",
       "      <td>0.0</td>\n",
       "      <td>0.0</td>\n",
       "      <td>...</td>\n",
       "      <td>0.0</td>\n",
       "      <td>0.0</td>\n",
       "      <td>0.0</td>\n",
       "      <td>0.0</td>\n",
       "      <td>0.0</td>\n",
       "      <td>0.0</td>\n",
       "      <td>0.0</td>\n",
       "      <td>0.0</td>\n",
       "      <td>0.0</td>\n",
       "      <td>0.0</td>\n",
       "    </tr>\n",
       "    <tr>\n",
       "      <th>...</th>\n",
       "      <td>...</td>\n",
       "      <td>...</td>\n",
       "      <td>...</td>\n",
       "      <td>...</td>\n",
       "      <td>...</td>\n",
       "      <td>...</td>\n",
       "      <td>...</td>\n",
       "      <td>...</td>\n",
       "      <td>...</td>\n",
       "      <td>...</td>\n",
       "      <td>...</td>\n",
       "      <td>...</td>\n",
       "      <td>...</td>\n",
       "      <td>...</td>\n",
       "      <td>...</td>\n",
       "      <td>...</td>\n",
       "      <td>...</td>\n",
       "      <td>...</td>\n",
       "      <td>...</td>\n",
       "      <td>...</td>\n",
       "      <td>...</td>\n",
       "    </tr>\n",
       "    <tr>\n",
       "      <th>6036</th>\n",
       "      <td>0.0</td>\n",
       "      <td>0.0</td>\n",
       "      <td>0.0</td>\n",
       "      <td>3.0</td>\n",
       "      <td>0.0</td>\n",
       "      <td>0.0</td>\n",
       "      <td>3.0</td>\n",
       "      <td>3.0</td>\n",
       "      <td>4.0</td>\n",
       "      <td>0.0</td>\n",
       "      <td>...</td>\n",
       "      <td>0.0</td>\n",
       "      <td>0.0</td>\n",
       "      <td>0.0</td>\n",
       "      <td>0.0</td>\n",
       "      <td>0.0</td>\n",
       "      <td>0.0</td>\n",
       "      <td>0.0</td>\n",
       "      <td>0.0</td>\n",
       "      <td>0.0</td>\n",
       "      <td>0.0</td>\n",
       "    </tr>\n",
       "    <tr>\n",
       "      <th>6037</th>\n",
       "      <td>0.0</td>\n",
       "      <td>0.0</td>\n",
       "      <td>0.0</td>\n",
       "      <td>0.0</td>\n",
       "      <td>0.0</td>\n",
       "      <td>0.0</td>\n",
       "      <td>0.0</td>\n",
       "      <td>0.0</td>\n",
       "      <td>4.0</td>\n",
       "      <td>0.0</td>\n",
       "      <td>...</td>\n",
       "      <td>0.0</td>\n",
       "      <td>0.0</td>\n",
       "      <td>0.0</td>\n",
       "      <td>0.0</td>\n",
       "      <td>0.0</td>\n",
       "      <td>0.0</td>\n",
       "      <td>0.0</td>\n",
       "      <td>0.0</td>\n",
       "      <td>0.0</td>\n",
       "      <td>0.0</td>\n",
       "    </tr>\n",
       "    <tr>\n",
       "      <th>6038</th>\n",
       "      <td>0.0</td>\n",
       "      <td>0.0</td>\n",
       "      <td>0.0</td>\n",
       "      <td>0.0</td>\n",
       "      <td>0.0</td>\n",
       "      <td>0.0</td>\n",
       "      <td>0.0</td>\n",
       "      <td>0.0</td>\n",
       "      <td>0.0</td>\n",
       "      <td>0.0</td>\n",
       "      <td>...</td>\n",
       "      <td>0.0</td>\n",
       "      <td>0.0</td>\n",
       "      <td>0.0</td>\n",
       "      <td>0.0</td>\n",
       "      <td>0.0</td>\n",
       "      <td>0.0</td>\n",
       "      <td>0.0</td>\n",
       "      <td>0.0</td>\n",
       "      <td>0.0</td>\n",
       "      <td>0.0</td>\n",
       "    </tr>\n",
       "    <tr>\n",
       "      <th>6039</th>\n",
       "      <td>0.0</td>\n",
       "      <td>0.0</td>\n",
       "      <td>0.0</td>\n",
       "      <td>0.0</td>\n",
       "      <td>0.0</td>\n",
       "      <td>0.0</td>\n",
       "      <td>0.0</td>\n",
       "      <td>0.0</td>\n",
       "      <td>0.0</td>\n",
       "      <td>0.0</td>\n",
       "      <td>...</td>\n",
       "      <td>0.0</td>\n",
       "      <td>0.0</td>\n",
       "      <td>0.0</td>\n",
       "      <td>0.0</td>\n",
       "      <td>0.0</td>\n",
       "      <td>0.0</td>\n",
       "      <td>0.0</td>\n",
       "      <td>0.0</td>\n",
       "      <td>0.0</td>\n",
       "      <td>0.0</td>\n",
       "    </tr>\n",
       "    <tr>\n",
       "      <th>6040</th>\n",
       "      <td>3.0</td>\n",
       "      <td>0.0</td>\n",
       "      <td>0.0</td>\n",
       "      <td>0.0</td>\n",
       "      <td>0.0</td>\n",
       "      <td>0.0</td>\n",
       "      <td>0.0</td>\n",
       "      <td>0.0</td>\n",
       "      <td>3.0</td>\n",
       "      <td>0.0</td>\n",
       "      <td>...</td>\n",
       "      <td>0.0</td>\n",
       "      <td>0.0</td>\n",
       "      <td>0.0</td>\n",
       "      <td>0.0</td>\n",
       "      <td>0.0</td>\n",
       "      <td>0.0</td>\n",
       "      <td>0.0</td>\n",
       "      <td>0.0</td>\n",
       "      <td>0.0</td>\n",
       "      <td>0.0</td>\n",
       "    </tr>\n",
       "  </tbody>\n",
       "</table>\n",
       "<p>6040 rows × 1000 columns</p>\n",
       "</div>"
      ],
      "text/plain": [
       "MovieID  1     2     3     6     7     10    11    16    17    19    ...  \\\n",
       "UserID                                                               ...   \n",
       "1         5.0   0.0   0.0   0.0   0.0   0.0   0.0   0.0   0.0   0.0  ...   \n",
       "2         0.0   0.0   0.0   0.0   0.0   0.0   0.0   0.0   0.0   0.0  ...   \n",
       "3         0.0   0.0   0.0   0.0   0.0   0.0   0.0   0.0   0.0   0.0  ...   \n",
       "4         0.0   0.0   0.0   0.0   0.0   0.0   0.0   0.0   0.0   0.0  ...   \n",
       "5         0.0   0.0   0.0   2.0   0.0   0.0   0.0   3.0   0.0   0.0  ...   \n",
       "...       ...   ...   ...   ...   ...   ...   ...   ...   ...   ...  ...   \n",
       "6036      0.0   0.0   0.0   3.0   0.0   0.0   3.0   3.0   4.0   0.0  ...   \n",
       "6037      0.0   0.0   0.0   0.0   0.0   0.0   0.0   0.0   4.0   0.0  ...   \n",
       "6038      0.0   0.0   0.0   0.0   0.0   0.0   0.0   0.0   0.0   0.0  ...   \n",
       "6039      0.0   0.0   0.0   0.0   0.0   0.0   0.0   0.0   0.0   0.0  ...   \n",
       "6040      3.0   0.0   0.0   0.0   0.0   0.0   0.0   0.0   3.0   0.0  ...   \n",
       "\n",
       "MovieID  3863  3868  3869  3893  3897  3911  3916  3927  3948  3952  \n",
       "UserID                                                               \n",
       "1         0.0   0.0   0.0   0.0   0.0   0.0   0.0   0.0   0.0   0.0  \n",
       "2         0.0   0.0   0.0   1.0   0.0   0.0   0.0   0.0   0.0   0.0  \n",
       "3         0.0   3.0   0.0   0.0   0.0   0.0   0.0   0.0   0.0   0.0  \n",
       "4         0.0   0.0   0.0   0.0   0.0   0.0   0.0   0.0   0.0   0.0  \n",
       "5         0.0   0.0   0.0   0.0   0.0   0.0   0.0   0.0   0.0   0.0  \n",
       "...       ...   ...   ...   ...   ...   ...   ...   ...   ...   ...  \n",
       "6036      0.0   0.0   0.0   0.0   0.0   0.0   0.0   0.0   0.0   0.0  \n",
       "6037      0.0   0.0   0.0   0.0   0.0   0.0   0.0   0.0   0.0   0.0  \n",
       "6038      0.0   0.0   0.0   0.0   0.0   0.0   0.0   0.0   0.0   0.0  \n",
       "6039      0.0   0.0   0.0   0.0   0.0   0.0   0.0   0.0   0.0   0.0  \n",
       "6040      0.0   0.0   0.0   0.0   0.0   0.0   0.0   0.0   0.0   0.0  \n",
       "\n",
       "[6040 rows x 1000 columns]"
      ]
     },
     "execution_count": 97,
     "metadata": {},
     "output_type": "execute_result"
    }
   ],
   "source": [
    "interaction=ratings.pivot_table(values='Rating',index='UserID',columns='MovieID').fillna(0)\n",
    "interaction"
   ]
  },
  {
   "cell_type": "markdown",
   "id": "db23c99c",
   "metadata": {},
   "source": [
    "The above is an interaction matrix and it can be noted that it is highly sparse. This is because its obvious that we will not have an user in the system who would have watched every movie available in the OTT platform."
   ]
  },
  {
   "cell_type": "markdown",
   "id": "7e95fc0a",
   "metadata": {},
   "source": [
    "Because of this Sparsity, we will not be able to directly recommend the movies using this interaction matrix."
   ]
  },
  {
   "cell_type": "markdown",
   "id": "bca7bc64",
   "metadata": {},
   "source": [
    "To overcome this, we should perform the Matrix Factorization."
   ]
  },
  {
   "cell_type": "markdown",
   "id": "ddf54641",
   "metadata": {},
   "source": [
    "**We have Collective Matrix Factorization for Recommender System** package available as open source which can be used to build Matrix factorization based Recommender systems. This was initially developed for Netflix Price Problem and later it was kept as open source!."
   ]
  },
  {
   "cell_type": "code",
   "execution_count": 98,
   "id": "9eeda0f7",
   "metadata": {},
   "outputs": [],
   "source": [
    "from cmfrec import CMF     #CMF module from cmfrec library is used to generate the Collective Matrix Factorization algorithm to get the A and B matrices."
   ]
  },
  {
   "cell_type": "code",
   "execution_count": 99,
   "id": "e36a1aa8",
   "metadata": {},
   "outputs": [
    {
     "data": {
      "text/html": [
       "<div>\n",
       "<style scoped>\n",
       "    .dataframe tbody tr th:only-of-type {\n",
       "        vertical-align: middle;\n",
       "    }\n",
       "\n",
       "    .dataframe tbody tr th {\n",
       "        vertical-align: top;\n",
       "    }\n",
       "\n",
       "    .dataframe thead th {\n",
       "        text-align: right;\n",
       "    }\n",
       "</style>\n",
       "<table border=\"1\" class=\"dataframe\">\n",
       "  <thead>\n",
       "    <tr style=\"text-align: right;\">\n",
       "      <th></th>\n",
       "      <th>UserId</th>\n",
       "      <th>ItemId</th>\n",
       "      <th>Rating</th>\n",
       "    </tr>\n",
       "  </thead>\n",
       "  <tbody>\n",
       "    <tr>\n",
       "      <th>0</th>\n",
       "      <td>1</td>\n",
       "      <td>1193</td>\n",
       "      <td>5</td>\n",
       "    </tr>\n",
       "    <tr>\n",
       "      <th>4</th>\n",
       "      <td>1</td>\n",
       "      <td>2355</td>\n",
       "      <td>5</td>\n",
       "    </tr>\n",
       "    <tr>\n",
       "      <th>6</th>\n",
       "      <td>1</td>\n",
       "      <td>1287</td>\n",
       "      <td>5</td>\n",
       "    </tr>\n",
       "    <tr>\n",
       "      <th>7</th>\n",
       "      <td>1</td>\n",
       "      <td>2804</td>\n",
       "      <td>5</td>\n",
       "    </tr>\n",
       "    <tr>\n",
       "      <th>10</th>\n",
       "      <td>1</td>\n",
       "      <td>595</td>\n",
       "      <td>5</td>\n",
       "    </tr>\n",
       "  </tbody>\n",
       "</table>\n",
       "</div>"
      ],
      "text/plain": [
       "    UserId  ItemId  Rating\n",
       "0        1    1193       5\n",
       "4        1    2355       5\n",
       "6        1    1287       5\n",
       "7        1    2804       5\n",
       "10       1     595       5"
      ]
     },
     "execution_count": 99,
     "metadata": {},
     "output_type": "execute_result"
    }
   ],
   "source": [
    "mf_ratings=ratings[['UserID','MovieID','Rating']].copy()\n",
    "mf_ratings.columns=['UserId','ItemId','Rating']\n",
    "mf_ratings.head()"
   ]
  },
  {
   "cell_type": "markdown",
   "id": "e1180c6a",
   "metadata": {},
   "source": [
    "The Value of Un-interpretable dimensions to be considered for Matrix Factorization is 4."
   ]
  },
  {
   "cell_type": "code",
   "execution_count": 100,
   "id": "901b9039",
   "metadata": {},
   "outputs": [
    {
     "data": {
      "text/plain": [
       "Collective matrix factorization model\n",
       "(explicit-feedback variant)\n"
      ]
     },
     "execution_count": 100,
     "metadata": {},
     "output_type": "execute_result"
    }
   ],
   "source": [
    "dimensions=4\n",
    "model=CMF(k=dimensions,lambda_=0.01,method='als',user_bias=False,item_bias=False,verbose=False)\n",
    "model.fit(mf_ratings)"
   ]
  },
  {
   "cell_type": "markdown",
   "id": "3f17fc1f",
   "metadata": {},
   "source": [
    "The Factorized matrix A and B for the Ratings matrix"
   ]
  },
  {
   "cell_type": "code",
   "execution_count": 101,
   "id": "1c00144b",
   "metadata": {},
   "outputs": [
    {
     "data": {
      "text/plain": [
       "array([[-0.06893215, -0.02060567, -0.02475843,  0.04249249],\n",
       "       [ 0.01314655,  0.0083998 , -0.17972393,  0.02527723],\n",
       "       [-0.06068762, -0.01212709, -0.07045514, -0.00797077],\n",
       "       ...,\n",
       "       [ 0.12169748,  0.01992569, -0.14384876,  0.0591489 ],\n",
       "       [ 0.023429  , -0.0283812 , -0.09700353, -0.0035194 ],\n",
       "       [ 0.09919889, -0.05448395, -0.03944656, -0.10031328]],\n",
       "      dtype=float32)"
      ]
     },
     "execution_count": 101,
     "metadata": {},
     "output_type": "execute_result"
    }
   ],
   "source": [
    "model.A_    #The A matrix"
   ]
  },
  {
   "cell_type": "code",
   "execution_count": 102,
   "id": "6726373b",
   "metadata": {},
   "outputs": [
    {
     "data": {
      "text/plain": [
       "array([[  0.9753785 , -11.32347   ,  -3.6423392 ,   0.93188727],\n",
       "       [ -1.905294  ,  -3.611689  ,  -0.8051432 ,   5.6054335 ],\n",
       "       [ -6.452924  ,  -7.512701  ,  -4.1347766 ,   3.2180989 ],\n",
       "       ...,\n",
       "       [ -3.5962203 ,   8.311478  ,   2.826594  ,  11.258204  ],\n",
       "       [ -4.3814716 ,  -2.172471  ,   4.6980863 ,   4.0639205 ],\n",
       "       [  8.572248  ,  -5.972288  ,   2.6777453 ,   3.8398714 ]],\n",
       "      dtype=float32)"
      ]
     },
     "execution_count": 102,
     "metadata": {},
     "output_type": "execute_result"
    }
   ],
   "source": [
    "model.B_    #The B matrix"
   ]
  },
  {
   "cell_type": "code",
   "execution_count": 103,
   "id": "5605890c",
   "metadata": {},
   "outputs": [
    {
     "name": "stdout",
     "output_type": "stream",
     "text": [
      "(6040, 4) (1000, 4)\n"
     ]
    }
   ],
   "source": [
    "print(model.A_.shape,model.B_.shape)"
   ]
  },
  {
   "cell_type": "markdown",
   "id": "114c3c48",
   "metadata": {},
   "source": [
    "Performing Matrix completion using the A and B matrix"
   ]
  },
  {
   "cell_type": "markdown",
   "id": "ddeea218",
   "metadata": {},
   "source": [
    "Here while calculating the dot product of A and B matrix, we will get the completed matrix which might have negative values in some of its cells. To correct this as per the formulation we have to add **Mu** (Constant) to the dot product."
   ]
  },
  {
   "cell_type": "code",
   "execution_count": 104,
   "id": "166aef75",
   "metadata": {},
   "outputs": [
    {
     "name": "stdout",
     "output_type": "stream",
     "text": [
      "[[ 0.2958696   0.4638802   0.83873373 ...  0.4850387   0.40315834\n",
      "  -0.37097156]\n",
      " [ 0.595879    0.23100781  0.67652404 ... -0.20089355 -0.8174834\n",
      "  -0.32166412]\n",
      " [ 0.32732105  0.17147388  0.7483853  ... -0.17143272 -0.07115011\n",
      "  -0.6670705 ]\n",
      " ...\n",
      " [ 0.47213927  0.14353919 -0.1498708  ... -0.01273077 -1.0119395\n",
      "   0.76615286]\n",
      " [ 0.6942659   0.11623893  0.4517961  ... -0.6339573  -0.51102966\n",
      "   0.09707511]\n",
      " [ 0.76390094 -0.52276325 -0.39051655 ... -2.05043    -0.9092608\n",
      "   0.6849333 ]]\n"
     ]
    }
   ],
   "source": [
    "completed_mat = np.dot(model.A_,model.B_.T)\n",
    "print(completed_mat)"
   ]
  },
  {
   "cell_type": "markdown",
   "id": "6b486977",
   "metadata": {},
   "source": [
    "Adding the **Mu** :::: Here in our case the constant that we have to add is the global mean of the overall completed matrix. We will get it from one of the attributes of the model."
   ]
  },
  {
   "cell_type": "code",
   "execution_count": 105,
   "id": "efabd605",
   "metadata": {},
   "outputs": [
    {
     "name": "stdout",
     "output_type": "stream",
     "text": [
      "3.7055768966674805\n"
     ]
    }
   ],
   "source": [
    "constant=model.glob_mean_\n",
    "print(constant)"
   ]
  },
  {
   "cell_type": "code",
   "execution_count": 106,
   "id": "0cfaf5e7",
   "metadata": {},
   "outputs": [
    {
     "data": {
      "text/plain": [
       "array([[4.0014467, 4.169457 , 4.5443106, ..., 4.1906157, 4.108735 ,\n",
       "        3.3346052],\n",
       "       [4.301456 , 3.9365847, 4.382101 , ..., 3.5046833, 2.8880935,\n",
       "        3.3839128],\n",
       "       [4.032898 , 3.8770509, 4.4539623, ..., 3.5341442, 3.6344268,\n",
       "        3.0385065],\n",
       "       ...,\n",
       "       [4.1777163, 3.849116 , 3.555706 , ..., 3.692846 , 2.6936374,\n",
       "        4.4717298],\n",
       "       [4.3998427, 3.8218157, 4.157373 , ..., 3.0716195, 3.1945472,\n",
       "        3.8026521],\n",
       "       [4.4694777, 3.1828136, 3.3150604, ..., 1.6551468, 2.7963161,\n",
       "        4.39051  ]], dtype=float32)"
      ]
     },
     "execution_count": 106,
     "metadata": {},
     "output_type": "execute_result"
    }
   ],
   "source": [
    "completed_mat+=constant\n",
    "completed_mat"
   ]
  },
  {
   "cell_type": "code",
   "execution_count": 107,
   "id": "115326ea",
   "metadata": {},
   "outputs": [
    {
     "data": {
      "text/plain": [
       "(6040, 1000)"
      ]
     },
     "execution_count": 107,
     "metadata": {},
     "output_type": "execute_result"
    }
   ],
   "source": [
    "completed_mat.shape    #Shape of the completed interaction matrix"
   ]
  },
  {
   "cell_type": "markdown",
   "id": "c21c1553",
   "metadata": {},
   "source": [
    "Converting the interaction matrix into DataFrame with appropriate index and columns."
   ]
  },
  {
   "cell_type": "code",
   "execution_count": 108,
   "id": "69294587",
   "metadata": {},
   "outputs": [
    {
     "data": {
      "text/html": [
       "<div>\n",
       "<style scoped>\n",
       "    .dataframe tbody tr th:only-of-type {\n",
       "        vertical-align: middle;\n",
       "    }\n",
       "\n",
       "    .dataframe tbody tr th {\n",
       "        vertical-align: top;\n",
       "    }\n",
       "\n",
       "    .dataframe thead th {\n",
       "        text-align: right;\n",
       "    }\n",
       "</style>\n",
       "<table border=\"1\" class=\"dataframe\">\n",
       "  <thead>\n",
       "    <tr style=\"text-align: right;\">\n",
       "      <th>MovieID</th>\n",
       "      <th>1</th>\n",
       "      <th>2</th>\n",
       "      <th>3</th>\n",
       "      <th>6</th>\n",
       "      <th>7</th>\n",
       "      <th>10</th>\n",
       "      <th>11</th>\n",
       "      <th>16</th>\n",
       "      <th>17</th>\n",
       "      <th>19</th>\n",
       "      <th>...</th>\n",
       "      <th>3863</th>\n",
       "      <th>3868</th>\n",
       "      <th>3869</th>\n",
       "      <th>3893</th>\n",
       "      <th>3897</th>\n",
       "      <th>3911</th>\n",
       "      <th>3916</th>\n",
       "      <th>3927</th>\n",
       "      <th>3948</th>\n",
       "      <th>3952</th>\n",
       "    </tr>\n",
       "    <tr>\n",
       "      <th>UserID</th>\n",
       "      <th></th>\n",
       "      <th></th>\n",
       "      <th></th>\n",
       "      <th></th>\n",
       "      <th></th>\n",
       "      <th></th>\n",
       "      <th></th>\n",
       "      <th></th>\n",
       "      <th></th>\n",
       "      <th></th>\n",
       "      <th></th>\n",
       "      <th></th>\n",
       "      <th></th>\n",
       "      <th></th>\n",
       "      <th></th>\n",
       "      <th></th>\n",
       "      <th></th>\n",
       "      <th></th>\n",
       "      <th></th>\n",
       "      <th></th>\n",
       "      <th></th>\n",
       "    </tr>\n",
       "  </thead>\n",
       "  <tbody>\n",
       "    <tr>\n",
       "      <th>1</th>\n",
       "      <td>4.001447</td>\n",
       "      <td>4.169457</td>\n",
       "      <td>4.544311</td>\n",
       "      <td>4.198262</td>\n",
       "      <td>4.395609</td>\n",
       "      <td>4.240242</td>\n",
       "      <td>4.180369</td>\n",
       "      <td>4.538366</td>\n",
       "      <td>4.293055</td>\n",
       "      <td>3.949179</td>\n",
       "      <td>...</td>\n",
       "      <td>3.921927</td>\n",
       "      <td>4.416845</td>\n",
       "      <td>3.709796</td>\n",
       "      <td>3.513360</td>\n",
       "      <td>4.138933</td>\n",
       "      <td>4.360494</td>\n",
       "      <td>3.608500</td>\n",
       "      <td>4.190616</td>\n",
       "      <td>4.108735</td>\n",
       "      <td>3.334605</td>\n",
       "    </tr>\n",
       "    <tr>\n",
       "      <th>2</th>\n",
       "      <td>4.301456</td>\n",
       "      <td>3.936585</td>\n",
       "      <td>4.382101</td>\n",
       "      <td>4.189496</td>\n",
       "      <td>4.509472</td>\n",
       "      <td>4.921447</td>\n",
       "      <td>4.245500</td>\n",
       "      <td>4.300561</td>\n",
       "      <td>5.092202</td>\n",
       "      <td>3.029780</td>\n",
       "      <td>...</td>\n",
       "      <td>3.253639</td>\n",
       "      <td>3.773158</td>\n",
       "      <td>3.673185</td>\n",
       "      <td>0.707116</td>\n",
       "      <td>2.551739</td>\n",
       "      <td>3.878682</td>\n",
       "      <td>3.700516</td>\n",
       "      <td>3.504683</td>\n",
       "      <td>2.888093</td>\n",
       "      <td>3.383913</td>\n",
       "    </tr>\n",
       "    <tr>\n",
       "      <th>3</th>\n",
       "      <td>4.032898</td>\n",
       "      <td>3.877051</td>\n",
       "      <td>4.453962</td>\n",
       "      <td>4.156075</td>\n",
       "      <td>4.044670</td>\n",
       "      <td>3.986972</td>\n",
       "      <td>3.872557</td>\n",
       "      <td>4.363399</td>\n",
       "      <td>4.426081</td>\n",
       "      <td>3.163996</td>\n",
       "      <td>...</td>\n",
       "      <td>3.368329</td>\n",
       "      <td>3.806269</td>\n",
       "      <td>3.235898</td>\n",
       "      <td>2.488642</td>\n",
       "      <td>3.707405</td>\n",
       "      <td>3.795452</td>\n",
       "      <td>3.221480</td>\n",
       "      <td>3.534144</td>\n",
       "      <td>3.634427</td>\n",
       "      <td>3.038507</td>\n",
       "    </tr>\n",
       "    <tr>\n",
       "      <th>4</th>\n",
       "      <td>5.374218</td>\n",
       "      <td>3.937351</td>\n",
       "      <td>4.235827</td>\n",
       "      <td>4.797273</td>\n",
       "      <td>3.911104</td>\n",
       "      <td>3.951325</td>\n",
       "      <td>3.838003</td>\n",
       "      <td>3.832199</td>\n",
       "      <td>5.263407</td>\n",
       "      <td>1.708005</td>\n",
       "      <td>...</td>\n",
       "      <td>2.553489</td>\n",
       "      <td>2.147213</td>\n",
       "      <td>3.858084</td>\n",
       "      <td>0.413889</td>\n",
       "      <td>3.016861</td>\n",
       "      <td>1.667876</td>\n",
       "      <td>4.632011</td>\n",
       "      <td>2.006361</td>\n",
       "      <td>3.359379</td>\n",
       "      <td>5.017273</td>\n",
       "    </tr>\n",
       "    <tr>\n",
       "      <th>5</th>\n",
       "      <td>4.132083</td>\n",
       "      <td>2.843244</td>\n",
       "      <td>2.833678</td>\n",
       "      <td>3.597667</td>\n",
       "      <td>2.234107</td>\n",
       "      <td>2.312489</td>\n",
       "      <td>2.578830</td>\n",
       "      <td>2.510734</td>\n",
       "      <td>3.586024</td>\n",
       "      <td>1.411921</td>\n",
       "      <td>...</td>\n",
       "      <td>2.183787</td>\n",
       "      <td>1.195246</td>\n",
       "      <td>2.971735</td>\n",
       "      <td>1.904354</td>\n",
       "      <td>2.889154</td>\n",
       "      <td>0.991543</td>\n",
       "      <td>3.615219</td>\n",
       "      <td>1.356428</td>\n",
       "      <td>2.837543</td>\n",
       "      <td>4.372353</td>\n",
       "    </tr>\n",
       "  </tbody>\n",
       "</table>\n",
       "<p>5 rows × 1000 columns</p>\n",
       "</div>"
      ],
      "text/plain": [
       "MovieID      1         2         3         6         7         10        11    \\\n",
       "UserID                                                                          \n",
       "1        4.001447  4.169457  4.544311  4.198262  4.395609  4.240242  4.180369   \n",
       "2        4.301456  3.936585  4.382101  4.189496  4.509472  4.921447  4.245500   \n",
       "3        4.032898  3.877051  4.453962  4.156075  4.044670  3.986972  3.872557   \n",
       "4        5.374218  3.937351  4.235827  4.797273  3.911104  3.951325  3.838003   \n",
       "5        4.132083  2.843244  2.833678  3.597667  2.234107  2.312489  2.578830   \n",
       "\n",
       "MovieID      16        17        19    ...      3863      3868      3869  \\\n",
       "UserID                                 ...                                 \n",
       "1        4.538366  4.293055  3.949179  ...  3.921927  4.416845  3.709796   \n",
       "2        4.300561  5.092202  3.029780  ...  3.253639  3.773158  3.673185   \n",
       "3        4.363399  4.426081  3.163996  ...  3.368329  3.806269  3.235898   \n",
       "4        3.832199  5.263407  1.708005  ...  2.553489  2.147213  3.858084   \n",
       "5        2.510734  3.586024  1.411921  ...  2.183787  1.195246  2.971735   \n",
       "\n",
       "MovieID      3893      3897      3911      3916      3927      3948      3952  \n",
       "UserID                                                                         \n",
       "1        3.513360  4.138933  4.360494  3.608500  4.190616  4.108735  3.334605  \n",
       "2        0.707116  2.551739  3.878682  3.700516  3.504683  2.888093  3.383913  \n",
       "3        2.488642  3.707405  3.795452  3.221480  3.534144  3.634427  3.038507  \n",
       "4        0.413889  3.016861  1.667876  4.632011  2.006361  3.359379  5.017273  \n",
       "5        1.904354  2.889154  0.991543  3.615219  1.356428  2.837543  4.372353  \n",
       "\n",
       "[5 rows x 1000 columns]"
      ]
     },
     "execution_count": 108,
     "metadata": {},
     "output_type": "execute_result"
    }
   ],
   "source": [
    "interaction_cmplt=pd.DataFrame(completed_mat,index=interaction.index,columns=interaction.columns)\n",
    "interaction_cmplt.head()"
   ]
  },
  {
   "cell_type": "code",
   "execution_count": 109,
   "id": "bacae93d",
   "metadata": {},
   "outputs": [],
   "source": [
    "def show_matrx_fact_rec():\n",
    "    result=[]\n",
    "    userId=int(input(\"Please enter your user ID !...\"))\n",
    "    num_recommendations=int(input(\"Please enter the number of recommendations to be provided!...\"))\n",
    "    movies_rated = interaction_cmplt.loc[userId].sort_values(ascending=False).index.to_list()[:num_recommendations]\n",
    "    for movie in movies_rated:\n",
    "        result.append(orig_movies.loc[orig_movies['Movie ID']==movie]['Title'].values[:1][-1])\n",
    "    print()\n",
    "    printMovies(result)    "
   ]
  },
  {
   "cell_type": "code",
   "execution_count": 132,
   "id": "fd10b764",
   "metadata": {},
   "outputs": [
    {
     "name": "stdout",
     "output_type": "stream",
     "text": [
      "Please enter your user ID !...10\n",
      "Please enter the number of recommendations to be provided!...10\n",
      "\n",
      "********** The Recommended Movies **********\n",
      "GoldenEye (1995)\n",
      "No Way Out (1987)\n",
      "Red Violin, The (Le Violon rouge) (1998)\n",
      "Get Shorty (1995)\n",
      "Apostle, The (1997)\n",
      "Amadeus (1984)\n",
      "Legends of the Fall (1994)\n",
      "Sabrina (1995)\n",
      "Cop Land (1997)\n",
      "City of Lost Children, The (1995)\n",
      "********************\n"
     ]
    }
   ],
   "source": [
    "show_matrx_fact_rec()"
   ]
  },
  {
   "cell_type": "markdown",
   "id": "9ba8f812",
   "metadata": {},
   "source": [
    "###### Model Evaluation using RMSE and MAE"
   ]
  },
  {
   "cell_type": "code",
   "execution_count": 111,
   "id": "059cc38b",
   "metadata": {},
   "outputs": [],
   "source": [
    "from sklearn.metrics import (mean_squared_error as mse, mean_absolute_error as mae)"
   ]
  },
  {
   "cell_type": "code",
   "execution_count": 112,
   "id": "1bbffd84",
   "metadata": {},
   "outputs": [],
   "source": [
    "#For d=4\n",
    "def printMetrics():\n",
    "    rmse_val=mse(interaction.values[interaction>0],interaction_cmplt.values[interaction>0])**(0.5)\n",
    "    mae_val=mae(interaction.values[interaction>0],interaction_cmplt.values[interaction>0])**(0.5)\n",
    "    print('*'*40)\n",
    "    print(f'The RMSE value is {rmse_val}')\n",
    "    print(f'The MAE value is {mae_val}')\n",
    "    print('*'*40)"
   ]
  },
  {
   "cell_type": "code",
   "execution_count": 113,
   "id": "725ffc11",
   "metadata": {},
   "outputs": [
    {
     "name": "stdout",
     "output_type": "stream",
     "text": [
      "****************************************\n",
      "The RMSE value is 1.1939955311815287\n",
      "The MAE value is 0.9735870214564843\n",
      "****************************************\n"
     ]
    }
   ],
   "source": [
    "printMetrics()"
   ]
  },
  {
   "cell_type": "markdown",
   "id": "3b55a7c5",
   "metadata": {},
   "source": [
    "While we increase the number of dimensions in the embeddings matrix, the RMSE value will decrease eventually."
   ]
  },
  {
   "cell_type": "code",
   "execution_count": 114,
   "id": "0ad73bb0",
   "metadata": {},
   "outputs": [],
   "source": [
    "rmse_values=[]\n",
    "for k in range(1,11):\n",
    "    model=CMF(k=k,lambda_=0.01,method='als',user_bias=False,item_bias=False,verbose=False)\n",
    "    model.fit(mf_ratings)\n",
    "    temp_cmplt=pd.DataFrame((np.dot(model.A_,model.B_.T)+model.glob_mean_),index=interaction.index,columns=interaction.columns)\n",
    "    rmse_values.append(mse(interaction.values[interaction>0],temp_cmplt.values[interaction>0])**0.5)"
   ]
  },
  {
   "cell_type": "code",
   "execution_count": 115,
   "id": "5d95b4db",
   "metadata": {},
   "outputs": [
    {
     "data": {
      "image/png": "[encoded data removed]",
      "text/plain": [
       "<Figure size 640x480 with 1 Axes>"
      ]
     },
     "metadata": {},
     "output_type": "display_data"
    }
   ],
   "source": [
    "plt.plot(range(1,11),rmse_values,color='blue')\n",
    "plt.show()"
   ]
  },
  {
   "cell_type": "markdown",
   "id": "9e04c95c",
   "metadata": {},
   "source": [
    "From the above it can be seen that the RMSE values are the least when the dimensions of unknown features in the embeddings matrix is considered as 2."
   ]
  },
  {
   "cell_type": "markdown",
   "id": "57649f23",
   "metadata": {},
   "source": [
    "##### Re-designing the Similarity based recommendation systems with the Matrix Factorization Embeddings."
   ]
  },
  {
   "cell_type": "markdown",
   "id": "e39e9fbe",
   "metadata": {},
   "source": [
    "By Performing the Matrix factorization we got the embedding matrices of both the users and the movies. Now we will use this embeddings matrix to build the item-item and user-user similarity matrix"
   ]
  },
  {
   "cell_type": "markdown",
   "id": "08205273",
   "metadata": {},
   "source": [
    "***Item-Item similarity***"
   ]
  },
  {
   "cell_type": "code",
   "execution_count": 116,
   "id": "be49a321",
   "metadata": {},
   "outputs": [
    {
     "data": {
      "text/html": [
       "<div>\n",
       "<style scoped>\n",
       "    .dataframe tbody tr th:only-of-type {\n",
       "        vertical-align: middle;\n",
       "    }\n",
       "\n",
       "    .dataframe tbody tr th {\n",
       "        vertical-align: top;\n",
       "    }\n",
       "\n",
       "    .dataframe thead th {\n",
       "        text-align: right;\n",
       "    }\n",
       "</style>\n",
       "<table border=\"1\" class=\"dataframe\">\n",
       "  <thead>\n",
       "    <tr style=\"text-align: right;\">\n",
       "      <th></th>\n",
       "      <th>QueryMovie</th>\n",
       "      <th>CandidateMovie</th>\n",
       "      <th>Correlation</th>\n",
       "      <th>QueryMovieTitle</th>\n",
       "      <th>CandidateMovieTitle</th>\n",
       "    </tr>\n",
       "  </thead>\n",
       "  <tbody>\n",
       "    <tr>\n",
       "      <th>575</th>\n",
       "      <td>1</td>\n",
       "      <td>2141</td>\n",
       "      <td>1.000000</td>\n",
       "      <td>Toy Story (1995)</td>\n",
       "      <td>American Tail, An (1986)</td>\n",
       "    </tr>\n",
       "    <tr>\n",
       "      <th>621</th>\n",
       "      <td>1</td>\n",
       "      <td>2355</td>\n",
       "      <td>1.000000</td>\n",
       "      <td>Toy Story (1995)</td>\n",
       "      <td>Bug's Life, A (1998)</td>\n",
       "    </tr>\n",
       "    <tr>\n",
       "      <th>829</th>\n",
       "      <td>1</td>\n",
       "      <td>3114</td>\n",
       "      <td>1.000000</td>\n",
       "      <td>Toy Story (1995)</td>\n",
       "      <td>Toy Story 2 (1999)</td>\n",
       "    </tr>\n",
       "    <tr>\n",
       "      <th>973</th>\n",
       "      <td>1</td>\n",
       "      <td>3751</td>\n",
       "      <td>1.000000</td>\n",
       "      <td>Toy Story (1995)</td>\n",
       "      <td>Chicken Run (2000)</td>\n",
       "    </tr>\n",
       "    <tr>\n",
       "      <th>149</th>\n",
       "      <td>1</td>\n",
       "      <td>588</td>\n",
       "      <td>0.838525</td>\n",
       "      <td>Toy Story (1995)</td>\n",
       "      <td>Aladdin (1992)</td>\n",
       "    </tr>\n",
       "  </tbody>\n",
       "</table>\n",
       "</div>"
      ],
      "text/plain": [
       "     QueryMovie  CandidateMovie  Correlation   QueryMovieTitle  \\\n",
       "575           1            2141     1.000000  Toy Story (1995)   \n",
       "621           1            2355     1.000000  Toy Story (1995)   \n",
       "829           1            3114     1.000000  Toy Story (1995)   \n",
       "973           1            3751     1.000000  Toy Story (1995)   \n",
       "149           1             588     0.838525  Toy Story (1995)   \n",
       "\n",
       "          CandidateMovieTitle  \n",
       "575  American Tail, An (1986)  \n",
       "621      Bug's Life, A (1998)  \n",
       "829        Toy Story 2 (1999)  \n",
       "973        Chicken Run (2000)  \n",
       "149            Aladdin (1992)  "
      ]
     },
     "execution_count": 116,
     "metadata": {},
     "output_type": "execute_result"
    }
   ],
   "source": [
    "rankings.head()"
   ]
  },
  {
   "cell_type": "markdown",
   "id": "095c37f9",
   "metadata": {},
   "source": [
    "We used the Movies dataframe to find the find the pearson correlation and store in the rankings matrix. Instead of using the Movies dataframe we will be using the Embeddings matrix"
   ]
  },
  {
   "cell_type": "code",
   "execution_count": 117,
   "id": "3da1e713",
   "metadata": {},
   "outputs": [
    {
     "data": {
      "text/html": [
       "<div>\n",
       "<style scoped>\n",
       "    .dataframe tbody tr th:only-of-type {\n",
       "        vertical-align: middle;\n",
       "    }\n",
       "\n",
       "    .dataframe tbody tr th {\n",
       "        vertical-align: top;\n",
       "    }\n",
       "\n",
       "    .dataframe thead th {\n",
       "        text-align: right;\n",
       "    }\n",
       "</style>\n",
       "<table border=\"1\" class=\"dataframe\">\n",
       "  <thead>\n",
       "    <tr style=\"text-align: right;\">\n",
       "      <th></th>\n",
       "      <th>0</th>\n",
       "      <th>1</th>\n",
       "      <th>2</th>\n",
       "      <th>3</th>\n",
       "      <th>4</th>\n",
       "      <th>5</th>\n",
       "      <th>6</th>\n",
       "      <th>7</th>\n",
       "      <th>8</th>\n",
       "      <th>9</th>\n",
       "    </tr>\n",
       "  </thead>\n",
       "  <tbody>\n",
       "    <tr>\n",
       "      <th>1</th>\n",
       "      <td>-4.117793</td>\n",
       "      <td>0.744495</td>\n",
       "      <td>-5.741961</td>\n",
       "      <td>-1.653255</td>\n",
       "      <td>4.114295</td>\n",
       "      <td>-2.004528</td>\n",
       "      <td>-5.843455</td>\n",
       "      <td>-0.939762</td>\n",
       "      <td>-4.992299</td>\n",
       "      <td>2.156591</td>\n",
       "    </tr>\n",
       "    <tr>\n",
       "      <th>2</th>\n",
       "      <td>-0.487693</td>\n",
       "      <td>-1.944294</td>\n",
       "      <td>1.482367</td>\n",
       "      <td>-3.506288</td>\n",
       "      <td>-1.346285</td>\n",
       "      <td>0.446337</td>\n",
       "      <td>-2.309934</td>\n",
       "      <td>-6.346354</td>\n",
       "      <td>-0.384594</td>\n",
       "      <td>5.116044</td>\n",
       "    </tr>\n",
       "    <tr>\n",
       "      <th>3</th>\n",
       "      <td>-2.060716</td>\n",
       "      <td>1.377500</td>\n",
       "      <td>0.350125</td>\n",
       "      <td>-7.396082</td>\n",
       "      <td>2.099421</td>\n",
       "      <td>-2.958985</td>\n",
       "      <td>-2.206293</td>\n",
       "      <td>2.910439</td>\n",
       "      <td>-5.239513</td>\n",
       "      <td>3.840015</td>\n",
       "    </tr>\n",
       "    <tr>\n",
       "      <th>6</th>\n",
       "      <td>-1.828444</td>\n",
       "      <td>0.648382</td>\n",
       "      <td>-1.831684</td>\n",
       "      <td>-2.647476</td>\n",
       "      <td>2.726073</td>\n",
       "      <td>-2.391526</td>\n",
       "      <td>-5.962579</td>\n",
       "      <td>-0.423515</td>\n",
       "      <td>-3.359165</td>\n",
       "      <td>4.872775</td>\n",
       "    </tr>\n",
       "    <tr>\n",
       "      <th>7</th>\n",
       "      <td>-4.269927</td>\n",
       "      <td>0.950980</td>\n",
       "      <td>3.567343</td>\n",
       "      <td>-4.180803</td>\n",
       "      <td>-3.487750</td>\n",
       "      <td>-0.707601</td>\n",
       "      <td>1.874718</td>\n",
       "      <td>-10.563290</td>\n",
       "      <td>-4.548532</td>\n",
       "      <td>7.150586</td>\n",
       "    </tr>\n",
       "  </tbody>\n",
       "</table>\n",
       "</div>"
      ],
      "text/plain": [
       "          0         1         2         3         4         5         6  \\\n",
       "1 -4.117793  0.744495 -5.741961 -1.653255  4.114295 -2.004528 -5.843455   \n",
       "2 -0.487693 -1.944294  1.482367 -3.506288 -1.346285  0.446337 -2.309934   \n",
       "3 -2.060716  1.377500  0.350125 -7.396082  2.099421 -2.958985 -2.206293   \n",
       "6 -1.828444  0.648382 -1.831684 -2.647476  2.726073 -2.391526 -5.962579   \n",
       "7 -4.269927  0.950980  3.567343 -4.180803 -3.487750 -0.707601  1.874718   \n",
       "\n",
       "           7         8         9  \n",
       "1  -0.939762 -4.992299  2.156591  \n",
       "2  -6.346354 -0.384594  5.116044  \n",
       "3   2.910439 -5.239513  3.840015  \n",
       "6  -0.423515 -3.359165  4.872775  \n",
       "7 -10.563290 -4.548532  7.150586  "
      ]
     },
     "execution_count": 117,
     "metadata": {},
     "output_type": "execute_result"
    }
   ],
   "source": [
    "item_embeddings = pd.DataFrame(model.B_,index=sorted(popular_movies))\n",
    "item_embeddings.head()"
   ]
  },
  {
   "cell_type": "code",
   "execution_count": 118,
   "id": "0818c27e",
   "metadata": {},
   "outputs": [
    {
     "data": {
      "text/html": [
       "<div>\n",
       "<style scoped>\n",
       "    .dataframe tbody tr th:only-of-type {\n",
       "        vertical-align: middle;\n",
       "    }\n",
       "\n",
       "    .dataframe tbody tr th {\n",
       "        vertical-align: top;\n",
       "    }\n",
       "\n",
       "    .dataframe thead th {\n",
       "        text-align: right;\n",
       "    }\n",
       "</style>\n",
       "<table border=\"1\" class=\"dataframe\">\n",
       "  <thead>\n",
       "    <tr style=\"text-align: right;\">\n",
       "      <th></th>\n",
       "      <th>MovieID1</th>\n",
       "      <th>MovieID2</th>\n",
       "      <th>Correlation</th>\n",
       "    </tr>\n",
       "  </thead>\n",
       "  <tbody>\n",
       "    <tr>\n",
       "      <th>0</th>\n",
       "      <td>1</td>\n",
       "      <td>2</td>\n",
       "      <td>0.073037</td>\n",
       "    </tr>\n",
       "    <tr>\n",
       "      <th>1</th>\n",
       "      <td>1</td>\n",
       "      <td>3</td>\n",
       "      <td>0.548341</td>\n",
       "    </tr>\n",
       "    <tr>\n",
       "      <th>2</th>\n",
       "      <td>1</td>\n",
       "      <td>6</td>\n",
       "      <td>0.861655</td>\n",
       "    </tr>\n",
       "    <tr>\n",
       "      <th>3</th>\n",
       "      <td>1</td>\n",
       "      <td>7</td>\n",
       "      <td>0.018734</td>\n",
       "    </tr>\n",
       "    <tr>\n",
       "      <th>4</th>\n",
       "      <td>1</td>\n",
       "      <td>10</td>\n",
       "      <td>0.184098</td>\n",
       "    </tr>\n",
       "  </tbody>\n",
       "</table>\n",
       "</div>"
      ],
      "text/plain": [
       "   MovieID1  MovieID2  Correlation\n",
       "0         1         2     0.073037\n",
       "1         1         3     0.548341\n",
       "2         1         6     0.861655\n",
       "3         1         7     0.018734\n",
       "4         1        10     0.184098"
      ]
     },
     "execution_count": 118,
     "metadata": {},
     "output_type": "execute_result"
    }
   ],
   "source": [
    "item_embed_similarity=[]\n",
    "for index1 in item_embeddings.index:\n",
    "    for index2 in item_embeddings.index:\n",
    "        if index1==index2:\n",
    "            continue\n",
    "        item_embed_similarity.append([index1,index2,findPearson(item_embeddings.loc[index1],item_embeddings.loc[index2])[0]])\n",
    "item_embed_similarity=pd.DataFrame(item_embed_similarity,columns=['MovieID1','MovieID2','Correlation'])\n",
    "item_embed_similarity.head()"
   ]
  },
  {
   "cell_type": "markdown",
   "id": "337b4ada",
   "metadata": {},
   "source": [
    "Finding the Query and Candidate title"
   ]
  },
  {
   "cell_type": "code",
   "execution_count": 119,
   "id": "33f79b66",
   "metadata": {},
   "outputs": [
    {
     "data": {
      "text/html": [
       "<div>\n",
       "<style scoped>\n",
       "    .dataframe tbody tr th:only-of-type {\n",
       "        vertical-align: middle;\n",
       "    }\n",
       "\n",
       "    .dataframe tbody tr th {\n",
       "        vertical-align: top;\n",
       "    }\n",
       "\n",
       "    .dataframe thead th {\n",
       "        text-align: right;\n",
       "    }\n",
       "</style>\n",
       "<table border=\"1\" class=\"dataframe\">\n",
       "  <thead>\n",
       "    <tr style=\"text-align: right;\">\n",
       "      <th></th>\n",
       "      <th>MovieID1</th>\n",
       "      <th>MovieID2</th>\n",
       "      <th>Correlation</th>\n",
       "      <th>MovieID1_Title</th>\n",
       "      <th>MovieID2_Title</th>\n",
       "    </tr>\n",
       "  </thead>\n",
       "  <tbody>\n",
       "    <tr>\n",
       "      <th>0</th>\n",
       "      <td>1</td>\n",
       "      <td>2</td>\n",
       "      <td>0.073037</td>\n",
       "      <td>Toy Story (1995)</td>\n",
       "      <td>Jumanji (1995)</td>\n",
       "    </tr>\n",
       "    <tr>\n",
       "      <th>1</th>\n",
       "      <td>1</td>\n",
       "      <td>3</td>\n",
       "      <td>0.548341</td>\n",
       "      <td>Toy Story (1995)</td>\n",
       "      <td>Grumpier Old Men (1995)</td>\n",
       "    </tr>\n",
       "    <tr>\n",
       "      <th>2</th>\n",
       "      <td>1</td>\n",
       "      <td>6</td>\n",
       "      <td>0.861655</td>\n",
       "      <td>Toy Story (1995)</td>\n",
       "      <td>Heat (1995)</td>\n",
       "    </tr>\n",
       "    <tr>\n",
       "      <th>3</th>\n",
       "      <td>1</td>\n",
       "      <td>7</td>\n",
       "      <td>0.018734</td>\n",
       "      <td>Toy Story (1995)</td>\n",
       "      <td>Sabrina (1995)</td>\n",
       "    </tr>\n",
       "    <tr>\n",
       "      <th>4</th>\n",
       "      <td>1</td>\n",
       "      <td>10</td>\n",
       "      <td>0.184098</td>\n",
       "      <td>Toy Story (1995)</td>\n",
       "      <td>GoldenEye (1995)</td>\n",
       "    </tr>\n",
       "  </tbody>\n",
       "</table>\n",
       "</div>"
      ],
      "text/plain": [
       "   MovieID1  MovieID2  Correlation    MovieID1_Title           MovieID2_Title\n",
       "0         1         2     0.073037  Toy Story (1995)           Jumanji (1995)\n",
       "1         1         3     0.548341  Toy Story (1995)  Grumpier Old Men (1995)\n",
       "2         1         6     0.861655  Toy Story (1995)              Heat (1995)\n",
       "3         1         7     0.018734  Toy Story (1995)           Sabrina (1995)\n",
       "4         1        10     0.184098  Toy Story (1995)         GoldenEye (1995)"
      ]
     },
     "execution_count": 119,
     "metadata": {},
     "output_type": "execute_result"
    }
   ],
   "source": [
    "item_embed_similarity['MovieID1_Title']=item_embed_similarity['MovieID1'].apply(lambda x:orig_movies.loc[orig_movies['Movie ID']==x]['Title'].values[:1][-1])\n",
    "item_embed_similarity['MovieID2_Title']=item_embed_similarity['MovieID2'].apply(lambda x:orig_movies.loc[orig_movies['Movie ID']==x]['Title'].values[:1][-1])\n",
    "item_embed_similarity.head()"
   ]
  },
  {
   "cell_type": "code",
   "execution_count": 120,
   "id": "82eaaac2",
   "metadata": {},
   "outputs": [],
   "source": [
    "item_embed_similarity.sort_values(by=['MovieID1','Correlation'],ascending=[True,False],inplace=True)"
   ]
  },
  {
   "cell_type": "code",
   "execution_count": 121,
   "id": "255dab17",
   "metadata": {},
   "outputs": [],
   "source": [
    "def get_item_embed_recommendation():\n",
    "    movie_name=input(\"Please enter your favorite Movie Title!.. \")\n",
    "    num_recommendations=int(input(\"Please enter the number of recommendations required!. \"))\n",
    "    results=item_embed_similarity.loc[item_embed_similarity.MovieID1_Title.str.contains(movie_name)]['MovieID2_Title'].values[:num_recommendations]\n",
    "    print()\n",
    "    printMovies(results)"
   ]
  },
  {
   "cell_type": "code",
   "execution_count": 133,
   "id": "8a3f133d",
   "metadata": {},
   "outputs": [
    {
     "name": "stdout",
     "output_type": "stream",
     "text": [
      "Please enter your favorite Movie Title!.. Home Alone\n",
      "Please enter the number of recommendations required!. 10\n",
      "\n",
      "********** The Recommended Movies **********\n",
      "Back to the Future Part II (1989)\n",
      "William Shakespeare's Romeo and Juliet (1996)\n",
      "Patriot, The (2000)\n",
      "Contender, The (2000)\n",
      "Mr. Smith Goes to Washington (1939)\n",
      "Days of Thunder (1990)\n",
      "Muppet Movie, The (1979)\n",
      "Matrix, The (1999)\n",
      "Misery (1990)\n",
      "Saving Private Ryan (1998)\n",
      "********************\n"
     ]
    }
   ],
   "source": [
    "get_item_embed_recommendation()"
   ]
  },
  {
   "cell_type": "code",
   "execution_count": 152,
   "id": "a27ad948",
   "metadata": {},
   "outputs": [
    {
     "name": "stdout",
     "output_type": "stream",
     "text": [
      "Please enter your favorite Movie Title!.. Toy Story\n",
      "Please enter the number of recommendations required!. 10\n",
      "\n",
      "********** The Recommended Movies **********\n",
      "Jaws 2 (1978)\n",
      "Parenthood (1989)\n",
      "Dumb & Dumber (1994)\n",
      "Liar Liar (1997)\n",
      "Universal Soldier (1992)\n",
      "Pinocchio (1940)\n",
      "Life Is Beautiful (La Vita è bella) (1997)\n",
      "Jungle Book, The (1967)\n",
      "Heat (1995)\n",
      "Interview with the Vampire (1994)\n",
      "********************\n"
     ]
    }
   ],
   "source": [
    "get_item_embed_recommendation()"
   ]
  },
  {
   "cell_type": "markdown",
   "id": "2e6d7c23",
   "metadata": {},
   "source": [
    "Similarly we can re-design the user-user based recommendation system by using this User embeddings"
   ]
  },
  {
   "cell_type": "markdown",
   "id": "a724c0fe",
   "metadata": {},
   "source": [
    "###### Few Questionnaires"
   ]
  },
  {
   "cell_type": "markdown",
   "id": "7a15fc8c",
   "metadata": {},
   "source": [
    "1. Users of which age group have watched and rated the most number of movies?"
   ]
  },
  {
   "cell_type": "code",
   "execution_count": 140,
   "id": "09f637b0",
   "metadata": {},
   "outputs": [
    {
     "data": {
      "image/png": "[encoded data removed]",
      "text/plain": [
       "<Figure size 1500x1000 with 1 Axes>"
      ]
     },
     "metadata": {},
     "output_type": "display_data"
    }
   ],
   "source": [
    "plt.figure(figsize=(15,10))\n",
    "ax=users_bfr_encode.Age.value_counts().plot(kind='bar')\n",
    "for patch in ax.patches:\n",
    "    ax.annotate(patch.get_height(),(patch.get_x()+0.2*patch.get_width(),patch.get_height()+10))\n",
    "plt.show()"
   ]
  },
  {
   "cell_type": "markdown",
   "id": "7d375377",
   "metadata": {},
   "source": [
    "Users in the age gap between 25 and 34 are the active users of the OTT platform."
   ]
  },
  {
   "cell_type": "markdown",
   "id": "6836d27d",
   "metadata": {},
   "source": [
    "2. Users belonging to which profession have watched and rated the most movies?"
   ]
  },
  {
   "cell_type": "markdown",
   "id": "43273629",
   "metadata": {},
   "source": [
    "- **College or Grad Students** are the users who have watched and rated most of the movies."
   ]
  },
  {
   "cell_type": "markdown",
   "id": "5bb9d353",
   "metadata": {},
   "source": [
    "3. Most of the users in our dataset who’ve rated the movies are Male. (T/F)"
   ]
  },
  {
   "cell_type": "code",
   "execution_count": 124,
   "id": "485d30b0",
   "metadata": {},
   "outputs": [
    {
     "data": {
      "image/png": "[encoded data removed]",
      "text/plain": [
       "<Figure size 640x480 with 1 Axes>"
      ]
     },
     "metadata": {},
     "output_type": "display_data"
    }
   ],
   "source": [
    "users.loc[ratings.UserID.unique()]['Gender'].map({1:\"Male\",0:\"Female\"}).value_counts().plot(kind='pie',autopct=\"%.2f\")\n",
    "plt.show()"
   ]
  },
  {
   "cell_type": "markdown",
   "id": "8df7c24b",
   "metadata": {},
   "source": [
    "Thus about 71.7% of the users are Male and about 28.3% of the users are Female's in the OTT application"
   ]
  },
  {
   "cell_type": "markdown",
   "id": "e58a273a",
   "metadata": {},
   "source": [
    "4. Most of the movies present in our dataset were released in which decade?"
   ]
  },
  {
   "cell_type": "code",
   "execution_count": 125,
   "id": "e2d12dde",
   "metadata": {},
   "outputs": [
    {
     "data": {
      "image/png": "[encoded data removed]",
      "text/plain": [
       "<Figure size 640x480 with 1 Axes>"
      ]
     },
     "metadata": {},
     "output_type": "display_data"
    }
   ],
   "source": [
    "ax=orig_movies.groupby('Decade')['Movie ID'].nunique().sort_values(ascending=False).plot(kind='bar')\n",
    "for patch in ax.patches:\n",
    "    ax.annotate(patch.get_height(),(patch.get_x()+(patch.get_width()*0.1),patch.get_height()+20))\n",
    "plt.show()"
   ]
  },
  {
   "cell_type": "markdown",
   "id": "f65a7048",
   "metadata": {},
   "source": [
    "We can see from the plot that most of the movies got released in the last decade ie: 1989-2000 which is the 90's"
   ]
  },
  {
   "cell_type": "markdown",
   "id": "f3d8e47f",
   "metadata": {},
   "source": [
    "5. The movie with maximum no. of ratings is ___"
   ]
  },
  {
   "cell_type": "code",
   "execution_count": 126,
   "id": "c545c1b8",
   "metadata": {},
   "outputs": [
    {
     "data": {
      "text/plain": [
       "MovieID\n",
       "2858    3428\n",
       "260     2991\n",
       "1196    2990\n",
       "1210    2883\n",
       "480     2672\n",
       "        ... \n",
       "2318     320\n",
       "69       319\n",
       "2819     319\n",
       "1769     319\n",
       "1031     319\n",
       "Name: UserID, Length: 1000, dtype: int64"
      ]
     },
     "execution_count": 126,
     "metadata": {},
     "output_type": "execute_result"
    }
   ],
   "source": [
    "ratings.groupby(\"MovieID\")['UserID'].nunique().sort_values(ascending=False)"
   ]
  },
  {
   "cell_type": "markdown",
   "id": "26c016bd",
   "metadata": {},
   "source": [
    "From the above series, it can be seen that the movie with maximum number of ratings is the Movie with MovieID \"2858\"."
   ]
  },
  {
   "cell_type": "code",
   "execution_count": 127,
   "id": "c03ef41d",
   "metadata": {},
   "outputs": [
    {
     "data": {
      "text/html": [
       "<div>\n",
       "<style scoped>\n",
       "    .dataframe tbody tr th:only-of-type {\n",
       "        vertical-align: middle;\n",
       "    }\n",
       "\n",
       "    .dataframe tbody tr th {\n",
       "        vertical-align: top;\n",
       "    }\n",
       "\n",
       "    .dataframe thead th {\n",
       "        text-align: right;\n",
       "    }\n",
       "</style>\n",
       "<table border=\"1\" class=\"dataframe\">\n",
       "  <thead>\n",
       "    <tr style=\"text-align: right;\">\n",
       "      <th></th>\n",
       "      <th>Movie ID</th>\n",
       "      <th>Title</th>\n",
       "      <th>Genres</th>\n",
       "      <th>Release year</th>\n",
       "      <th>Decade</th>\n",
       "    </tr>\n",
       "  </thead>\n",
       "  <tbody>\n",
       "    <tr>\n",
       "      <th>2789</th>\n",
       "      <td>2858</td>\n",
       "      <td>American Beauty (1999)</td>\n",
       "      <td>Comedy</td>\n",
       "      <td>1999.0</td>\n",
       "      <td>1989-2000</td>\n",
       "    </tr>\n",
       "    <tr>\n",
       "      <th>2789</th>\n",
       "      <td>2858</td>\n",
       "      <td>American Beauty (1999)</td>\n",
       "      <td>Drama</td>\n",
       "      <td>1999.0</td>\n",
       "      <td>1989-2000</td>\n",
       "    </tr>\n",
       "  </tbody>\n",
       "</table>\n",
       "</div>"
      ],
      "text/plain": [
       "      Movie ID                   Title  Genres  Release year     Decade\n",
       "2789      2858  American Beauty (1999)  Comedy        1999.0  1989-2000\n",
       "2789      2858  American Beauty (1999)   Drama        1999.0  1989-2000"
      ]
     },
     "execution_count": 127,
     "metadata": {},
     "output_type": "execute_result"
    }
   ],
   "source": [
    "orig_movies.loc[orig_movies['Movie ID']==2858]"
   ]
  },
  {
   "cell_type": "markdown",
   "id": "2021245d",
   "metadata": {},
   "source": [
    "Movie with the Movie ID 2858 is \"American Beauty\" which was released in the year 1999."
   ]
  },
  {
   "cell_type": "markdown",
   "id": "88a7e42b",
   "metadata": {},
   "source": [
    "6. Name the top 3 movies similar to ‘Liar Liar’ on the item-based approach."
   ]
  },
  {
   "cell_type": "code",
   "execution_count": 128,
   "id": "597ec74b",
   "metadata": {},
   "outputs": [
    {
     "name": "stdout",
     "output_type": "stream",
     "text": [
      "Please enter your favorite movie name :Liar Liar\n",
      "\n",
      "********** The Recommended Movies **********\n",
      "Ace Ventura: When Nature Calls (1995)\n",
      "Mighty Aphrodite (1995)\n",
      "Friday (1995)\n",
      "Happy Gilmore (1996)\n",
      "Birdcage, The (1996)\n",
      "Brothers McMullen, The (1995)\n",
      "Mallrats (1995)\n",
      "Billy Madison (1995)\n",
      "Clerks (1994)\n",
      "Dumb & Dumber (1994)\n",
      "********************\n"
     ]
    }
   ],
   "source": [
    "get_movie_item_recommendation()"
   ]
  },
  {
   "cell_type": "markdown",
   "id": "ed6b4565",
   "metadata": {},
   "source": [
    "The Top 3 Movies that are so much similar to Liar Liar is: <br>\n",
    "- Ace Ventura: When Nature Calls (1995)\n",
    "- Mighty Aphrodite (1995)\n",
    "- Friday (1995)"
   ]
  },
  {
   "cell_type": "markdown",
   "id": "606df70f",
   "metadata": {},
   "source": [
    "7. On the basis of approach, Collaborative Filtering methods can be classified into ___-based and ___-based."
   ]
  },
  {
   "cell_type": "markdown",
   "id": "39398b87",
   "metadata": {},
   "source": [
    "Ans::: On the context of Collaborative filtering, There are 2 major techniques. One is Item-based collaborative filtering and Second is User-based collaborative filtering."
   ]
  },
  {
   "cell_type": "markdown",
   "id": "cd46559a",
   "metadata": {},
   "source": [
    "8. Pearson Correlation ranges between ___ to ___ whereas, Cosine Similarity belongs to the interval between ___ to ___."
   ]
  },
  {
   "cell_type": "markdown",
   "id": "ef0249be",
   "metadata": {},
   "source": [
    "Ans::: Pearson correlation value ranges between -1 to +1 whereas, Cosine similarity value ranges between 0 and 1."
   ]
  },
  {
   "cell_type": "markdown",
   "id": "0501398a",
   "metadata": {},
   "source": [
    "9. Mention the RMSE and MAPE that you got while evaluating the Matrix Factorization model."
   ]
  },
  {
   "cell_type": "code",
   "execution_count": 129,
   "id": "1029af9b",
   "metadata": {},
   "outputs": [
    {
     "name": "stdout",
     "output_type": "stream",
     "text": [
      "****************************************\n",
      "The RMSE value is 1.1939955311815287\n",
      "The MAE value is 0.9735870214564843\n",
      "****************************************\n"
     ]
    }
   ],
   "source": [
    "printMetrics()"
   ]
  },
  {
   "cell_type": "markdown",
   "id": "cf720333",
   "metadata": {},
   "source": [
    "###### Pickle dumping all the necessary dataframe's to build the streamlit app"
   ]
  },
  {
   "cell_type": "code",
   "execution_count": 59,
   "id": "427cea21",
   "metadata": {},
   "outputs": [],
   "source": [
    "import pickle"
   ]
  },
  {
   "cell_type": "code",
   "execution_count": null,
   "id": "ef6fbe4a",
   "metadata": {},
   "outputs": [],
   "source": [
    "with open(\"Popular_movies.pkl\",\"wb\") as f:\n",
    "    pickle.dump(popular_movies,f)\n",
    "\n",
    "with open(\"Active_user_indices.pkl\",\"wb\") as f:\n",
    "    pickle.dump(active_user_index,f)\n",
    "    \n",
    "with open(\"User_details.pkl\",\"wb\") as f:\n",
    "    pickle.dump(users_bfr_encode,f)\n",
    "\n",
    "with open(\"Original_movies.pkl\",\"wb\") as file1:\n",
    "    pickle.dump(orig_movies,file1)    #Pickle file's for Item-based Recommendation system\n",
    "\n",
    "with open(\"Item_based_cosine.pkl\",\"wb\") as file2:\n",
    "    pickle.dump(item_sim_pv,file2)\n",
    "    \n",
    "with open(\"Item_based_pearson.pkl\",\"wb\") as file3:\n",
    "    pickle.dump(rankings,file3)\n",
    "\n",
    "with open(\"Interaction_MF.pkl\",\"wb\") as file4:\n",
    "    pickle.dump(interaction_cmplt,file4)  #Pickle file for User-based Recommendation system using Matrix Factorization."
   ]
  }
 ],
 "metadata": {
  "kernelspec": {
   "display_name": "Python 3 (ipykernel)",
   "language": "python",
   "name": "python3"
  },
  "language_info": {
   "codemirror_mode": {
    "name": "ipython",
    "version": 3
   },
   "file_extension": ".py",
   "mimetype": "text/x-python",
   "name": "python",
   "nbconvert_exporter": "python",
   "pygments_lexer": "ipython3",
   "version": "3.10.9"
  }
 },
 "nbformat": 4,
 "nbformat_minor": 5
}
